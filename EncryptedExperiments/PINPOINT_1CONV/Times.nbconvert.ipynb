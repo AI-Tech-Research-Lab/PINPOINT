{
 "cells": [
  {
   "cell_type": "code",
   "execution_count": 1,
   "metadata": {
    "colab": {
     "base_uri": "https://localhost:8080/"
    },
    "execution": {
     "iopub.execute_input": "2022-05-19T08:21:10.700923Z",
     "iopub.status.busy": "2022-05-19T08:21:10.698658Z",
     "iopub.status.idle": "2022-05-19T08:21:13.129384Z",
     "shell.execute_reply": "2022-05-19T08:21:13.127965Z"
    },
    "executionInfo": {
     "elapsed": 90153,
     "status": "ok",
     "timestamp": 1636668876961,
     "user": {
      "displayName": "Alessandro Falcetta",
      "photoUrl": "https://lh3.googleusercontent.com/a/default-user=s64",
      "userId": "13950768925623106818"
     },
     "user_tz": -60
    },
    "id": "W4D-K5EL2UGR",
    "outputId": "2a02af39-a3da-4740-f88d-5b34647c4351"
   },
   "outputs": [],
   "source": [
    "import pandas as pd\n",
    "import numpy as np\n",
    "\n",
    "from memory_profiler import profile\n",
    "\n",
    "from Pyfhel import Pyfhel, PyPtxt, PyCtxt\n",
    "\n",
    "import torch\n",
    "import torch.nn as nn\n",
    "\n",
    "import time\n",
    "import os\n",
    "import sys\n",
    "\n",
    "working_directory = \"/home/falcetta/PINPOINT_Secret\"\n",
    "\n",
    "device = \"cpu\"\n",
    "module_path = os.path.abspath(working_directory)\n",
    "sys.path.append(module_path) \n",
    "\n",
    "from pycrcnn.net_builder.encoded_net_builder_ts import build_from_pytorch\n",
    "from pycrcnn.crypto.crypto import encrypt_matrix, decrypt_matrix\n",
    "from train_utils import *\n",
    "\n",
    "from sklearn.preprocessing import MinMaxScaler\n",
    "\n",
    "from sklearn.metrics import mean_squared_error, mean_absolute_error"
   ]
  },
  {
   "cell_type": "markdown",
   "metadata": {},
   "source": [
    "# Models"
   ]
  },
  {
   "cell_type": "code",
   "execution_count": 2,
   "metadata": {
    "execution": {
     "iopub.execute_input": "2022-05-19T08:21:13.152217Z",
     "iopub.status.busy": "2022-05-19T08:21:13.150911Z",
     "iopub.status.idle": "2022-05-19T08:21:13.154613Z",
     "shell.execute_reply": "2022-05-19T08:21:13.153424Z"
    },
    "tags": []
   },
   "outputs": [],
   "source": [
    "class Square(torch.nn.Module):\n",
    "    def __init__(self):\n",
    "        super().__init__()\n",
    " \n",
    "    def forward(self, t):\n",
    "        return torch.pow(t, 2)\n",
    "\n",
    "class Cube(torch.nn.Module):\n",
    "    def __init__(self):\n",
    "        super().__init__()\n",
    " \n",
    "    def forward(self, t):\n",
    "        return torch.pow(t, 3)\n",
    "    \n",
    "class Printer(torch.nn.Module):\n",
    "    def __init__(self):\n",
    "        super().__init__()\n",
    "    \n",
    "    def forward(self, t):\n",
    "        # print(t)\n",
    "        print(t.shape)\n",
    "        return t\n",
    "\n",
    "\n",
    "class PINPOINT_1CONV(nn.Module):\n",
    "    def __init__(self, input_size, output_horizon):\n",
    "        super(PINPOINT_1CONV, self).__init__()\n",
    "\n",
    "        n_kernels_1 = 32\n",
    "        kernel_size_1 = 3\n",
    "        out_conv_1 = n_kernels_1 * (input_size - kernel_size_1 + 1)\n",
    "\n",
    "        self.main = nn.Sequential(           \n",
    "            nn.Conv1d(in_channels=1, out_channels=n_kernels_1, kernel_size=kernel_size_1),\n",
    "            Square(),\n",
    "            nn.Flatten(),      \n",
    "            \n",
    "            nn.Linear(out_conv_1, int(out_conv_1/2)), #use without avgpool\n",
    "            # nn.Linear(int(out_conv_1/2), output_horizon)   \n",
    "            nn.Linear(int(out_conv_1/2), int(out_conv_1/4)),\n",
    "            nn.Linear(int(out_conv_1/4), output_horizon)   \n",
    "        )\n",
    "\n",
    "    def forward(self, x):\n",
    "        out = self.main(x)\n",
    "        return out\n",
    "    \n",
    "    def __str__(self):\n",
    "        return \"PINPOINT_1CONV\"\n",
    "\n",
    "    \n",
    "class PINPOINT_2CONV(nn.Module):\n",
    "    def __init__(self, input_size, output_horizon):\n",
    "        super(PINPOINT_2CONV, self).__init__()\n",
    "        \n",
    "        n_kernels_1 = 16\n",
    "        n_kernels_2 = 32\n",
    "        kernel_size_1 = 5\n",
    "        kernel_size_2 = 3\n",
    "        \n",
    "        out_conv_1 = input_size - kernel_size_1 + 1\n",
    "        out_conv_2 = n_kernels_2 * (out_conv_1 - kernel_size_2 + 1)\n",
    "\n",
    "        self.main = nn.Sequential(           \n",
    "            nn.Conv1d(in_channels=1, out_channels=n_kernels_1, kernel_size=kernel_size_1),\n",
    "            Square(),\n",
    "            nn.Conv1d(in_channels=n_kernels_1, out_channels=n_kernels_2, kernel_size=kernel_size_2),\n",
    "            Square(),\n",
    "            nn.Flatten(),      \n",
    "            \n",
    "            nn.Linear(out_conv_2, int(out_conv_2/2)), #use without avgpool\n",
    "            # nn.Linear(int(out_conv_2/4), output_horizon)   \n",
    "            nn.Linear(int(out_conv_2/2), int(out_conv_2/4)),\n",
    "            nn.Linear(int(out_conv_2/4), output_horizon)   \n",
    "        )\n",
    "\n",
    "    def forward(self, x):\n",
    "        out = self.main(x)\n",
    "        return out\n",
    "    \n",
    "    def __str__(self):\n",
    "        return \"PINPOINT_2CONV\""
   ]
  },
  {
   "cell_type": "code",
   "execution_count": 3,
   "metadata": {
    "execution": {
     "iopub.execute_input": "2022-05-19T08:21:13.160765Z",
     "iopub.status.busy": "2022-05-19T08:21:13.159582Z",
     "iopub.status.idle": "2022-05-19T08:21:13.174751Z",
     "shell.execute_reply": "2022-05-19T08:21:13.173725Z"
    }
   },
   "outputs": [],
   "source": [
    "N_EXPERIMENTS = 10\n",
    "experiment_name = \"AirlinePassengers\"\n",
    "seq_length = 12\n",
    "forecast_horizon = 6\n",
    "model_class = \"PINPOINT_1CONV\""
   ]
  },
  {
   "cell_type": "code",
   "execution_count": 4,
   "metadata": {
    "execution": {
     "iopub.execute_input": "2022-05-19T08:21:17.354419Z",
     "iopub.status.busy": "2022-05-19T08:21:17.351711Z",
     "iopub.status.idle": "2022-05-19T08:21:17.360577Z",
     "shell.execute_reply": "2022-05-19T08:21:17.359383Z"
    }
   },
   "outputs": [],
   "source": [
    "model = torch.load(f\"{working_directory}/Experiments/models/{experiment_name}_{forecast_horizon}_{model_class}.pt\")"
   ]
  },
  {
   "cell_type": "code",
   "execution_count": null,
   "metadata": {},
   "outputs": [],
   "source": []
  },
  {
   "cell_type": "code",
   "execution_count": 5,
   "metadata": {
    "execution": {
     "iopub.execute_input": "2022-05-19T08:21:17.369063Z",
     "iopub.status.busy": "2022-05-19T08:21:17.367894Z",
     "iopub.status.idle": "2022-05-19T08:21:17.377627Z",
     "shell.execute_reply": "2022-05-19T08:21:17.378640Z"
    }
   },
   "outputs": [
    {
     "data": {
      "text/plain": [
       "PINPOINT_1CONV(\n",
       "  (main): Sequential(\n",
       "    (0): Conv1d(1, 32, kernel_size=(3,), stride=(1,))\n",
       "    (1): Square()\n",
       "    (2): Flatten(start_dim=1, end_dim=-1)\n",
       "    (3): Linear(in_features=320, out_features=160, bias=True)\n",
       "    (4): Linear(in_features=160, out_features=80, bias=True)\n",
       "    (5): Linear(in_features=80, out_features=6, bias=True)\n",
       "  )\n",
       ")"
      ]
     },
     "execution_count": 5,
     "metadata": {},
     "output_type": "execute_result"
    }
   ],
   "source": [
    "model"
   ]
  },
  {
   "cell_type": "code",
   "execution_count": 6,
   "metadata": {
    "execution": {
     "iopub.execute_input": "2022-05-19T08:21:17.386401Z",
     "iopub.status.busy": "2022-05-19T08:21:17.385522Z",
     "iopub.status.idle": "2022-05-19T08:21:17.390233Z",
     "shell.execute_reply": "2022-05-19T08:21:17.389257Z"
    }
   },
   "outputs": [],
   "source": [
    "model_input = np.array([[0.5] for _ in range(0, 12)]).reshape(1, 1, 12)"
   ]
  },
  {
   "cell_type": "code",
   "execution_count": 7,
   "metadata": {
    "execution": {
     "iopub.execute_input": "2022-05-19T08:21:17.400865Z",
     "iopub.status.busy": "2022-05-19T08:21:17.399649Z",
     "iopub.status.idle": "2022-05-19T08:21:17.450641Z",
     "shell.execute_reply": "2022-05-19T08:21:17.449389Z"
    }
   },
   "outputs": [],
   "source": [
    "times_plain = np.array([])\n",
    "model.eval()\n",
    "\n",
    "torch_input = torch.FloatTensor(model_input).cuda()\n",
    "\n",
    "for _ in range(0, N_EXPERIMENTS):\n",
    "    t0 = time.time()\n",
    "    with torch.set_grad_enabled(False):\n",
    "        expected_output = model(torch_input)\n",
    "\n",
    "    times_plain = np.append(times_plain, time.time()-t0)"
   ]
  },
  {
   "cell_type": "code",
   "execution_count": 8,
   "metadata": {
    "execution": {
     "iopub.execute_input": "2022-05-19T08:21:17.505078Z",
     "iopub.status.busy": "2022-05-19T08:21:17.503833Z",
     "iopub.status.idle": "2022-05-19T08:29:57.893944Z",
     "shell.execute_reply": "2022-05-19T08:29:57.892631Z"
    }
   },
   "outputs": [],
   "source": [
    "times_encrypted = np.array([])\n",
    "expected_output = expected_output.cpu()\n",
    "\n",
    "for i in range(0, N_EXPERIMENTS):\n",
    "\n",
    "    HE = Pyfhel()    \n",
    "    HE.contextGen(p=95337867, m=4096, intDigits=32, fracDigits=64) \n",
    "    HE.keyGen()\n",
    "    HE.relinKeyGen(30, 3)\n",
    "\n",
    "    encoded_model = build_from_pytorch(HE, model.cpu().main)\n",
    "    encrypted_input = encrypt_matrix(HE, model_input)\n",
    "\n",
    "    t0 = time.time()\n",
    "\n",
    "    for layer in encoded_model:\n",
    "        encrypted_input = layer(encrypted_input)\n",
    "\n",
    "    times_encrypted = np.append(times_encrypted, time.time()-t0)\n",
    "\n",
    "    result = decrypt_matrix(HE, encrypted_input)\n",
    "\n",
    "    assert np.allclose(expected_output.numpy(), result,\n",
    "                       rtol=1e-02, atol=1e-04)"
   ]
  },
  {
   "cell_type": "code",
   "execution_count": 9,
   "metadata": {
    "execution": {
     "iopub.execute_input": "2022-05-19T08:29:57.901723Z",
     "iopub.status.busy": "2022-05-19T08:29:57.900529Z",
     "iopub.status.idle": "2022-05-19T08:29:57.906556Z",
     "shell.execute_reply": "2022-05-19T08:29:57.905316Z"
    }
   },
   "outputs": [
    {
     "name": "stdout",
     "output_type": "stream",
     "text": [
      "Mean time requested over 10 (plain processing): 0.00\n",
      "Mean time requested over 10 (encrypted processing): 45.06\n"
     ]
    }
   ],
   "source": [
    "print(f\"Mean time requested over {N_EXPERIMENTS} (plain processing): {np.mean(times_plain):.2f}\")\n",
    "print(f\"Mean time requested over {N_EXPERIMENTS} (encrypted processing): {np.mean(times_encrypted):.2f}\")"
   ]
  },
  {
   "cell_type": "code",
   "execution_count": null,
   "metadata": {},
   "outputs": [],
   "source": []
  }
 ],
 "metadata": {
  "accelerator": "GPU",
  "colab": {
   "collapsed_sections": [],
   "name": "Copia di TS_Exercises2_Planned.ipynb",
   "provenance": [
    {
     "file_id": "1W1_DAqrdw9AQrIWwZLPsGMRA8xDBAjKM",
     "timestamp": 1636703056169
    }
   ],
   "toc_visible": true
  },
  "kernelspec": {
   "display_name": "PINPOINT",
   "language": "python",
   "name": "pinpoint"
  },
  "language_info": {
   "codemirror_mode": {
    "name": "ipython",
    "version": 3
   },
   "file_extension": ".py",
   "mimetype": "text/x-python",
   "name": "python",
   "nbconvert_exporter": "python",
   "pygments_lexer": "ipython3",
   "version": "3.8.10"
  }
 },
 "nbformat": 4,
 "nbformat_minor": 4
}
