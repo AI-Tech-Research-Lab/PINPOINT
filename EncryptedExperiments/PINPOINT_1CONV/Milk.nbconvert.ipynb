{
 "cells": [
  {
   "cell_type": "code",
   "execution_count": 1,
   "metadata": {
    "colab": {
     "base_uri": "https://localhost:8080/"
    },
    "execution": {
     "iopub.execute_input": "2022-05-17T21:38:47.105922Z",
     "iopub.status.busy": "2022-05-17T21:38:47.094289Z",
     "iopub.status.idle": "2022-05-17T21:38:49.461638Z",
     "shell.execute_reply": "2022-05-17T21:38:49.460221Z"
    },
    "executionInfo": {
     "elapsed": 90153,
     "status": "ok",
     "timestamp": 1636668876961,
     "user": {
      "displayName": "Alessandro Falcetta",
      "photoUrl": "https://lh3.googleusercontent.com/a/default-user=s64",
      "userId": "13950768925623106818"
     },
     "user_tz": -60
    },
    "id": "W4D-K5EL2UGR",
    "outputId": "2a02af39-a3da-4740-f88d-5b34647c4351"
   },
   "outputs": [],
   "source": [
    "import pandas as pd\n",
    "import numpy as np\n",
    "\n",
    "from memory_profiler import profile\n",
    "\n",
    "from Pyfhel import Pyfhel, PyPtxt, PyCtxt\n",
    "\n",
    "import torch\n",
    "import torch.nn as nn\n",
    "\n",
    "import time\n",
    "import os\n",
    "import sys\n",
    "\n",
    "working_directory = \"/home/falcetta/PINPOINT_Secret\"\n",
    "\n",
    "device = \"cpu\"\n",
    "module_path = os.path.abspath(working_directory)\n",
    "sys.path.append(module_path) \n",
    "\n",
    "from pycrcnn.net_builder.encoded_net_builder_ts import build_from_pytorch\n",
    "from pycrcnn.crypto.crypto import encrypt_matrix, decrypt_matrix\n",
    "from train_utils import *\n",
    "\n",
    "from sklearn.preprocessing import MinMaxScaler\n",
    "\n",
    "from sklearn.metrics import mean_squared_error, mean_absolute_error"
   ]
  },
  {
   "cell_type": "markdown",
   "metadata": {},
   "source": [
    "# Models"
   ]
  },
  {
   "cell_type": "code",
   "execution_count": 2,
   "metadata": {
    "execution": {
     "iopub.execute_input": "2022-05-17T21:38:49.479024Z",
     "iopub.status.busy": "2022-05-17T21:38:49.477735Z",
     "iopub.status.idle": "2022-05-17T21:38:49.481312Z",
     "shell.execute_reply": "2022-05-17T21:38:49.480204Z"
    },
    "tags": []
   },
   "outputs": [],
   "source": [
    "class Square(torch.nn.Module):\n",
    "    def __init__(self):\n",
    "        super().__init__()\n",
    " \n",
    "    def forward(self, t):\n",
    "        return torch.pow(t, 2)\n",
    "\n",
    "class Cube(torch.nn.Module):\n",
    "    def __init__(self):\n",
    "        super().__init__()\n",
    " \n",
    "    def forward(self, t):\n",
    "        return torch.pow(t, 3)\n",
    "    \n",
    "class Printer(torch.nn.Module):\n",
    "    def __init__(self):\n",
    "        super().__init__()\n",
    "    \n",
    "    def forward(self, t):\n",
    "        # print(t)\n",
    "        print(t.shape)\n",
    "        return t\n",
    "\n",
    "\n",
    "class PINPOINT_1CONV(nn.Module):\n",
    "    def __init__(self, input_size, output_horizon):\n",
    "        super(PINPOINT_1CONV, self).__init__()\n",
    "\n",
    "        n_kernels_1 = 32\n",
    "        kernel_size_1 = 3\n",
    "        out_conv_1 = n_kernels_1 * (input_size - kernel_size_1 + 1)\n",
    "\n",
    "        self.main = nn.Sequential(           \n",
    "            nn.Conv1d(in_channels=1, out_channels=n_kernels_1, kernel_size=kernel_size_1),\n",
    "            Square(),\n",
    "            nn.Flatten(),      \n",
    "            \n",
    "            nn.Linear(out_conv_1, int(out_conv_1/2)), #use without avgpool\n",
    "            # nn.Linear(int(out_conv_1/2), output_horizon)   \n",
    "            nn.Linear(int(out_conv_1/2), int(out_conv_1/4)),\n",
    "            nn.Linear(int(out_conv_1/4), output_horizon)   \n",
    "        )\n",
    "\n",
    "    def forward(self, x):\n",
    "        out = self.main(x)\n",
    "        return out\n",
    "    \n",
    "    def __str__(self):\n",
    "        return \"PINPOINT_1CONV\"\n",
    "\n",
    "    \n",
    "class PINPOINT_2CONV(nn.Module):\n",
    "    def __init__(self, input_size, output_horizon):\n",
    "        super(PINPOINT_2CONV, self).__init__()\n",
    "        \n",
    "        n_kernels_1 = 16\n",
    "        n_kernels_2 = 32\n",
    "        kernel_size_1 = 5\n",
    "        kernel_size_2 = 3\n",
    "        \n",
    "        out_conv_1 = input_size - kernel_size_1 + 1\n",
    "        out_conv_2 = n_kernels_2 * (out_conv_1 - kernel_size_2 + 1)\n",
    "\n",
    "        self.main = nn.Sequential(           \n",
    "            nn.Conv1d(in_channels=1, out_channels=n_kernels_1, kernel_size=kernel_size_1),\n",
    "            Square(),\n",
    "            nn.Conv1d(in_channels=n_kernels_1, out_channels=n_kernels_2, kernel_size=kernel_size_2),\n",
    "            Square(),\n",
    "            nn.Flatten(),      \n",
    "            \n",
    "            nn.Linear(out_conv_2, int(out_conv_2/2)), #use without avgpool\n",
    "            # nn.Linear(int(out_conv_2/4), output_horizon)   \n",
    "            nn.Linear(int(out_conv_2/2), int(out_conv_2/4)),\n",
    "            nn.Linear(int(out_conv_2/4), output_horizon)   \n",
    "        )\n",
    "\n",
    "    def forward(self, x):\n",
    "        out = self.main(x)\n",
    "        return out\n",
    "    \n",
    "    def __str__(self):\n",
    "        return \"PINPOINT_2CONV\""
   ]
  },
  {
   "cell_type": "code",
   "execution_count": 3,
   "metadata": {
    "execution": {
     "iopub.execute_input": "2022-05-17T21:38:49.487810Z",
     "iopub.status.busy": "2022-05-17T21:38:49.486620Z",
     "iopub.status.idle": "2022-05-17T21:38:49.502779Z",
     "shell.execute_reply": "2022-05-17T21:38:49.501533Z"
    }
   },
   "outputs": [],
   "source": [
    "experiment_name = \"Milk\"\n",
    "seq_length = 12\n",
    "forecast_horizon = 6\n",
    "model_class = \"PINPOINT_1CONV\""
   ]
  },
  {
   "cell_type": "code",
   "execution_count": 4,
   "metadata": {
    "execution": {
     "iopub.execute_input": "2022-05-17T21:38:52.883005Z",
     "iopub.status.busy": "2022-05-17T21:38:49.593633Z",
     "iopub.status.idle": "2022-05-17T21:38:52.888265Z",
     "shell.execute_reply": "2022-05-17T21:38:52.887039Z"
    }
   },
   "outputs": [],
   "source": [
    "model = torch.load(f\"{working_directory}/Experiments/models/{experiment_name}_{forecast_horizon}_{model_class}.pt\")"
   ]
  },
  {
   "cell_type": "code",
   "execution_count": 5,
   "metadata": {
    "execution": {
     "iopub.execute_input": "2022-05-17T21:38:52.899512Z",
     "iopub.status.busy": "2022-05-17T21:38:52.898274Z",
     "iopub.status.idle": "2022-05-17T21:38:52.906098Z",
     "shell.execute_reply": "2022-05-17T21:38:52.906898Z"
    }
   },
   "outputs": [
    {
     "data": {
      "text/plain": [
       "PINPOINT_1CONV(\n",
       "  (main): Sequential(\n",
       "    (0): Conv1d(1, 32, kernel_size=(3,), stride=(1,))\n",
       "    (1): Square()\n",
       "    (2): Flatten(start_dim=1, end_dim=-1)\n",
       "    (3): Linear(in_features=320, out_features=160, bias=True)\n",
       "    (4): Linear(in_features=160, out_features=80, bias=True)\n",
       "    (5): Linear(in_features=80, out_features=6, bias=True)\n",
       "  )\n",
       ")"
      ]
     },
     "execution_count": 5,
     "metadata": {},
     "output_type": "execute_result"
    }
   ],
   "source": [
    "model"
   ]
  },
  {
   "cell_type": "markdown",
   "metadata": {},
   "source": [
    "# Dataset"
   ]
  },
  {
   "cell_type": "code",
   "execution_count": 6,
   "metadata": {
    "execution": {
     "iopub.execute_input": "2022-05-17T21:38:52.928348Z",
     "iopub.status.busy": "2022-05-17T21:38:52.927134Z",
     "iopub.status.idle": "2022-05-17T21:38:52.933980Z",
     "shell.execute_reply": "2022-05-17T21:38:52.932744Z"
    }
   },
   "outputs": [
    {
     "name": "stdout",
     "output_type": "stream",
     "text": [
      "Month\n",
      "1962-01-01    589\n",
      "1962-02-01    561\n",
      "1962-03-01    640\n",
      "1962-04-01    656\n",
      "1962-05-01    727\n",
      "             ... \n",
      "1974-04-01    902\n",
      "1974-05-01    969\n",
      "1974-06-01    947\n",
      "1974-07-01    908\n",
      "1974-08-01    867\n",
      "Freq: MS, Name: Production, Length: 152, dtype: int64\n",
      "Month\n",
      "1974-09-01    815\n",
      "1974-10-01    812\n",
      "1974-11-01    773\n",
      "1974-12-01    813\n",
      "1975-01-01    834\n",
      "1975-02-01    782\n",
      "1975-03-01    892\n",
      "1975-04-01    903\n",
      "1975-05-01    966\n",
      "1975-06-01    937\n",
      "1975-07-01    896\n",
      "1975-08-01    858\n",
      "1975-09-01    817\n",
      "1975-10-01    827\n",
      "1975-11-01    797\n",
      "1975-12-01    843\n",
      "Freq: MS, Name: Production, dtype: int64\n"
     ]
    }
   ],
   "source": [
    "milk_production = milk_production = pd.read_csv(f\"{working_directory}/data/monthly-milk-production.csv\", parse_dates=[\"Month\"], index_col=\"Month\")\n",
    "milk_production = milk_production.loc[:, 'Production']\n",
    "milk_production.index.freq = 'MS'\n",
    "entire_ts = milk_production\n",
    "train = milk_production.loc[:pd.Timestamp(\"1974-01-01\")]\n",
    "validation_length = int(0.05 * len(train))\n",
    "validation = entire_ts.loc[train.index[-1] + entire_ts.index.freq:train.index[-1] + validation_length * entire_ts.index.freq]\n",
    "test = entire_ts.loc[validation.index[-1] + entire_ts.index.freq:]\n",
    "plot_name = \"Monthly milk production\"\n",
    "yaxis_name = \"Production\"\n",
    "\n",
    "train = train.append(validation)\n",
    "\n",
    "print(train)\n",
    "print(test)"
   ]
  },
  {
   "cell_type": "markdown",
   "metadata": {},
   "source": [
    "# Expected outputs"
   ]
  },
  {
   "cell_type": "code",
   "execution_count": 7,
   "metadata": {
    "execution": {
     "iopub.execute_input": "2022-05-17T21:38:52.946755Z",
     "iopub.status.busy": "2022-05-17T21:38:52.945518Z",
     "iopub.status.idle": "2022-05-17T21:38:52.998838Z",
     "shell.execute_reply": "2022-05-17T21:38:52.997594Z"
    }
   },
   "outputs": [],
   "source": [
    "expected_output = []\n",
    "\n",
    "scaler = MinMaxScaler(feature_range=(-1, 1))\n",
    "_ = scaler.fit_transform(train.values.reshape(-1, 1))\n",
    "\n",
    "_train = train.copy()\n",
    "_test = test.copy()\n",
    "\n",
    "forecast = np.array([])\n",
    "\n",
    "for i in range(0, int(len(_test) / forecast_horizon) + 1):\n",
    "    model.eval()\n",
    "\n",
    "    inputs = _train.values.reshape(len(_train), 1)\n",
    "\n",
    "    inputs_normalized = scaler.transform(inputs)\n",
    "    inputs_normalized = torch.FloatTensor(inputs_normalized[-seq_length:]).to(device)\n",
    "\n",
    "    predict = model(inputs_normalized.reshape(1, 1, seq_length))\n",
    "    predict = scaler.inverse_transform(predict.cpu().detach().numpy())\n",
    "    forecast = np.append(forecast, predict)\n",
    "\n",
    "    for j in range(0, forecast_horizon):\n",
    "        if len(_test) > 0:\n",
    "            _train[_train.index[-1] + train.index.freq] = _test.iloc[0]\n",
    "            _test = _test.iloc[1:]\n",
    "\n",
    "expected_output = pd.Series(data=forecast[:len(test)], index=test.index)"
   ]
  },
  {
   "cell_type": "code",
   "execution_count": 8,
   "metadata": {
    "execution": {
     "iopub.execute_input": "2022-05-17T21:38:53.006814Z",
     "iopub.status.busy": "2022-05-17T21:38:53.005611Z",
     "iopub.status.idle": "2022-05-17T21:38:53.011166Z",
     "shell.execute_reply": "2022-05-17T21:38:53.010033Z"
    }
   },
   "outputs": [
    {
     "data": {
      "text/plain": [
       "Month\n",
       "1974-09-01    808.872681\n",
       "1974-10-01    824.148193\n",
       "1974-11-01    781.888733\n",
       "1974-12-01    824.650635\n",
       "1975-01-01    841.051392\n",
       "1975-02-01    788.206177\n",
       "1975-03-01    883.627075\n",
       "1975-04-01    898.702271\n",
       "1975-05-01    965.000732\n",
       "1975-06-01    945.906128\n",
       "1975-07-01    914.379272\n",
       "1975-08-01    870.262451\n",
       "1975-09-01    802.212280\n",
       "1975-10-01    812.074097\n",
       "1975-11-01    768.033142\n",
       "1975-12-01    808.104553\n",
       "Freq: MS, dtype: float64"
      ]
     },
     "execution_count": 8,
     "metadata": {},
     "output_type": "execute_result"
    }
   ],
   "source": [
    "expected_output"
   ]
  },
  {
   "cell_type": "code",
   "execution_count": 9,
   "metadata": {
    "execution": {
     "iopub.execute_input": "2022-05-17T21:38:53.019183Z",
     "iopub.status.busy": "2022-05-17T21:38:53.017985Z",
     "iopub.status.idle": "2022-05-17T21:38:53.022997Z",
     "shell.execute_reply": "2022-05-17T21:38:53.021958Z"
    },
    "tags": []
   },
   "outputs": [
    {
     "name": "stdout",
     "output_type": "stream",
     "text": [
      "Milk\n",
      "MAE of model PINPOINT_1CONV, forecast horizon: 6: 12.43\n"
     ]
    }
   ],
   "source": [
    "print(experiment_name)\n",
    "print(f\"MAE of model {model}, forecast horizon: {forecast_horizon}: {round(mean_absolute_error(test, expected_output), 2)}\")"
   ]
  },
  {
   "cell_type": "markdown",
   "metadata": {
    "tags": []
   },
   "source": [
    "## Encode the models"
   ]
  },
  {
   "cell_type": "code",
   "execution_count": 10,
   "metadata": {
    "execution": {
     "iopub.execute_input": "2022-05-17T21:38:53.446679Z",
     "iopub.status.busy": "2022-05-17T21:38:53.445417Z",
     "iopub.status.idle": "2022-05-17T21:39:05.453834Z",
     "shell.execute_reply": "2022-05-17T21:39:05.452547Z"
    },
    "tags": []
   },
   "outputs": [],
   "source": [
    "HE = Pyfhel()    \n",
    "HE.contextGen(p=95337867, m=4096, intDigits=16, fracDigits=128) \n",
    "HE.keyGen()\n",
    "HE.relinKeyGen(30, 3)\n",
    "\n",
    "encoded_model = build_from_pytorch(HE, model.cpu().main)"
   ]
  },
  {
   "cell_type": "markdown",
   "metadata": {
    "tags": []
   },
   "source": [
    "# Encrypted processing"
   ]
  },
  {
   "cell_type": "code",
   "execution_count": 11,
   "metadata": {
    "execution": {
     "iopub.execute_input": "2022-05-17T21:39:05.781614Z",
     "iopub.status.busy": "2022-05-17T21:39:05.775108Z",
     "iopub.status.idle": "2022-05-17T21:41:21.881361Z",
     "shell.execute_reply": "2022-05-17T21:41:21.880088Z"
    },
    "tags": []
   },
   "outputs": [],
   "source": [
    "decrypted_output = None\n",
    "\n",
    "scaler = MinMaxScaler(feature_range=(-1, 1))\n",
    "_ = scaler.fit_transform(train.values.reshape(-1, 1))\n",
    "\n",
    "_train = train.copy()\n",
    "_test = test.copy()\n",
    "\n",
    "forecast = np.array([])\n",
    "\n",
    "for i in range(0, int(len(_test) / forecast_horizon) + 1):\n",
    "    inputs = _train.values.reshape(len(_train), 1)\n",
    "\n",
    "    inputs_normalized = scaler.transform(inputs)\n",
    "    inputs_normalized = inputs_normalized[-seq_length:].reshape(1, 1, seq_length)\n",
    "\n",
    "    encrypted_input = encrypt_matrix(HE, inputs_normalized)\n",
    "\n",
    "    for layer in encoded_model:\n",
    "        encrypted_input = layer(encrypted_input)\n",
    "    \n",
    "    _min = HE.encodeFrac(scaler.min_[0])\n",
    "    _scale = HE.encodeFrac(1.0 / scaler.scale_[0])\n",
    "    \n",
    "    encrypted_input = [list(map(lambda x: (x - _min)*_scale, encrypted_input[0]))]\n",
    "    predict = decrypt_matrix(HE, encrypted_input)\n",
    "\n",
    "    forecast = np.append(forecast, predict)\n",
    "\n",
    "    for j in range(0, forecast_horizon):\n",
    "        if len(_test) > 0:\n",
    "            _train[_train.index[-1] + train.index.freq] = _test.iloc[0]\n",
    "            _test = _test.iloc[1:]\n",
    "\n",
    "decrypted_output = pd.Series(data=forecast[:len(test)], index=test.index)"
   ]
  },
  {
   "cell_type": "code",
   "execution_count": 12,
   "metadata": {
    "execution": {
     "iopub.execute_input": "2022-05-17T21:41:21.890176Z",
     "iopub.status.busy": "2022-05-17T21:41:21.888963Z",
     "iopub.status.idle": "2022-05-17T21:41:21.895312Z",
     "shell.execute_reply": "2022-05-17T21:41:21.894105Z"
    }
   },
   "outputs": [
    {
     "data": {
      "text/plain": [
       "Month\n",
       "1974-09-01    808.872681\n",
       "1974-10-01    824.148193\n",
       "1974-11-01    781.888733\n",
       "1974-12-01    824.650635\n",
       "1975-01-01    841.051392\n",
       "1975-02-01    788.206177\n",
       "1975-03-01    883.627075\n",
       "1975-04-01    898.702271\n",
       "1975-05-01    965.000732\n",
       "1975-06-01    945.906128\n",
       "1975-07-01    914.379272\n",
       "1975-08-01    870.262451\n",
       "1975-09-01    802.212280\n",
       "1975-10-01    812.074097\n",
       "1975-11-01    768.033142\n",
       "1975-12-01    808.104553\n",
       "Freq: MS, dtype: float64"
      ]
     },
     "execution_count": 12,
     "metadata": {},
     "output_type": "execute_result"
    }
   ],
   "source": [
    "expected_output"
   ]
  },
  {
   "cell_type": "code",
   "execution_count": 13,
   "metadata": {
    "execution": {
     "iopub.execute_input": "2022-05-17T21:41:21.903529Z",
     "iopub.status.busy": "2022-05-17T21:41:21.902343Z",
     "iopub.status.idle": "2022-05-17T21:41:21.908514Z",
     "shell.execute_reply": "2022-05-17T21:41:21.907303Z"
    }
   },
   "outputs": [
    {
     "data": {
      "text/plain": [
       "Month\n",
       "1974-09-01    807.414847\n",
       "1974-10-01    822.679173\n",
       "1974-11-01    781.146261\n",
       "1974-12-01    823.897226\n",
       "1975-01-01    839.514332\n",
       "1975-02-01    787.863239\n",
       "1975-03-01    883.257121\n",
       "1975-04-01    898.626590\n",
       "1975-05-01    963.430923\n",
       "1975-06-01    944.347030\n",
       "1975-07-01    913.620757\n",
       "1975-08-01    868.762582\n",
       "1975-09-01    800.771584\n",
       "1975-10-01    811.336606\n",
       "1975-11-01    767.298736\n",
       "1975-12-01    807.346835\n",
       "Freq: MS, dtype: float64"
      ]
     },
     "execution_count": 13,
     "metadata": {},
     "output_type": "execute_result"
    }
   ],
   "source": [
    "decrypted_output"
   ]
  },
  {
   "cell_type": "code",
   "execution_count": 14,
   "metadata": {
    "execution": {
     "iopub.execute_input": "2022-05-17T21:41:21.918420Z",
     "iopub.status.busy": "2022-05-17T21:41:21.917195Z",
     "iopub.status.idle": "2022-05-17T21:41:21.923489Z",
     "shell.execute_reply": "2022-05-17T21:41:21.922496Z"
    }
   },
   "outputs": [
    {
     "name": "stdout",
     "output_type": "stream",
     "text": [
      "MAE of model PINPOINT_1CONV, forecast horizon: 6: 12.43\n",
      "MAE of model PINPOINT_1CONV used on encrypted inputs, forecast horizon: 6: 12.33\n"
     ]
    }
   ],
   "source": [
    "print(f\"MAE of model {model}, forecast horizon: {forecast_horizon}: {round(mean_absolute_error(test, expected_output), 2)}\")\n",
    "print(f\"MAE of model {model} used on encrypted inputs, forecast horizon: {forecast_horizon}: {round(mean_absolute_error(test, decrypted_output), 2)}\")"
   ]
  },
  {
   "cell_type": "markdown",
   "metadata": {},
   "source": [
    "Difference between expected and obtained on encrypted data:"
   ]
  },
  {
   "cell_type": "code",
   "execution_count": 15,
   "metadata": {
    "execution": {
     "iopub.execute_input": "2022-05-17T21:41:21.933602Z",
     "iopub.status.busy": "2022-05-17T21:41:21.932545Z",
     "iopub.status.idle": "2022-05-17T21:41:21.938719Z",
     "shell.execute_reply": "2022-05-17T21:41:21.937705Z"
    }
   },
   "outputs": [
    {
     "name": "stdout",
     "output_type": "stream",
     "text": [
      "Month\n",
      "1974-09-01    1.457834\n",
      "1974-10-01    1.469020\n",
      "1974-11-01    0.742472\n",
      "1974-12-01    0.753408\n",
      "1975-01-01    1.537060\n",
      "1975-02-01    0.342938\n",
      "1975-03-01    0.369955\n",
      "1975-04-01    0.075681\n",
      "1975-05-01    1.569810\n",
      "1975-06-01    1.559098\n",
      "1975-07-01    0.758515\n",
      "1975-08-01    1.499869\n",
      "1975-09-01    1.440696\n",
      "1975-10-01    0.737491\n",
      "1975-11-01    0.734406\n",
      "1975-12-01    0.757718\n",
      "Freq: MS, dtype: float64\n"
     ]
    }
   ],
   "source": [
    "print(expected_output - decrypted_output)"
   ]
  },
  {
   "cell_type": "code",
   "execution_count": null,
   "metadata": {},
   "outputs": [],
   "source": []
  }
 ],
 "metadata": {
  "accelerator": "GPU",
  "colab": {
   "collapsed_sections": [],
   "name": "Copia di TS_Exercises2_Planned.ipynb",
   "provenance": [
    {
     "file_id": "1W1_DAqrdw9AQrIWwZLPsGMRA8xDBAjKM",
     "timestamp": 1636703056169
    }
   ],
   "toc_visible": true
  },
  "kernelspec": {
   "display_name": "PINPOINT",
   "language": "python",
   "name": "pinpoint"
  },
  "language_info": {
   "codemirror_mode": {
    "name": "ipython",
    "version": 3
   },
   "file_extension": ".py",
   "mimetype": "text/x-python",
   "name": "python",
   "nbconvert_exporter": "python",
   "pygments_lexer": "ipython3",
   "version": "3.8.10"
  }
 },
 "nbformat": 4,
 "nbformat_minor": 4
}
