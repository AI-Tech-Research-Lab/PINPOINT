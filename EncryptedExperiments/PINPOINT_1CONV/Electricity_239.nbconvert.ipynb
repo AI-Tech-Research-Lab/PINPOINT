{
 "cells": [
  {
   "cell_type": "code",
   "execution_count": 1,
   "metadata": {
    "colab": {
     "base_uri": "https://localhost:8080/"
    },
    "execution": {
     "iopub.execute_input": "2022-05-17T21:44:31.735018Z",
     "iopub.status.busy": "2022-05-17T21:44:31.733592Z",
     "iopub.status.idle": "2022-05-17T21:44:34.164484Z",
     "shell.execute_reply": "2022-05-17T21:44:34.163119Z"
    },
    "executionInfo": {
     "elapsed": 90153,
     "status": "ok",
     "timestamp": 1636668876961,
     "user": {
      "displayName": "Alessandro Falcetta",
      "photoUrl": "https://lh3.googleusercontent.com/a/default-user=s64",
      "userId": "13950768925623106818"
     },
     "user_tz": -60
    },
    "id": "W4D-K5EL2UGR",
    "outputId": "2a02af39-a3da-4740-f88d-5b34647c4351"
   },
   "outputs": [],
   "source": [
    "import pandas as pd\n",
    "import numpy as np\n",
    "\n",
    "from memory_profiler import profile\n",
    "\n",
    "from Pyfhel import Pyfhel, PyPtxt, PyCtxt\n",
    "\n",
    "import torch\n",
    "import torch.nn as nn\n",
    "\n",
    "import time\n",
    "import os\n",
    "import sys\n",
    "\n",
    "working_directory = \"/home/falcetta/PINPOINT_Secret\"\n",
    "\n",
    "device = \"cpu\"\n",
    "module_path = os.path.abspath(working_directory)\n",
    "sys.path.append(module_path) \n",
    "\n",
    "from pycrcnn.net_builder.encoded_net_builder_ts import build_from_pytorch\n",
    "from pycrcnn.crypto.crypto import encrypt_matrix, decrypt_matrix\n",
    "from train_utils import *\n",
    "\n",
    "from sklearn.preprocessing import MinMaxScaler\n",
    "\n",
    "from sklearn.metrics import mean_squared_error, mean_absolute_error"
   ]
  },
  {
   "cell_type": "markdown",
   "metadata": {},
   "source": [
    "# Models"
   ]
  },
  {
   "cell_type": "code",
   "execution_count": 2,
   "metadata": {
    "execution": {
     "iopub.execute_input": "2022-05-17T21:44:34.183220Z",
     "iopub.status.busy": "2022-05-17T21:44:34.181976Z",
     "iopub.status.idle": "2022-05-17T21:44:34.186390Z",
     "shell.execute_reply": "2022-05-17T21:44:34.185157Z"
    },
    "tags": []
   },
   "outputs": [],
   "source": [
    "class Square(torch.nn.Module):\n",
    "    def __init__(self):\n",
    "        super().__init__()\n",
    " \n",
    "    def forward(self, t):\n",
    "        return torch.pow(t, 2)\n",
    "\n",
    "class Cube(torch.nn.Module):\n",
    "    def __init__(self):\n",
    "        super().__init__()\n",
    " \n",
    "    def forward(self, t):\n",
    "        return torch.pow(t, 3)\n",
    "    \n",
    "class Printer(torch.nn.Module):\n",
    "    def __init__(self):\n",
    "        super().__init__()\n",
    "    \n",
    "    def forward(self, t):\n",
    "        # print(t)\n",
    "        print(t.shape)\n",
    "        return t\n",
    "\n",
    "\n",
    "class PINPOINT_1CONV(nn.Module):\n",
    "    def __init__(self, input_size, output_horizon):\n",
    "        super(PINPOINT_1CONV, self).__init__()\n",
    "\n",
    "        n_kernels_1 = 32\n",
    "        kernel_size_1 = 3\n",
    "        out_conv_1 = n_kernels_1 * (input_size - kernel_size_1 + 1)\n",
    "\n",
    "        self.main = nn.Sequential(           \n",
    "            nn.Conv1d(in_channels=1, out_channels=n_kernels_1, kernel_size=kernel_size_1),\n",
    "            Square(),\n",
    "            nn.Flatten(),      \n",
    "            \n",
    "            nn.Linear(out_conv_1, int(out_conv_1/2)), #use without avgpool\n",
    "            # nn.Linear(int(out_conv_1/2), output_horizon)   \n",
    "            nn.Linear(int(out_conv_1/2), int(out_conv_1/4)),\n",
    "            nn.Linear(int(out_conv_1/4), output_horizon)   \n",
    "        )\n",
    "\n",
    "    def forward(self, x):\n",
    "        out = self.main(x)\n",
    "        return out\n",
    "    \n",
    "    def __str__(self):\n",
    "        return \"PINPOINT_1CONV\"\n",
    "\n",
    "    \n",
    "class PINPOINT_2CONV(nn.Module):\n",
    "    def __init__(self, input_size, output_horizon):\n",
    "        super(PINPOINT_2CONV, self).__init__()\n",
    "        \n",
    "        n_kernels_1 = 16\n",
    "        n_kernels_2 = 32\n",
    "        kernel_size_1 = 5\n",
    "        kernel_size_2 = 3\n",
    "        \n",
    "        out_conv_1 = input_size - kernel_size_1 + 1\n",
    "        out_conv_2 = n_kernels_2 * (out_conv_1 - kernel_size_2 + 1)\n",
    "\n",
    "        self.main = nn.Sequential(           \n",
    "            nn.Conv1d(in_channels=1, out_channels=n_kernels_1, kernel_size=kernel_size_1),\n",
    "            Square(),\n",
    "            nn.Conv1d(in_channels=n_kernels_1, out_channels=n_kernels_2, kernel_size=kernel_size_2),\n",
    "            Square(),\n",
    "            nn.Flatten(),      \n",
    "            \n",
    "            nn.Linear(out_conv_2, int(out_conv_2/2)), #use without avgpool\n",
    "            # nn.Linear(int(out_conv_2/4), output_horizon)   \n",
    "            nn.Linear(int(out_conv_2/2), int(out_conv_2/4)),\n",
    "            nn.Linear(int(out_conv_2/4), output_horizon)   \n",
    "        )\n",
    "\n",
    "    def forward(self, x):\n",
    "        out = self.main(x)\n",
    "        return out\n",
    "    \n",
    "    def __str__(self):\n",
    "        return \"PINPOINT_2CONV\""
   ]
  },
  {
   "cell_type": "code",
   "execution_count": 3,
   "metadata": {
    "execution": {
     "iopub.execute_input": "2022-05-17T21:44:34.192569Z",
     "iopub.status.busy": "2022-05-17T21:44:34.191383Z",
     "iopub.status.idle": "2022-05-17T21:44:34.218498Z",
     "shell.execute_reply": "2022-05-17T21:44:34.217458Z"
    }
   },
   "outputs": [],
   "source": [
    "experiment_name = \"Electricity_239\"\n",
    "seq_length = 14\n",
    "forecast_horizon = 7\n",
    "model_class = \"PINPOINT_1CONV\""
   ]
  },
  {
   "cell_type": "code",
   "execution_count": 4,
   "metadata": {
    "execution": {
     "iopub.execute_input": "2022-05-17T21:44:38.585116Z",
     "iopub.status.busy": "2022-05-17T21:44:38.582255Z",
     "iopub.status.idle": "2022-05-17T21:44:38.591152Z",
     "shell.execute_reply": "2022-05-17T21:44:38.589922Z"
    }
   },
   "outputs": [],
   "source": [
    "model = torch.load(f\"{working_directory}/Experiments/models/{experiment_name}_{forecast_horizon}_{model_class}.pt\")"
   ]
  },
  {
   "cell_type": "code",
   "execution_count": 5,
   "metadata": {
    "execution": {
     "iopub.execute_input": "2022-05-17T21:44:38.600376Z",
     "iopub.status.busy": "2022-05-17T21:44:38.599203Z",
     "iopub.status.idle": "2022-05-17T21:44:38.606771Z",
     "shell.execute_reply": "2022-05-17T21:44:38.607778Z"
    }
   },
   "outputs": [
    {
     "data": {
      "text/plain": [
       "PINPOINT_1CONV(\n",
       "  (main): Sequential(\n",
       "    (0): Conv1d(1, 32, kernel_size=(3,), stride=(1,))\n",
       "    (1): Square()\n",
       "    (2): Flatten(start_dim=1, end_dim=-1)\n",
       "    (3): Linear(in_features=384, out_features=192, bias=True)\n",
       "    (4): Linear(in_features=192, out_features=96, bias=True)\n",
       "    (5): Linear(in_features=96, out_features=7, bias=True)\n",
       "  )\n",
       ")"
      ]
     },
     "execution_count": 5,
     "metadata": {},
     "output_type": "execute_result"
    }
   ],
   "source": [
    "model"
   ]
  },
  {
   "cell_type": "markdown",
   "metadata": {},
   "source": [
    "# Dataset"
   ]
  },
  {
   "cell_type": "code",
   "execution_count": 6,
   "metadata": {
    "execution": {
     "iopub.execute_input": "2022-05-17T21:44:38.630175Z",
     "iopub.status.busy": "2022-05-17T21:44:38.618757Z",
     "iopub.status.idle": "2022-05-17T21:44:38.634537Z",
     "shell.execute_reply": "2022-05-17T21:44:38.633331Z"
    }
   },
   "outputs": [
    {
     "name": "stdout",
     "output_type": "stream",
     "text": [
      "Date\n",
      "2011-01-01     59.752835\n",
      "2011-01-02    110.731846\n",
      "2011-01-03    111.813538\n",
      "2011-01-04    114.742263\n",
      "2011-01-05    116.618770\n",
      "                 ...    \n",
      "2014-02-20    107.251306\n",
      "2014-02-21    105.136572\n",
      "2014-02-22    110.629857\n",
      "2014-02-23    109.096162\n",
      "2014-02-24    104.642032\n",
      "Freq: D, Name: MT_239, Length: 1151, dtype: float64\n",
      "Date\n",
      "2014-02-25    106.799638\n",
      "2014-02-26    102.126876\n",
      "2014-02-27    105.500151\n",
      "2014-02-28    106.671356\n",
      "2014-03-01    109.906803\n",
      "                 ...    \n",
      "2014-12-28    100.287714\n",
      "2014-12-29    100.261170\n",
      "2014-12-30    105.631950\n",
      "2014-12-31     98.486066\n",
      "2015-01-01     49.268489\n",
      "Freq: D, Name: MT_239, Length: 311, dtype: float64\n"
     ]
    }
   ],
   "source": [
    "df = pd.read_csv(f\"{working_directory}/data/Sensor_MT_239.csv\", parse_dates=['Date'], index_col='Date')\n",
    "df = df.iloc[:, 0]\n",
    "df.index.freq = 'D'\n",
    "entire_ts = df\n",
    "\n",
    "train = entire_ts.loc[:pd.Timestamp(\"2014-01-01\")]\n",
    "validation_length = int(0.05 * len(train))\n",
    "validation = entire_ts.loc[train.index[-1] + entire_ts.index.freq:train.index[-1] + validation_length * entire_ts.index.freq]\n",
    "test = entire_ts.loc[validation.index[-1] + entire_ts.index.freq:]\n",
    "\n",
    "plot_name = \"Consumption\"\n",
    "yaxis_name = \"Daily mean (kW)\"\n",
    "\n",
    "train = train.append(validation)\n",
    "\n",
    "print(train)\n",
    "print(test)"
   ]
  },
  {
   "cell_type": "markdown",
   "metadata": {},
   "source": [
    "# Expected outputs"
   ]
  },
  {
   "cell_type": "code",
   "execution_count": 7,
   "metadata": {
    "execution": {
     "iopub.execute_input": "2022-05-17T21:44:38.646648Z",
     "iopub.status.busy": "2022-05-17T21:44:38.645375Z",
     "iopub.status.idle": "2022-05-17T21:44:38.873196Z",
     "shell.execute_reply": "2022-05-17T21:44:38.871936Z"
    }
   },
   "outputs": [],
   "source": [
    "expected_output = []\n",
    "\n",
    "scaler = MinMaxScaler(feature_range=(-1, 1))\n",
    "_ = scaler.fit_transform(train.values.reshape(-1, 1))\n",
    "\n",
    "_train = train.copy()\n",
    "_test = test.copy()\n",
    "\n",
    "forecast = np.array([])\n",
    "\n",
    "for i in range(0, int(len(_test) / forecast_horizon) + 1):\n",
    "    model.eval()\n",
    "\n",
    "    inputs = _train.values.reshape(len(_train), 1)\n",
    "\n",
    "    inputs_normalized = scaler.transform(inputs)\n",
    "    inputs_normalized = torch.FloatTensor(inputs_normalized[-seq_length:]).to(device)\n",
    "\n",
    "    predict = model(inputs_normalized.reshape(1, 1, seq_length))\n",
    "    predict = scaler.inverse_transform(predict.cpu().detach().numpy())\n",
    "    forecast = np.append(forecast, predict)\n",
    "\n",
    "    for j in range(0, forecast_horizon):\n",
    "        if len(_test) > 0:\n",
    "            _train[_train.index[-1] + train.index.freq] = _test.iloc[0]\n",
    "            _test = _test.iloc[1:]\n",
    "\n",
    "expected_output = pd.Series(data=forecast[:len(test)], index=test.index)"
   ]
  },
  {
   "cell_type": "code",
   "execution_count": 8,
   "metadata": {
    "execution": {
     "iopub.execute_input": "2022-05-17T21:44:38.880560Z",
     "iopub.status.busy": "2022-05-17T21:44:38.879385Z",
     "iopub.status.idle": "2022-05-17T21:44:38.884765Z",
     "shell.execute_reply": "2022-05-17T21:44:38.883649Z"
    }
   },
   "outputs": [
    {
     "data": {
      "text/plain": [
       "Date\n",
       "2014-02-25    105.304230\n",
       "2014-02-26    106.460480\n",
       "2014-02-27    106.633018\n",
       "2014-02-28    105.779892\n",
       "2014-03-01    106.017479\n",
       "                 ...    \n",
       "2014-12-28     94.695709\n",
       "2014-12-29     94.922638\n",
       "2014-12-30    102.726646\n",
       "2014-12-31     94.184258\n",
       "2015-01-01     90.201752\n",
       "Freq: D, Length: 311, dtype: float64"
      ]
     },
     "execution_count": 8,
     "metadata": {},
     "output_type": "execute_result"
    }
   ],
   "source": [
    "expected_output"
   ]
  },
  {
   "cell_type": "code",
   "execution_count": 9,
   "metadata": {
    "execution": {
     "iopub.execute_input": "2022-05-17T21:44:38.892128Z",
     "iopub.status.busy": "2022-05-17T21:44:38.890930Z",
     "iopub.status.idle": "2022-05-17T21:44:38.894910Z",
     "shell.execute_reply": "2022-05-17T21:44:38.895832Z"
    },
    "tags": []
   },
   "outputs": [
    {
     "name": "stdout",
     "output_type": "stream",
     "text": [
      "Electricity_239\n",
      "MAE of model PINPOINT_1CONV, forecast horizon: 7: 5.24\n"
     ]
    }
   ],
   "source": [
    "print(experiment_name)\n",
    "print(f\"MAE of model {model}, forecast horizon: {forecast_horizon}: {round(mean_absolute_error(test, expected_output), 2)}\")"
   ]
  },
  {
   "cell_type": "markdown",
   "metadata": {
    "tags": []
   },
   "source": [
    "## Encode the models"
   ]
  },
  {
   "cell_type": "code",
   "execution_count": 10,
   "metadata": {
    "execution": {
     "iopub.execute_input": "2022-05-17T21:44:39.311741Z",
     "iopub.status.busy": "2022-05-17T21:44:38.959866Z",
     "iopub.status.idle": "2022-05-17T21:44:56.556781Z",
     "shell.execute_reply": "2022-05-17T21:44:56.555569Z"
    },
    "tags": []
   },
   "outputs": [],
   "source": [
    "HE = Pyfhel()    \n",
    "HE.contextGen(p=95337867, m=4096, intDigits=16, fracDigits=128) \n",
    "HE.keyGen()\n",
    "HE.relinKeyGen(30, 3)\n",
    "\n",
    "encoded_model = build_from_pytorch(HE, model.cpu().main)"
   ]
  },
  {
   "cell_type": "markdown",
   "metadata": {
    "tags": []
   },
   "source": [
    "# Encrypted processing"
   ]
  },
  {
   "cell_type": "code",
   "execution_count": 11,
   "metadata": {
    "execution": {
     "iopub.execute_input": "2022-05-17T21:44:56.562163Z",
     "iopub.status.busy": "2022-05-17T21:44:56.560912Z",
     "iopub.status.idle": "2022-05-17T22:33:41.122328Z",
     "shell.execute_reply": "2022-05-17T22:33:41.120901Z"
    },
    "tags": []
   },
   "outputs": [],
   "source": [
    "decrypted_output = None\n",
    "\n",
    "scaler = MinMaxScaler(feature_range=(-1, 1))\n",
    "_ = scaler.fit_transform(train.values.reshape(-1, 1))\n",
    "\n",
    "_train = train.copy()\n",
    "_test = test.copy()\n",
    "\n",
    "forecast = np.array([])\n",
    "\n",
    "for i in range(0, int(len(_test) / forecast_horizon) + 1):\n",
    "    inputs = _train.values.reshape(len(_train), 1)\n",
    "\n",
    "    inputs_normalized = scaler.transform(inputs)\n",
    "    inputs_normalized = inputs_normalized[-seq_length:].reshape(1, 1, seq_length)\n",
    "\n",
    "    encrypted_input = encrypt_matrix(HE, inputs_normalized)\n",
    "\n",
    "    for layer in encoded_model:\n",
    "        encrypted_input = layer(encrypted_input)\n",
    "    \n",
    "    _min = HE.encodeFrac(scaler.min_[0])\n",
    "    _scale = HE.encodeFrac(1.0 / scaler.scale_[0])\n",
    "    \n",
    "    encrypted_input = [list(map(lambda x: (x - _min)*_scale, encrypted_input[0]))]\n",
    "    predict = decrypt_matrix(HE, encrypted_input)\n",
    "\n",
    "    forecast = np.append(forecast, predict)\n",
    "\n",
    "    for j in range(0, forecast_horizon):\n",
    "        if len(_test) > 0:\n",
    "            _train[_train.index[-1] + train.index.freq] = _test.iloc[0]\n",
    "            _test = _test.iloc[1:]\n",
    "\n",
    "decrypted_output = pd.Series(data=forecast[:len(test)], index=test.index)"
   ]
  },
  {
   "cell_type": "code",
   "execution_count": 12,
   "metadata": {
    "execution": {
     "iopub.execute_input": "2022-05-17T22:33:41.133069Z",
     "iopub.status.busy": "2022-05-17T22:33:41.131805Z",
     "iopub.status.idle": "2022-05-17T22:33:41.139364Z",
     "shell.execute_reply": "2022-05-17T22:33:41.140426Z"
    }
   },
   "outputs": [
    {
     "data": {
      "text/plain": [
       "Date\n",
       "2014-02-25    105.304230\n",
       "2014-02-26    106.460480\n",
       "2014-02-27    106.633018\n",
       "2014-02-28    105.779892\n",
       "2014-03-01    106.017479\n",
       "                 ...    \n",
       "2014-12-28     94.695709\n",
       "2014-12-29     94.922638\n",
       "2014-12-30    102.726646\n",
       "2014-12-31     94.184258\n",
       "2015-01-01     90.201752\n",
       "Freq: D, Length: 311, dtype: float64"
      ]
     },
     "execution_count": 12,
     "metadata": {},
     "output_type": "execute_result"
    }
   ],
   "source": [
    "expected_output"
   ]
  },
  {
   "cell_type": "code",
   "execution_count": 13,
   "metadata": {
    "execution": {
     "iopub.execute_input": "2022-05-17T22:33:41.150483Z",
     "iopub.status.busy": "2022-05-17T22:33:41.149282Z",
     "iopub.status.idle": "2022-05-17T22:33:41.157605Z",
     "shell.execute_reply": "2022-05-17T22:33:41.156500Z"
    }
   },
   "outputs": [
    {
     "data": {
      "text/plain": [
       "Date\n",
       "2014-02-25    105.396694\n",
       "2014-02-26    106.555857\n",
       "2014-02-27    106.728177\n",
       "2014-02-28    105.972409\n",
       "2014-03-01    106.213575\n",
       "                 ...    \n",
       "2014-12-28     95.531855\n",
       "2014-12-29     95.768393\n",
       "2014-12-30    103.112275\n",
       "2014-12-31     95.021792\n",
       "2015-01-01     90.982326\n",
       "Freq: D, Length: 311, dtype: float64"
      ]
     },
     "execution_count": 13,
     "metadata": {},
     "output_type": "execute_result"
    }
   ],
   "source": [
    "decrypted_output"
   ]
  },
  {
   "cell_type": "code",
   "execution_count": 14,
   "metadata": {
    "execution": {
     "iopub.execute_input": "2022-05-17T22:33:41.169018Z",
     "iopub.status.busy": "2022-05-17T22:33:41.167851Z",
     "iopub.status.idle": "2022-05-17T22:33:41.174541Z",
     "shell.execute_reply": "2022-05-17T22:33:41.175483Z"
    }
   },
   "outputs": [
    {
     "name": "stdout",
     "output_type": "stream",
     "text": [
      "MAE of model PINPOINT_1CONV, forecast horizon: 7: 5.24\n",
      "MAE of model PINPOINT_1CONV used on encrypted inputs, forecast horizon: 7: 5.22\n"
     ]
    }
   ],
   "source": [
    "print(f\"MAE of model {model}, forecast horizon: {forecast_horizon}: {round(mean_absolute_error(test, expected_output), 2)}\")\n",
    "print(f\"MAE of model {model} used on encrypted inputs, forecast horizon: {forecast_horizon}: {round(mean_absolute_error(test, decrypted_output), 2)}\")"
   ]
  },
  {
   "cell_type": "markdown",
   "metadata": {},
   "source": [
    "Difference between expected and obtained on encrypted data:"
   ]
  },
  {
   "cell_type": "code",
   "execution_count": 15,
   "metadata": {
    "execution": {
     "iopub.execute_input": "2022-05-17T22:33:41.188274Z",
     "iopub.status.busy": "2022-05-17T22:33:41.187078Z",
     "iopub.status.idle": "2022-05-17T22:33:41.194654Z",
     "shell.execute_reply": "2022-05-17T22:33:41.193405Z"
    }
   },
   "outputs": [
    {
     "name": "stdout",
     "output_type": "stream",
     "text": [
      "Date\n",
      "2014-02-25   -0.092465\n",
      "2014-02-26   -0.095378\n",
      "2014-02-27   -0.095159\n",
      "2014-02-28   -0.192517\n",
      "2014-03-01   -0.196096\n",
      "                ...   \n",
      "2014-12-28   -0.836146\n",
      "2014-12-29   -0.845755\n",
      "2014-12-30   -0.385628\n",
      "2014-12-31   -0.837534\n",
      "2015-01-01   -0.780574\n",
      "Freq: D, Length: 311, dtype: float64\n"
     ]
    }
   ],
   "source": [
    "print(expected_output - decrypted_output)"
   ]
  },
  {
   "cell_type": "code",
   "execution_count": null,
   "metadata": {},
   "outputs": [],
   "source": []
  }
 ],
 "metadata": {
  "accelerator": "GPU",
  "colab": {
   "collapsed_sections": [],
   "name": "Copia di TS_Exercises2_Planned.ipynb",
   "provenance": [
    {
     "file_id": "1W1_DAqrdw9AQrIWwZLPsGMRA8xDBAjKM",
     "timestamp": 1636703056169
    }
   ],
   "toc_visible": true
  },
  "kernelspec": {
   "display_name": "PINPOINT",
   "language": "python",
   "name": "pinpoint"
  },
  "language_info": {
   "codemirror_mode": {
    "name": "ipython",
    "version": 3
   },
   "file_extension": ".py",
   "mimetype": "text/x-python",
   "name": "python",
   "nbconvert_exporter": "python",
   "pygments_lexer": "ipython3",
   "version": "3.8.10"
  }
 },
 "nbformat": 4,
 "nbformat_minor": 4
}
