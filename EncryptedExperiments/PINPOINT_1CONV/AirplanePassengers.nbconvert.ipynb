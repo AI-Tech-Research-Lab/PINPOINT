{
 "cells": [
  {
   "cell_type": "code",
   "execution_count": 1,
   "metadata": {
    "colab": {
     "base_uri": "https://localhost:8080/"
    },
    "execution": {
     "iopub.execute_input": "2022-05-17T21:39:32.357399Z",
     "iopub.status.busy": "2022-05-17T21:39:32.351302Z",
     "iopub.status.idle": "2022-05-17T21:39:34.718351Z",
     "shell.execute_reply": "2022-05-17T21:39:34.716870Z"
    },
    "executionInfo": {
     "elapsed": 90153,
     "status": "ok",
     "timestamp": 1636668876961,
     "user": {
      "displayName": "Alessandro Falcetta",
      "photoUrl": "https://lh3.googleusercontent.com/a/default-user=s64",
      "userId": "13950768925623106818"
     },
     "user_tz": -60
    },
    "id": "W4D-K5EL2UGR",
    "outputId": "2a02af39-a3da-4740-f88d-5b34647c4351"
   },
   "outputs": [],
   "source": [
    "import pandas as pd\n",
    "import numpy as np\n",
    "\n",
    "from memory_profiler import profile\n",
    "\n",
    "from Pyfhel import Pyfhel, PyPtxt, PyCtxt\n",
    "\n",
    "import torch\n",
    "import torch.nn as nn\n",
    "\n",
    "import time\n",
    "import os\n",
    "import sys\n",
    "\n",
    "working_directory = \"/home/falcetta/PINPOINT_Secret\"\n",
    "\n",
    "device = \"cpu\"\n",
    "module_path = os.path.abspath(working_directory)\n",
    "sys.path.append(module_path) \n",
    "\n",
    "from pycrcnn.net_builder.encoded_net_builder_ts import build_from_pytorch\n",
    "from pycrcnn.crypto.crypto import encrypt_matrix, decrypt_matrix\n",
    "from train_utils import *\n",
    "\n",
    "from sklearn.preprocessing import MinMaxScaler\n",
    "\n",
    "from sklearn.metrics import mean_squared_error, mean_absolute_error"
   ]
  },
  {
   "cell_type": "markdown",
   "metadata": {},
   "source": [
    "# Models"
   ]
  },
  {
   "cell_type": "code",
   "execution_count": 2,
   "metadata": {
    "execution": {
     "iopub.execute_input": "2022-05-17T21:39:34.736885Z",
     "iopub.status.busy": "2022-05-17T21:39:34.735642Z",
     "iopub.status.idle": "2022-05-17T21:39:34.740202Z",
     "shell.execute_reply": "2022-05-17T21:39:34.739002Z"
    },
    "tags": []
   },
   "outputs": [],
   "source": [
    "class Square(torch.nn.Module):\n",
    "    def __init__(self):\n",
    "        super().__init__()\n",
    " \n",
    "    def forward(self, t):\n",
    "        return torch.pow(t, 2)\n",
    "\n",
    "class Cube(torch.nn.Module):\n",
    "    def __init__(self):\n",
    "        super().__init__()\n",
    " \n",
    "    def forward(self, t):\n",
    "        return torch.pow(t, 3)\n",
    "    \n",
    "class Printer(torch.nn.Module):\n",
    "    def __init__(self):\n",
    "        super().__init__()\n",
    "    \n",
    "    def forward(self, t):\n",
    "        # print(t)\n",
    "        print(t.shape)\n",
    "        return t\n",
    "\n",
    "\n",
    "class PINPOINT_1CONV(nn.Module):\n",
    "    def __init__(self, input_size, output_horizon):\n",
    "        super(PINPOINT_1CONV, self).__init__()\n",
    "\n",
    "        n_kernels_1 = 32\n",
    "        kernel_size_1 = 3\n",
    "        out_conv_1 = n_kernels_1 * (input_size - kernel_size_1 + 1)\n",
    "\n",
    "        self.main = nn.Sequential(           \n",
    "            nn.Conv1d(in_channels=1, out_channels=n_kernels_1, kernel_size=kernel_size_1),\n",
    "            Square(),\n",
    "            nn.Flatten(),      \n",
    "            \n",
    "            nn.Linear(out_conv_1, int(out_conv_1/2)), #use without avgpool\n",
    "            # nn.Linear(int(out_conv_1/2), output_horizon)   \n",
    "            nn.Linear(int(out_conv_1/2), int(out_conv_1/4)),\n",
    "            nn.Linear(int(out_conv_1/4), output_horizon)   \n",
    "        )\n",
    "\n",
    "    def forward(self, x):\n",
    "        out = self.main(x)\n",
    "        return out\n",
    "    \n",
    "    def __str__(self):\n",
    "        return \"PINPOINT_1CONV\"\n",
    "\n",
    "    \n",
    "class PINPOINT_2CONV(nn.Module):\n",
    "    def __init__(self, input_size, output_horizon):\n",
    "        super(PINPOINT_2CONV, self).__init__()\n",
    "        \n",
    "        n_kernels_1 = 16\n",
    "        n_kernels_2 = 32\n",
    "        kernel_size_1 = 5\n",
    "        kernel_size_2 = 3\n",
    "        \n",
    "        out_conv_1 = input_size - kernel_size_1 + 1\n",
    "        out_conv_2 = n_kernels_2 * (out_conv_1 - kernel_size_2 + 1)\n",
    "\n",
    "        self.main = nn.Sequential(           \n",
    "            nn.Conv1d(in_channels=1, out_channels=n_kernels_1, kernel_size=kernel_size_1),\n",
    "            Square(),\n",
    "            nn.Conv1d(in_channels=n_kernels_1, out_channels=n_kernels_2, kernel_size=kernel_size_2),\n",
    "            Square(),\n",
    "            nn.Flatten(),      \n",
    "            \n",
    "            nn.Linear(out_conv_2, int(out_conv_2/2)), #use without avgpool\n",
    "            # nn.Linear(int(out_conv_2/4), output_horizon)   \n",
    "            nn.Linear(int(out_conv_2/2), int(out_conv_2/4)),\n",
    "            nn.Linear(int(out_conv_2/4), output_horizon)   \n",
    "        )\n",
    "\n",
    "    def forward(self, x):\n",
    "        out = self.main(x)\n",
    "        return out\n",
    "    \n",
    "    def __str__(self):\n",
    "        return \"PINPOINT_2CONV\""
   ]
  },
  {
   "cell_type": "code",
   "execution_count": 3,
   "metadata": {
    "execution": {
     "iopub.execute_input": "2022-05-17T21:39:34.746529Z",
     "iopub.status.busy": "2022-05-17T21:39:34.745341Z",
     "iopub.status.idle": "2022-05-17T21:39:34.779091Z",
     "shell.execute_reply": "2022-05-17T21:39:34.777954Z"
    }
   },
   "outputs": [],
   "source": [
    "experiment_name = \"AirlinePassengers\"\n",
    "seq_length = 12\n",
    "forecast_horizon = 6\n",
    "model_class = \"PINPOINT_1CONV\""
   ]
  },
  {
   "cell_type": "code",
   "execution_count": 4,
   "metadata": {
    "execution": {
     "iopub.execute_input": "2022-05-17T21:39:34.788561Z",
     "iopub.status.busy": "2022-05-17T21:39:34.787391Z",
     "iopub.status.idle": "2022-05-17T21:39:39.025430Z",
     "shell.execute_reply": "2022-05-17T21:39:39.026411Z"
    }
   },
   "outputs": [],
   "source": [
    "model = torch.load(f\"{working_directory}/Experiments/models/{experiment_name}_{forecast_horizon}_{model_class}.pt\")"
   ]
  },
  {
   "cell_type": "code",
   "execution_count": null,
   "metadata": {},
   "outputs": [],
   "source": []
  },
  {
   "cell_type": "code",
   "execution_count": 5,
   "metadata": {
    "execution": {
     "iopub.execute_input": "2022-05-17T21:39:39.037115Z",
     "iopub.status.busy": "2022-05-17T21:39:39.035938Z",
     "iopub.status.idle": "2022-05-17T21:39:39.043519Z",
     "shell.execute_reply": "2022-05-17T21:39:39.044510Z"
    }
   },
   "outputs": [
    {
     "data": {
      "text/plain": [
       "PINPOINT_1CONV(\n",
       "  (main): Sequential(\n",
       "    (0): Conv1d(1, 32, kernel_size=(3,), stride=(1,))\n",
       "    (1): Square()\n",
       "    (2): Flatten(start_dim=1, end_dim=-1)\n",
       "    (3): Linear(in_features=320, out_features=160, bias=True)\n",
       "    (4): Linear(in_features=160, out_features=80, bias=True)\n",
       "    (5): Linear(in_features=80, out_features=6, bias=True)\n",
       "  )\n",
       ")"
      ]
     },
     "execution_count": 5,
     "metadata": {},
     "output_type": "execute_result"
    }
   ],
   "source": [
    "model"
   ]
  },
  {
   "cell_type": "markdown",
   "metadata": {},
   "source": [
    "# Dataset"
   ]
  },
  {
   "cell_type": "code",
   "execution_count": 6,
   "metadata": {
    "execution": {
     "iopub.execute_input": "2022-05-17T21:39:39.068104Z",
     "iopub.status.busy": "2022-05-17T21:39:39.066883Z",
     "iopub.status.idle": "2022-05-17T21:39:39.074194Z",
     "shell.execute_reply": "2022-05-17T21:39:39.072968Z"
    }
   },
   "outputs": [
    {
     "name": "stdout",
     "output_type": "stream",
     "text": [
      "Month\n",
      "1949-01-01    112\n",
      "1949-02-01    118\n",
      "1949-03-01    132\n",
      "1949-04-01    129\n",
      "1949-05-01    121\n",
      "             ... \n",
      "1958-02-01    318\n",
      "1958-03-01    362\n",
      "1958-04-01    348\n",
      "1958-05-01    363\n",
      "1958-06-01    435\n",
      "Freq: MS, Name: Passengers, Length: 114, dtype: int64\n",
      "Month\n",
      "1958-07-01    491\n",
      "1958-08-01    505\n",
      "1958-09-01    404\n",
      "1958-10-01    359\n",
      "1958-11-01    310\n",
      "1958-12-01    337\n",
      "1959-01-01    360\n",
      "1959-02-01    342\n",
      "1959-03-01    406\n",
      "1959-04-01    396\n",
      "1959-05-01    420\n",
      "1959-06-01    472\n",
      "1959-07-01    548\n",
      "1959-08-01    559\n",
      "1959-09-01    463\n",
      "1959-10-01    407\n",
      "1959-11-01    362\n",
      "1959-12-01    405\n",
      "1960-01-01    417\n",
      "1960-02-01    391\n",
      "1960-03-01    419\n",
      "1960-04-01    461\n",
      "1960-05-01    472\n",
      "1960-06-01    535\n",
      "1960-07-01    622\n",
      "1960-08-01    606\n",
      "1960-09-01    508\n",
      "1960-10-01    461\n",
      "1960-11-01    390\n",
      "1960-12-01    432\n",
      "Freq: MS, Name: Passengers, dtype: int64\n"
     ]
    }
   ],
   "source": [
    "monthly_passengers = pd.read_csv(f\"{working_directory}/data/airline-passengers.csv\", parse_dates=['Month'], index_col='Month')\n",
    "monthly_passengers = monthly_passengers.loc[:, 'Passengers']\n",
    "monthly_passengers.index.freq = 'MS'\n",
    "entire_ts = monthly_passengers\n",
    "train = entire_ts.loc[:pd.Timestamp(\"1958-01-01\")]\n",
    "\n",
    "validation_length = int(0.05 * len(train))\n",
    "validation = entire_ts.loc[train.index[-1] + entire_ts.index.freq:train.index[-1] + validation_length * entire_ts.index.freq]\n",
    "test = entire_ts.loc[validation.index[-1] + entire_ts.index.freq:]\n",
    "\n",
    "plot_name = \"Monthly passengers airline\"\n",
    "yaxis_name = \"Passengers\"\n",
    "\n",
    "train = train.append(validation)\n",
    "\n",
    "print(train)\n",
    "print(test)"
   ]
  },
  {
   "cell_type": "markdown",
   "metadata": {},
   "source": [
    "# Expected outputs"
   ]
  },
  {
   "cell_type": "code",
   "execution_count": 7,
   "metadata": {
    "execution": {
     "iopub.execute_input": "2022-05-17T21:39:39.088247Z",
     "iopub.status.busy": "2022-05-17T21:39:39.087036Z",
     "iopub.status.idle": "2022-05-17T21:39:39.177894Z",
     "shell.execute_reply": "2022-05-17T21:39:39.176744Z"
    }
   },
   "outputs": [],
   "source": [
    "expected_output = []\n",
    "\n",
    "scaler = MinMaxScaler(feature_range=(-1, 1))\n",
    "_ = scaler.fit_transform(train.values.reshape(-1, 1))\n",
    "\n",
    "_train = train.copy()\n",
    "_test = test.copy()\n",
    "\n",
    "forecast = np.array([])\n",
    "\n",
    "for i in range(0, int(len(_test) / forecast_horizon) + 1):\n",
    "    model.eval()\n",
    "\n",
    "    inputs = _train.values.reshape(len(_train), 1)\n",
    "\n",
    "    inputs_normalized = scaler.transform(inputs)\n",
    "    inputs_normalized = torch.FloatTensor(inputs_normalized[-seq_length:]).to(device)\n",
    "\n",
    "    predict = model(inputs_normalized.reshape(1, 1, seq_length))\n",
    "    predict = scaler.inverse_transform(predict.cpu().detach().numpy())\n",
    "    forecast = np.append(forecast, predict)\n",
    "\n",
    "    for j in range(0, forecast_horizon):\n",
    "        if len(_test) > 0:\n",
    "            _train[_train.index[-1] + train.index.freq] = _test.iloc[0]\n",
    "            _test = _test.iloc[1:]\n",
    "\n",
    "expected_output = pd.Series(data=forecast[:len(test)], index=test.index)"
   ]
  },
  {
   "cell_type": "code",
   "execution_count": 8,
   "metadata": {
    "execution": {
     "iopub.execute_input": "2022-05-17T21:39:39.187091Z",
     "iopub.status.busy": "2022-05-17T21:39:39.185920Z",
     "iopub.status.idle": "2022-05-17T21:39:39.192404Z",
     "shell.execute_reply": "2022-05-17T21:39:39.191184Z"
    }
   },
   "outputs": [
    {
     "data": {
      "text/plain": [
       "Month\n",
       "1958-07-01    520.413757\n",
       "1958-08-01    532.351807\n",
       "1958-09-01    457.260376\n",
       "1958-10-01    384.845276\n",
       "1958-11-01    338.960236\n",
       "1958-12-01    361.566589\n",
       "1959-01-01    367.861725\n",
       "1959-02-01    353.837463\n",
       "1959-03-01    414.583466\n",
       "1959-04-01    388.217072\n",
       "1959-05-01    398.853638\n",
       "1959-06-01    486.320648\n",
       "1959-07-01    558.161560\n",
       "1959-08-01    568.390869\n",
       "1959-09-01    460.886322\n",
       "1959-10-01    391.912140\n",
       "1959-11-01    345.749329\n",
       "1959-12-01    358.987610\n",
       "1960-01-01    407.683014\n",
       "1960-02-01    387.016449\n",
       "1960-03-01    460.594238\n",
       "1960-04-01    439.257111\n",
       "1960-05-01    446.987915\n",
       "1960-06-01    523.505188\n",
       "1960-07-01    622.956970\n",
       "1960-08-01    618.396057\n",
       "1960-09-01    526.692017\n",
       "1960-10-01    436.182068\n",
       "1960-11-01    399.500488\n",
       "1960-12-01    422.201935\n",
       "Freq: MS, dtype: float64"
      ]
     },
     "execution_count": 8,
     "metadata": {},
     "output_type": "execute_result"
    }
   ],
   "source": [
    "expected_output"
   ]
  },
  {
   "cell_type": "code",
   "execution_count": 9,
   "metadata": {
    "execution": {
     "iopub.execute_input": "2022-05-17T21:39:39.199952Z",
     "iopub.status.busy": "2022-05-17T21:39:39.198902Z",
     "iopub.status.idle": "2022-05-17T21:39:39.206678Z",
     "shell.execute_reply": "2022-05-17T21:39:39.205497Z"
    },
    "tags": []
   },
   "outputs": [
    {
     "name": "stdout",
     "output_type": "stream",
     "text": [
      "AirlinePassengers\n",
      "MAE of model PINPOINT_1CONV, forecast horizon: 6: 18.31\n"
     ]
    }
   ],
   "source": [
    "print(experiment_name)\n",
    "print(f\"MAE of model {model}, forecast horizon: {forecast_horizon}: {round(mean_absolute_error(test, expected_output), 2)}\")"
   ]
  },
  {
   "cell_type": "markdown",
   "metadata": {
    "tags": []
   },
   "source": [
    "## Encode the models"
   ]
  },
  {
   "cell_type": "code",
   "execution_count": 10,
   "metadata": {
    "execution": {
     "iopub.execute_input": "2022-05-17T21:39:39.293165Z",
     "iopub.status.busy": "2022-05-17T21:39:39.291967Z",
     "iopub.status.idle": "2022-05-17T21:39:52.019151Z",
     "shell.execute_reply": "2022-05-17T21:39:52.018120Z"
    },
    "tags": []
   },
   "outputs": [],
   "source": [
    "HE = Pyfhel()    \n",
    "HE.contextGen(p=95337867, m=4096, intDigits=16, fracDigits=128) \n",
    "HE.keyGen()\n",
    "HE.relinKeyGen(30, 3)\n",
    "\n",
    "encoded_model = build_from_pytorch(HE, model.cpu().main)"
   ]
  },
  {
   "cell_type": "markdown",
   "metadata": {
    "tags": []
   },
   "source": [
    "# Encrypted processing"
   ]
  },
  {
   "cell_type": "code",
   "execution_count": 11,
   "metadata": {
    "execution": {
     "iopub.execute_input": "2022-05-17T21:39:52.373911Z",
     "iopub.status.busy": "2022-05-17T21:39:52.361403Z",
     "iopub.status.idle": "2022-05-17T21:44:24.725255Z",
     "shell.execute_reply": "2022-05-17T21:44:24.724220Z"
    },
    "tags": []
   },
   "outputs": [],
   "source": [
    "decrypted_output = None\n",
    "\n",
    "scaler = MinMaxScaler(feature_range=(-1, 1))\n",
    "_ = scaler.fit_transform(train.values.reshape(-1, 1))\n",
    "\n",
    "_train = train.copy()\n",
    "_test = test.copy()\n",
    "\n",
    "forecast = np.array([])\n",
    "\n",
    "for i in range(0, int(len(_test) / forecast_horizon) + 1):\n",
    "    inputs = _train.values.reshape(len(_train), 1)\n",
    "\n",
    "    inputs_normalized = scaler.transform(inputs)\n",
    "    inputs_normalized = inputs_normalized[-seq_length:].reshape(1, 1, seq_length)\n",
    "\n",
    "    encrypted_input = encrypt_matrix(HE, inputs_normalized)\n",
    "\n",
    "    for layer in encoded_model:\n",
    "        encrypted_input = layer(encrypted_input)\n",
    "    \n",
    "    _min = HE.encodeFrac(scaler.min_[0])\n",
    "    _scale = HE.encodeFrac(1.0 / scaler.scale_[0])\n",
    "    \n",
    "    encrypted_input = [list(map(lambda x: (x - _min)*_scale, encrypted_input[0]))]\n",
    "    predict = decrypt_matrix(HE, encrypted_input)\n",
    "\n",
    "    forecast = np.append(forecast, predict)\n",
    "\n",
    "    for j in range(0, forecast_horizon):\n",
    "        if len(_test) > 0:\n",
    "            _train[_train.index[-1] + train.index.freq] = _test.iloc[0]\n",
    "            _test = _test.iloc[1:]\n",
    "\n",
    "decrypted_output = pd.Series(data=forecast[:len(test)], index=test.index)"
   ]
  },
  {
   "cell_type": "code",
   "execution_count": 12,
   "metadata": {
    "execution": {
     "iopub.execute_input": "2022-05-17T21:44:24.735627Z",
     "iopub.status.busy": "2022-05-17T21:44:24.734451Z",
     "iopub.status.idle": "2022-05-17T21:44:24.739753Z",
     "shell.execute_reply": "2022-05-17T21:44:24.738729Z"
    }
   },
   "outputs": [
    {
     "data": {
      "text/plain": [
       "Month\n",
       "1958-07-01    520.413757\n",
       "1958-08-01    532.351807\n",
       "1958-09-01    457.260376\n",
       "1958-10-01    384.845276\n",
       "1958-11-01    338.960236\n",
       "1958-12-01    361.566589\n",
       "1959-01-01    367.861725\n",
       "1959-02-01    353.837463\n",
       "1959-03-01    414.583466\n",
       "1959-04-01    388.217072\n",
       "1959-05-01    398.853638\n",
       "1959-06-01    486.320648\n",
       "1959-07-01    558.161560\n",
       "1959-08-01    568.390869\n",
       "1959-09-01    460.886322\n",
       "1959-10-01    391.912140\n",
       "1959-11-01    345.749329\n",
       "1959-12-01    358.987610\n",
       "1960-01-01    407.683014\n",
       "1960-02-01    387.016449\n",
       "1960-03-01    460.594238\n",
       "1960-04-01    439.257111\n",
       "1960-05-01    446.987915\n",
       "1960-06-01    523.505188\n",
       "1960-07-01    622.956970\n",
       "1960-08-01    618.396057\n",
       "1960-09-01    526.692017\n",
       "1960-10-01    436.182068\n",
       "1960-11-01    399.500488\n",
       "1960-12-01    422.201935\n",
       "Freq: MS, dtype: float64"
      ]
     },
     "execution_count": 12,
     "metadata": {},
     "output_type": "execute_result"
    }
   ],
   "source": [
    "expected_output"
   ]
  },
  {
   "cell_type": "code",
   "execution_count": 13,
   "metadata": {
    "execution": {
     "iopub.execute_input": "2022-05-17T21:44:24.748093Z",
     "iopub.status.busy": "2022-05-17T21:44:24.747055Z",
     "iopub.status.idle": "2022-05-17T21:44:24.752425Z",
     "shell.execute_reply": "2022-05-17T21:44:24.753257Z"
    }
   },
   "outputs": [
    {
     "data": {
      "text/plain": [
       "Month\n",
       "1958-07-01    518.890511\n",
       "1958-08-01    531.603378\n",
       "1958-09-01    456.511657\n",
       "1958-10-01    384.072216\n",
       "1958-11-01    338.748933\n",
       "1958-12-01    360.762147\n",
       "1959-01-01    367.427527\n",
       "1959-02-01    353.057678\n",
       "1959-03-01    413.054733\n",
       "1959-04-01    386.683013\n",
       "1959-05-01    397.336985\n",
       "1959-06-01    483.233550\n",
       "1959-07-01    556.577862\n",
       "1959-08-01    566.886322\n",
       "1959-09-01    459.356642\n",
       "1959-10-01    390.384574\n",
       "1959-11-01    345.558968\n",
       "1959-12-01    358.191906\n",
       "1960-01-01    406.859591\n",
       "1960-02-01    386.246494\n",
       "1960-03-01    459.055793\n",
       "1960-04-01    436.136715\n",
       "1960-05-01    445.477284\n",
       "1960-06-01    521.948066\n",
       "1960-07-01    621.467571\n",
       "1960-08-01    616.906036\n",
       "1960-09-01    520.506513\n",
       "1960-10-01    434.622484\n",
       "1960-11-01    397.953188\n",
       "1960-12-01    420.652551\n",
       "Freq: MS, dtype: float64"
      ]
     },
     "execution_count": 13,
     "metadata": {},
     "output_type": "execute_result"
    }
   ],
   "source": [
    "decrypted_output"
   ]
  },
  {
   "cell_type": "code",
   "execution_count": 14,
   "metadata": {
    "execution": {
     "iopub.execute_input": "2022-05-17T21:44:24.763698Z",
     "iopub.status.busy": "2022-05-17T21:44:24.762516Z",
     "iopub.status.idle": "2022-05-17T21:44:24.768243Z",
     "shell.execute_reply": "2022-05-17T21:44:24.767066Z"
    }
   },
   "outputs": [
    {
     "name": "stdout",
     "output_type": "stream",
     "text": [
      "MAE of model PINPOINT_1CONV, forecast horizon: 6: 18.31\n",
      "MAE of model PINPOINT_1CONV used on encrypted inputs, forecast horizon: 6: 18.08\n"
     ]
    }
   ],
   "source": [
    "print(f\"MAE of model {model}, forecast horizon: {forecast_horizon}: {round(mean_absolute_error(test, expected_output), 2)}\")\n",
    "print(f\"MAE of model {model} used on encrypted inputs, forecast horizon: {forecast_horizon}: {round(mean_absolute_error(test, decrypted_output), 2)}\")"
   ]
  },
  {
   "cell_type": "markdown",
   "metadata": {},
   "source": [
    "Difference between expected and obtained on encrypted data:"
   ]
  },
  {
   "cell_type": "code",
   "execution_count": 15,
   "metadata": {
    "execution": {
     "iopub.execute_input": "2022-05-17T21:44:24.780271Z",
     "iopub.status.busy": "2022-05-17T21:44:24.779108Z",
     "iopub.status.idle": "2022-05-17T21:44:24.786054Z",
     "shell.execute_reply": "2022-05-17T21:44:24.784834Z"
    }
   },
   "outputs": [
    {
     "name": "stdout",
     "output_type": "stream",
     "text": [
      "Month\n",
      "1958-07-01    1.523247\n",
      "1958-08-01    0.748428\n",
      "1958-09-01    0.748719\n",
      "1958-10-01    0.773060\n",
      "1958-11-01    0.211303\n",
      "1958-12-01    0.804442\n",
      "1959-01-01    0.434198\n",
      "1959-02-01    0.779786\n",
      "1959-03-01    1.528733\n",
      "1959-04-01    1.534058\n",
      "1959-05-01    1.516652\n",
      "1959-06-01    3.087098\n",
      "1959-07-01    1.583699\n",
      "1959-08-01    1.504547\n",
      "1959-09-01    1.529680\n",
      "1959-10-01    1.527566\n",
      "1959-11-01    0.190361\n",
      "1959-12-01    0.795704\n",
      "1960-01-01    0.823423\n",
      "1960-02-01    0.769955\n",
      "1960-03-01    1.538445\n",
      "1960-04-01    3.120395\n",
      "1960-05-01    1.510631\n",
      "1960-06-01    1.557122\n",
      "1960-07-01    1.489399\n",
      "1960-08-01    1.490022\n",
      "1960-09-01    6.185503\n",
      "1960-10-01    1.559584\n",
      "1960-11-01    1.547301\n",
      "1960-12-01    1.549384\n",
      "Freq: MS, dtype: float64\n"
     ]
    }
   ],
   "source": [
    "print(expected_output - decrypted_output)"
   ]
  },
  {
   "cell_type": "code",
   "execution_count": null,
   "metadata": {},
   "outputs": [],
   "source": []
  }
 ],
 "metadata": {
  "accelerator": "GPU",
  "colab": {
   "collapsed_sections": [],
   "name": "Copia di TS_Exercises2_Planned.ipynb",
   "provenance": [
    {
     "file_id": "1W1_DAqrdw9AQrIWwZLPsGMRA8xDBAjKM",
     "timestamp": 1636703056169
    }
   ],
   "toc_visible": true
  },
  "kernelspec": {
   "display_name": "PINPOINT",
   "language": "python",
   "name": "pinpoint"
  },
  "language_info": {
   "codemirror_mode": {
    "name": "ipython",
    "version": 3
   },
   "file_extension": ".py",
   "mimetype": "text/x-python",
   "name": "python",
   "nbconvert_exporter": "python",
   "pygments_lexer": "ipython3",
   "version": "3.8.10"
  }
 },
 "nbformat": 4,
 "nbformat_minor": 4
}
