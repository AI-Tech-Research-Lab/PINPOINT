{
 "cells": [
  {
   "cell_type": "code",
   "execution_count": 1,
   "metadata": {
    "colab": {
     "base_uri": "https://localhost:8080/"
    },
    "execution": {
     "iopub.execute_input": "2022-05-17T21:44:36.746690Z",
     "iopub.status.busy": "2022-05-17T21:44:36.738080Z",
     "iopub.status.idle": "2022-05-17T21:44:39.065387Z",
     "shell.execute_reply": "2022-05-17T21:44:39.064162Z"
    },
    "executionInfo": {
     "elapsed": 90153,
     "status": "ok",
     "timestamp": 1636668876961,
     "user": {
      "displayName": "Alessandro Falcetta",
      "photoUrl": "https://lh3.googleusercontent.com/a/default-user=s64",
      "userId": "13950768925623106818"
     },
     "user_tz": -60
    },
    "id": "W4D-K5EL2UGR",
    "outputId": "2a02af39-a3da-4740-f88d-5b34647c4351"
   },
   "outputs": [],
   "source": [
    "import pandas as pd\n",
    "import numpy as np\n",
    "\n",
    "from memory_profiler import profile\n",
    "\n",
    "from Pyfhel import Pyfhel, PyPtxt, PyCtxt\n",
    "\n",
    "import torch\n",
    "import torch.nn as nn\n",
    "\n",
    "import time\n",
    "import os\n",
    "import sys\n",
    "\n",
    "working_directory = \"/home/falcetta/PINPOINT_Secret\"\n",
    "\n",
    "device = \"cpu\"\n",
    "module_path = os.path.abspath(working_directory)\n",
    "sys.path.append(module_path) \n",
    "\n",
    "from pycrcnn.net_builder.encoded_net_builder_ts import build_from_pytorch\n",
    "from pycrcnn.crypto.crypto import encrypt_matrix, decrypt_matrix\n",
    "from train_utils import *\n",
    "\n",
    "from sklearn.preprocessing import MinMaxScaler\n",
    "\n",
    "from sklearn.metrics import mean_squared_error, mean_absolute_error"
   ]
  },
  {
   "cell_type": "markdown",
   "metadata": {},
   "source": [
    "# Models"
   ]
  },
  {
   "cell_type": "code",
   "execution_count": 2,
   "metadata": {
    "execution": {
     "iopub.execute_input": "2022-05-17T21:44:39.085194Z",
     "iopub.status.busy": "2022-05-17T21:44:39.083971Z",
     "iopub.status.idle": "2022-05-17T21:44:39.088625Z",
     "shell.execute_reply": "2022-05-17T21:44:39.087430Z"
    },
    "tags": []
   },
   "outputs": [],
   "source": [
    "class Square(torch.nn.Module):\n",
    "    def __init__(self):\n",
    "        super().__init__()\n",
    " \n",
    "    def forward(self, t):\n",
    "        return torch.pow(t, 2)\n",
    "\n",
    "class Cube(torch.nn.Module):\n",
    "    def __init__(self):\n",
    "        super().__init__()\n",
    " \n",
    "    def forward(self, t):\n",
    "        return torch.pow(t, 3)\n",
    "    \n",
    "class Printer(torch.nn.Module):\n",
    "    def __init__(self):\n",
    "        super().__init__()\n",
    "    \n",
    "    def forward(self, t):\n",
    "        # print(t)\n",
    "        print(t.shape)\n",
    "        return t\n",
    "\n",
    "\n",
    "class PINPOINT_1CONV(nn.Module):\n",
    "    def __init__(self, input_size, output_horizon):\n",
    "        super(PINPOINT_1CONV, self).__init__()\n",
    "\n",
    "        n_kernels_1 = 32\n",
    "        kernel_size_1 = 3\n",
    "        out_conv_1 = n_kernels_1 * (input_size - kernel_size_1 + 1)\n",
    "\n",
    "        self.main = nn.Sequential(           \n",
    "            nn.Conv1d(in_channels=1, out_channels=n_kernels_1, kernel_size=kernel_size_1),\n",
    "            Square(),\n",
    "            nn.Flatten(),      \n",
    "            \n",
    "            nn.Linear(out_conv_1, int(out_conv_1/2)), #use without avgpool\n",
    "            # nn.Linear(int(out_conv_1/2), output_horizon)   \n",
    "            nn.Linear(int(out_conv_1/2), int(out_conv_1/4)),\n",
    "            nn.Linear(int(out_conv_1/4), output_horizon)   \n",
    "        )\n",
    "\n",
    "    def forward(self, x):\n",
    "        out = self.main(x)\n",
    "        return out\n",
    "    \n",
    "    def __str__(self):\n",
    "        return \"PINPOINT_1CONV\"\n",
    "\n",
    "    \n",
    "class PINPOINT_2CONV(nn.Module):\n",
    "    def __init__(self, input_size, output_horizon):\n",
    "        super(PINPOINT_2CONV, self).__init__()\n",
    "        \n",
    "        n_kernels_1 = 16\n",
    "        n_kernels_2 = 32\n",
    "        kernel_size_1 = 5\n",
    "        kernel_size_2 = 3\n",
    "        \n",
    "        out_conv_1 = input_size - kernel_size_1 + 1\n",
    "        out_conv_2 = n_kernels_2 * (out_conv_1 - kernel_size_2 + 1)\n",
    "\n",
    "        self.main = nn.Sequential(           \n",
    "            nn.Conv1d(in_channels=1, out_channels=n_kernels_1, kernel_size=kernel_size_1),\n",
    "            Square(),\n",
    "            nn.Conv1d(in_channels=n_kernels_1, out_channels=n_kernels_2, kernel_size=kernel_size_2),\n",
    "            Square(),\n",
    "            nn.Flatten(),      \n",
    "            \n",
    "            nn.Linear(out_conv_2, int(out_conv_2/2)), #use without avgpool\n",
    "            # nn.Linear(int(out_conv_2/4), output_horizon)   \n",
    "            nn.Linear(int(out_conv_2/2), int(out_conv_2/4)),\n",
    "            nn.Linear(int(out_conv_2/4), output_horizon)   \n",
    "        )\n",
    "\n",
    "    def forward(self, x):\n",
    "        out = self.main(x)\n",
    "        return out\n",
    "    \n",
    "    def __str__(self):\n",
    "        return \"PINPOINT_2CONV\""
   ]
  },
  {
   "cell_type": "code",
   "execution_count": 3,
   "metadata": {
    "execution": {
     "iopub.execute_input": "2022-05-17T21:44:39.095013Z",
     "iopub.status.busy": "2022-05-17T21:44:39.093835Z",
     "iopub.status.idle": "2022-05-17T21:44:39.119253Z",
     "shell.execute_reply": "2022-05-17T21:44:39.118042Z"
    }
   },
   "outputs": [],
   "source": [
    "experiment_name = \"Electricity_311\"\n",
    "seq_length = 14\n",
    "forecast_horizon = 7\n",
    "model_class = \"PINPOINT_1CONV\""
   ]
  },
  {
   "cell_type": "code",
   "execution_count": 4,
   "metadata": {
    "execution": {
     "iopub.execute_input": "2022-05-17T21:44:39.220431Z",
     "iopub.status.busy": "2022-05-17T21:44:39.127363Z",
     "iopub.status.idle": "2022-05-17T21:44:43.645376Z",
     "shell.execute_reply": "2022-05-17T21:44:43.644333Z"
    }
   },
   "outputs": [],
   "source": [
    "model = torch.load(f\"{working_directory}/Experiments/models/{experiment_name}_{forecast_horizon}_{model_class}.pt\")"
   ]
  },
  {
   "cell_type": "code",
   "execution_count": 5,
   "metadata": {
    "execution": {
     "iopub.execute_input": "2022-05-17T21:44:43.654158Z",
     "iopub.status.busy": "2022-05-17T21:44:43.652980Z",
     "iopub.status.idle": "2022-05-17T21:44:43.660531Z",
     "shell.execute_reply": "2022-05-17T21:44:43.661446Z"
    }
   },
   "outputs": [
    {
     "data": {
      "text/plain": [
       "PINPOINT_1CONV(\n",
       "  (main): Sequential(\n",
       "    (0): Conv1d(1, 32, kernel_size=(3,), stride=(1,))\n",
       "    (1): Square()\n",
       "    (2): Flatten(start_dim=1, end_dim=-1)\n",
       "    (3): Linear(in_features=384, out_features=192, bias=True)\n",
       "    (4): Linear(in_features=192, out_features=96, bias=True)\n",
       "    (5): Linear(in_features=96, out_features=7, bias=True)\n",
       "  )\n",
       ")"
      ]
     },
     "execution_count": 5,
     "metadata": {},
     "output_type": "execute_result"
    }
   ],
   "source": [
    "model"
   ]
  },
  {
   "cell_type": "markdown",
   "metadata": {},
   "source": [
    "# Dataset"
   ]
  },
  {
   "cell_type": "code",
   "execution_count": 6,
   "metadata": {
    "execution": {
     "iopub.execute_input": "2022-05-17T21:44:43.683070Z",
     "iopub.status.busy": "2022-05-17T21:44:43.669949Z",
     "iopub.status.idle": "2022-05-17T21:44:43.687663Z",
     "shell.execute_reply": "2022-05-17T21:44:43.688815Z"
    }
   },
   "outputs": [
    {
     "name": "stdout",
     "output_type": "stream",
     "text": [
      "Date\n",
      "2011-01-01    125.260119\n",
      "2011-01-02    150.060655\n",
      "2011-01-03    141.936157\n",
      "2011-01-04    147.133161\n",
      "2011-01-05    148.731453\n",
      "                 ...    \n",
      "2014-02-20    114.129973\n",
      "2014-02-21    116.113450\n",
      "2014-02-22    120.734681\n",
      "2014-02-23    116.681705\n",
      "2014-02-24    112.345805\n",
      "Freq: D, Name: MT_311, Length: 1151, dtype: float64\n",
      "Date\n",
      "2014-02-25    114.863651\n",
      "2014-02-26    113.341554\n",
      "2014-02-27    115.142264\n",
      "2014-02-28    117.635547\n",
      "2014-03-01    122.114112\n",
      "                 ...    \n",
      "2014-12-28    117.631336\n",
      "2014-12-29    112.174166\n",
      "2014-12-30    111.783967\n",
      "2014-12-31    105.826616\n",
      "2015-01-01     48.238691\n",
      "Freq: D, Name: MT_311, Length: 311, dtype: float64\n"
     ]
    }
   ],
   "source": [
    "df = pd.read_csv(f\"{working_directory}/data/Sensor_MT_311.csv\", parse_dates=['Date'], index_col='Date')\n",
    "df = df.iloc[:, 0]\n",
    "df.index.freq = 'D'\n",
    "entire_ts = df\n",
    "\n",
    "train = entire_ts.loc[:pd.Timestamp(\"2014-01-01\")]\n",
    "validation_length = int(0.05 * len(train))\n",
    "validation = entire_ts.loc[train.index[-1] + entire_ts.index.freq:train.index[-1] + validation_length * entire_ts.index.freq]\n",
    "test = entire_ts.loc[validation.index[-1] + entire_ts.index.freq:]\n",
    "\n",
    "plot_name = \"Consumption\"\n",
    "yaxis_name = \"Daily mean (kW)\"\n",
    "\n",
    "train = train.append(validation)\n",
    "\n",
    "print(train)\n",
    "print(test)"
   ]
  },
  {
   "cell_type": "markdown",
   "metadata": {},
   "source": [
    "# Expected outputs"
   ]
  },
  {
   "cell_type": "code",
   "execution_count": 7,
   "metadata": {
    "execution": {
     "iopub.execute_input": "2022-05-17T21:44:43.700837Z",
     "iopub.status.busy": "2022-05-17T21:44:43.699597Z",
     "iopub.status.idle": "2022-05-17T21:44:43.927991Z",
     "shell.execute_reply": "2022-05-17T21:44:43.926739Z"
    }
   },
   "outputs": [],
   "source": [
    "expected_output = []\n",
    "\n",
    "scaler = MinMaxScaler(feature_range=(-1, 1))\n",
    "_ = scaler.fit_transform(train.values.reshape(-1, 1))\n",
    "\n",
    "_train = train.copy()\n",
    "_test = test.copy()\n",
    "\n",
    "forecast = np.array([])\n",
    "\n",
    "for i in range(0, int(len(_test) / forecast_horizon) + 1):\n",
    "    model.eval()\n",
    "\n",
    "    inputs = _train.values.reshape(len(_train), 1)\n",
    "\n",
    "    inputs_normalized = scaler.transform(inputs)\n",
    "    inputs_normalized = torch.FloatTensor(inputs_normalized[-seq_length:]).to(device)\n",
    "\n",
    "    predict = model(inputs_normalized.reshape(1, 1, seq_length))\n",
    "    predict = scaler.inverse_transform(predict.cpu().detach().numpy())\n",
    "    forecast = np.append(forecast, predict)\n",
    "\n",
    "    for j in range(0, forecast_horizon):\n",
    "        if len(_test) > 0:\n",
    "            _train[_train.index[-1] + train.index.freq] = _test.iloc[0]\n",
    "            _test = _test.iloc[1:]\n",
    "\n",
    "expected_output = pd.Series(data=forecast[:len(test)], index=test.index)"
   ]
  },
  {
   "cell_type": "code",
   "execution_count": 8,
   "metadata": {
    "execution": {
     "iopub.execute_input": "2022-05-17T21:44:43.936305Z",
     "iopub.status.busy": "2022-05-17T21:44:43.935140Z",
     "iopub.status.idle": "2022-05-17T21:44:43.940456Z",
     "shell.execute_reply": "2022-05-17T21:44:43.939344Z"
    }
   },
   "outputs": [
    {
     "data": {
      "text/plain": [
       "Date\n",
       "2014-02-25    113.156563\n",
       "2014-02-26    113.421036\n",
       "2014-02-27    113.474541\n",
       "2014-02-28    116.652550\n",
       "2014-03-01    118.442429\n",
       "                 ...    \n",
       "2014-12-28    117.101234\n",
       "2014-12-29    114.375534\n",
       "2014-12-30    115.188118\n",
       "2014-12-31    118.008171\n",
       "2015-01-01     88.109985\n",
       "Freq: D, Length: 311, dtype: float64"
      ]
     },
     "execution_count": 8,
     "metadata": {},
     "output_type": "execute_result"
    }
   ],
   "source": [
    "expected_output"
   ]
  },
  {
   "cell_type": "code",
   "execution_count": 9,
   "metadata": {
    "execution": {
     "iopub.execute_input": "2022-05-17T21:44:43.948428Z",
     "iopub.status.busy": "2022-05-17T21:44:43.947254Z",
     "iopub.status.idle": "2022-05-17T21:44:43.953192Z",
     "shell.execute_reply": "2022-05-17T21:44:43.951976Z"
    },
    "tags": []
   },
   "outputs": [
    {
     "name": "stdout",
     "output_type": "stream",
     "text": [
      "Electricity_311\n",
      "MAE of model PINPOINT_1CONV, forecast horizon: 7: 5.53\n"
     ]
    }
   ],
   "source": [
    "print(experiment_name)\n",
    "print(f\"MAE of model {model}, forecast horizon: {forecast_horizon}: {round(mean_absolute_error(test, expected_output), 2)}\")"
   ]
  },
  {
   "cell_type": "markdown",
   "metadata": {
    "tags": []
   },
   "source": [
    "## Encode the models"
   ]
  },
  {
   "cell_type": "code",
   "execution_count": 10,
   "metadata": {
    "execution": {
     "iopub.execute_input": "2022-05-17T21:44:44.378827Z",
     "iopub.status.busy": "2022-05-17T21:44:44.377598Z",
     "iopub.status.idle": "2022-05-17T21:45:02.289894Z",
     "shell.execute_reply": "2022-05-17T21:45:02.290875Z"
    },
    "tags": []
   },
   "outputs": [],
   "source": [
    "HE = Pyfhel()    \n",
    "HE.contextGen(p=95337867, m=4096, intDigits=16, fracDigits=128) \n",
    "HE.keyGen()\n",
    "HE.relinKeyGen(30, 3)\n",
    "\n",
    "encoded_model = build_from_pytorch(HE, model.cpu().main)"
   ]
  },
  {
   "cell_type": "markdown",
   "metadata": {
    "tags": []
   },
   "source": [
    "# Encrypted processing"
   ]
  },
  {
   "cell_type": "code",
   "execution_count": 11,
   "metadata": {
    "execution": {
     "iopub.execute_input": "2022-05-17T21:45:02.671784Z",
     "iopub.status.busy": "2022-05-17T21:45:02.665325Z",
     "iopub.status.idle": "2022-05-17T22:33:39.803265Z",
     "shell.execute_reply": "2022-05-17T22:33:39.801765Z"
    },
    "tags": []
   },
   "outputs": [],
   "source": [
    "decrypted_output = None\n",
    "\n",
    "scaler = MinMaxScaler(feature_range=(-1, 1))\n",
    "_ = scaler.fit_transform(train.values.reshape(-1, 1))\n",
    "\n",
    "_train = train.copy()\n",
    "_test = test.copy()\n",
    "\n",
    "forecast = np.array([])\n",
    "\n",
    "for i in range(0, int(len(_test) / forecast_horizon) + 1):\n",
    "    inputs = _train.values.reshape(len(_train), 1)\n",
    "\n",
    "    inputs_normalized = scaler.transform(inputs)\n",
    "    inputs_normalized = inputs_normalized[-seq_length:].reshape(1, 1, seq_length)\n",
    "\n",
    "    encrypted_input = encrypt_matrix(HE, inputs_normalized)\n",
    "\n",
    "    for layer in encoded_model:\n",
    "        encrypted_input = layer(encrypted_input)\n",
    "    \n",
    "    _min = HE.encodeFrac(scaler.min_[0])\n",
    "    _scale = HE.encodeFrac(1.0 / scaler.scale_[0])\n",
    "    \n",
    "    encrypted_input = [list(map(lambda x: (x - _min)*_scale, encrypted_input[0]))]\n",
    "    predict = decrypt_matrix(HE, encrypted_input)\n",
    "\n",
    "    forecast = np.append(forecast, predict)\n",
    "\n",
    "    for j in range(0, forecast_horizon):\n",
    "        if len(_test) > 0:\n",
    "            _train[_train.index[-1] + train.index.freq] = _test.iloc[0]\n",
    "            _test = _test.iloc[1:]\n",
    "\n",
    "decrypted_output = pd.Series(data=forecast[:len(test)], index=test.index)"
   ]
  },
  {
   "cell_type": "code",
   "execution_count": 12,
   "metadata": {
    "execution": {
     "iopub.execute_input": "2022-05-17T22:33:39.814386Z",
     "iopub.status.busy": "2022-05-17T22:33:39.813135Z",
     "iopub.status.idle": "2022-05-17T22:33:39.818273Z",
     "shell.execute_reply": "2022-05-17T22:33:39.819210Z"
    }
   },
   "outputs": [
    {
     "data": {
      "text/plain": [
       "Date\n",
       "2014-02-25    113.156563\n",
       "2014-02-26    113.421036\n",
       "2014-02-27    113.474541\n",
       "2014-02-28    116.652550\n",
       "2014-03-01    118.442429\n",
       "                 ...    \n",
       "2014-12-28    117.101234\n",
       "2014-12-29    114.375534\n",
       "2014-12-30    115.188118\n",
       "2014-12-31    118.008171\n",
       "2015-01-01     88.109985\n",
       "Freq: D, Length: 311, dtype: float64"
      ]
     },
     "execution_count": 12,
     "metadata": {},
     "output_type": "execute_result"
    }
   ],
   "source": [
    "expected_output"
   ]
  },
  {
   "cell_type": "code",
   "execution_count": 13,
   "metadata": {
    "execution": {
     "iopub.execute_input": "2022-05-17T22:33:39.828383Z",
     "iopub.status.busy": "2022-05-17T22:33:39.827462Z",
     "iopub.status.idle": "2022-05-17T22:33:39.833008Z",
     "shell.execute_reply": "2022-05-17T22:33:39.831809Z"
    }
   },
   "outputs": [
    {
     "data": {
      "text/plain": [
       "Date\n",
       "2014-02-25    112.961766\n",
       "2014-02-26    113.209456\n",
       "2014-02-27    113.262058\n",
       "2014-02-28    116.462506\n",
       "2014-03-01    118.058556\n",
       "                 ...    \n",
       "2014-12-28    116.715157\n",
       "2014-12-29    114.189467\n",
       "2014-12-30    114.995179\n",
       "2014-12-31    117.591427\n",
       "2015-01-01     88.153735\n",
       "Freq: D, Length: 311, dtype: float64"
      ]
     },
     "execution_count": 13,
     "metadata": {},
     "output_type": "execute_result"
    }
   ],
   "source": [
    "decrypted_output"
   ]
  },
  {
   "cell_type": "code",
   "execution_count": 14,
   "metadata": {
    "execution": {
     "iopub.execute_input": "2022-05-17T22:33:39.843118Z",
     "iopub.status.busy": "2022-05-17T22:33:39.841930Z",
     "iopub.status.idle": "2022-05-17T22:33:39.848106Z",
     "shell.execute_reply": "2022-05-17T22:33:39.846909Z"
    }
   },
   "outputs": [
    {
     "name": "stdout",
     "output_type": "stream",
     "text": [
      "MAE of model PINPOINT_1CONV, forecast horizon: 7: 5.53\n",
      "MAE of model PINPOINT_1CONV used on encrypted inputs, forecast horizon: 7: 5.53\n"
     ]
    }
   ],
   "source": [
    "print(f\"MAE of model {model}, forecast horizon: {forecast_horizon}: {round(mean_absolute_error(test, expected_output), 2)}\")\n",
    "print(f\"MAE of model {model} used on encrypted inputs, forecast horizon: {forecast_horizon}: {round(mean_absolute_error(test, decrypted_output), 2)}\")"
   ]
  },
  {
   "cell_type": "markdown",
   "metadata": {},
   "source": [
    "Difference between expected and obtained on encrypted data:"
   ]
  },
  {
   "cell_type": "code",
   "execution_count": 15,
   "metadata": {
    "execution": {
     "iopub.execute_input": "2022-05-17T22:33:39.859207Z",
     "iopub.status.busy": "2022-05-17T22:33:39.858167Z",
     "iopub.status.idle": "2022-05-17T22:33:39.866837Z",
     "shell.execute_reply": "2022-05-17T22:33:39.865619Z"
    }
   },
   "outputs": [
    {
     "name": "stdout",
     "output_type": "stream",
     "text": [
      "Date\n",
      "2014-02-25    0.194797\n",
      "2014-02-26    0.211580\n",
      "2014-02-27    0.212483\n",
      "2014-02-28    0.190044\n",
      "2014-03-01    0.383872\n",
      "                ...   \n",
      "2014-12-28    0.386078\n",
      "2014-12-29    0.186067\n",
      "2014-12-30    0.192939\n",
      "2014-12-31    0.416744\n",
      "2015-01-01   -0.043750\n",
      "Freq: D, Length: 311, dtype: float64\n"
     ]
    }
   ],
   "source": [
    "print(expected_output - decrypted_output)"
   ]
  },
  {
   "cell_type": "code",
   "execution_count": null,
   "metadata": {},
   "outputs": [],
   "source": []
  }
 ],
 "metadata": {
  "accelerator": "GPU",
  "colab": {
   "collapsed_sections": [],
   "name": "Copia di TS_Exercises2_Planned.ipynb",
   "provenance": [
    {
     "file_id": "1W1_DAqrdw9AQrIWwZLPsGMRA8xDBAjKM",
     "timestamp": 1636703056169
    }
   ],
   "toc_visible": true
  },
  "kernelspec": {
   "display_name": "PINPOINT",
   "language": "python",
   "name": "pinpoint"
  },
  "language_info": {
   "codemirror_mode": {
    "name": "ipython",
    "version": 3
   },
   "file_extension": ".py",
   "mimetype": "text/x-python",
   "name": "python",
   "nbconvert_exporter": "python",
   "pygments_lexer": "ipython3",
   "version": "3.8.10"
  }
 },
 "nbformat": 4,
 "nbformat_minor": 4
}
