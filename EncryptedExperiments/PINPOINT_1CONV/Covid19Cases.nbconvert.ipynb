{
 "cells": [
  {
   "cell_type": "code",
   "execution_count": 1,
   "metadata": {
    "colab": {
     "base_uri": "https://localhost:8080/"
    },
    "execution": {
     "iopub.execute_input": "2022-05-18T08:50:25.261089Z",
     "iopub.status.busy": "2022-05-18T08:50:25.255624Z",
     "iopub.status.idle": "2022-05-18T08:50:27.892890Z",
     "shell.execute_reply": "2022-05-18T08:50:27.893878Z"
    },
    "executionInfo": {
     "elapsed": 90153,
     "status": "ok",
     "timestamp": 1636668876961,
     "user": {
      "displayName": "Alessandro Falcetta",
      "photoUrl": "https://lh3.googleusercontent.com/a/default-user=s64",
      "userId": "13950768925623106818"
     },
     "user_tz": -60
    },
    "id": "W4D-K5EL2UGR",
    "outputId": "2a02af39-a3da-4740-f88d-5b34647c4351"
   },
   "outputs": [],
   "source": [
    "import pandas as pd\n",
    "import numpy as np\n",
    "\n",
    "from memory_profiler import profile\n",
    "\n",
    "from Pyfhel import Pyfhel, PyPtxt, PyCtxt\n",
    "\n",
    "import torch\n",
    "import torch.nn as nn\n",
    "\n",
    "import time\n",
    "import os\n",
    "import sys\n",
    "\n",
    "working_directory = \"/home/falcetta/PINPOINT_Secret\"\n",
    "\n",
    "device = \"cpu\"\n",
    "module_path = os.path.abspath(working_directory)\n",
    "sys.path.append(module_path) \n",
    "\n",
    "from pycrcnn.net_builder.encoded_net_builder_ts import build_from_pytorch\n",
    "from pycrcnn.crypto.crypto import encrypt_matrix, decrypt_matrix\n",
    "from train_utils import *\n",
    "\n",
    "from sklearn.preprocessing import MinMaxScaler\n",
    "\n",
    "from sklearn.metrics import mean_squared_error, mean_absolute_error"
   ]
  },
  {
   "cell_type": "markdown",
   "metadata": {},
   "source": [
    "# Models"
   ]
  },
  {
   "cell_type": "code",
   "execution_count": 2,
   "metadata": {
    "execution": {
     "iopub.execute_input": "2022-05-18T08:50:27.905033Z",
     "iopub.status.busy": "2022-05-18T08:50:27.903789Z",
     "iopub.status.idle": "2022-05-18T08:50:27.912585Z",
     "shell.execute_reply": "2022-05-18T08:50:27.911385Z"
    },
    "tags": []
   },
   "outputs": [],
   "source": [
    "class Square(torch.nn.Module):\n",
    "    def __init__(self):\n",
    "        super().__init__()\n",
    " \n",
    "    def forward(self, t):\n",
    "        return torch.pow(t, 2)\n",
    "\n",
    "class Cube(torch.nn.Module):\n",
    "    def __init__(self):\n",
    "        super().__init__()\n",
    " \n",
    "    def forward(self, t):\n",
    "        return torch.pow(t, 3)\n",
    "    \n",
    "class Printer(torch.nn.Module):\n",
    "    def __init__(self):\n",
    "        super().__init__()\n",
    "    \n",
    "    def forward(self, t):\n",
    "        # print(t)\n",
    "        print(t.shape)\n",
    "        return t\n",
    "\n",
    "\n",
    "class PINPOINT_1CONV(nn.Module):\n",
    "    def __init__(self, input_size, output_horizon):\n",
    "        super(PINPOINT_1CONV, self).__init__()\n",
    "\n",
    "        n_kernels_1 = 32\n",
    "        kernel_size_1 = 3\n",
    "        out_conv_1 = n_kernels_1 * (input_size - kernel_size_1 + 1)\n",
    "\n",
    "        self.main = nn.Sequential(           \n",
    "            nn.Conv1d(in_channels=1, out_channels=n_kernels_1, kernel_size=kernel_size_1),\n",
    "            Square(),\n",
    "            nn.Flatten(),      \n",
    "            \n",
    "            nn.Linear(out_conv_1, int(out_conv_1/2)), #use without avgpool\n",
    "            # nn.Linear(int(out_conv_1/2), output_horizon)   \n",
    "            nn.Linear(int(out_conv_1/2), int(out_conv_1/4)),\n",
    "            nn.Linear(int(out_conv_1/4), output_horizon)   \n",
    "        )\n",
    "\n",
    "    def forward(self, x):\n",
    "        out = self.main(x)\n",
    "        return out\n",
    "    \n",
    "    def __str__(self):\n",
    "        return \"PINPOINT_1CONV\"\n",
    "\n",
    "    \n",
    "class PINPOINT_2CONV(nn.Module):\n",
    "    def __init__(self, input_size, output_horizon):\n",
    "        super(PINPOINT_2CONV, self).__init__()\n",
    "        \n",
    "        n_kernels_1 = 16\n",
    "        n_kernels_2 = 32\n",
    "        kernel_size_1 = 5\n",
    "        kernel_size_2 = 3\n",
    "        \n",
    "        out_conv_1 = input_size - kernel_size_1 + 1\n",
    "        out_conv_2 = n_kernels_2 * (out_conv_1 - kernel_size_2 + 1)\n",
    "\n",
    "        self.main = nn.Sequential(           \n",
    "            nn.Conv1d(in_channels=1, out_channels=n_kernels_1, kernel_size=kernel_size_1),\n",
    "            Square(),\n",
    "            nn.Conv1d(in_channels=n_kernels_1, out_channels=n_kernels_2, kernel_size=kernel_size_2),\n",
    "            Square(),\n",
    "            nn.Flatten(),      \n",
    "            \n",
    "            nn.Linear(out_conv_2, int(out_conv_2/2)), #use without avgpool\n",
    "            # nn.Linear(int(out_conv_2/4), output_horizon)   \n",
    "            nn.Linear(int(out_conv_2/2), int(out_conv_2/4)),\n",
    "            nn.Linear(int(out_conv_2/4), output_horizon)   \n",
    "        )\n",
    "\n",
    "    def forward(self, x):\n",
    "        out = self.main(x)\n",
    "        return out\n",
    "    \n",
    "    def __str__(self):\n",
    "        return \"PINPOINT_2CONV\""
   ]
  },
  {
   "cell_type": "code",
   "execution_count": 3,
   "metadata": {
    "execution": {
     "iopub.execute_input": "2022-05-18T08:50:27.918513Z",
     "iopub.status.busy": "2022-05-18T08:50:27.917273Z",
     "iopub.status.idle": "2022-05-18T08:50:27.939190Z",
     "shell.execute_reply": "2022-05-18T08:50:27.937990Z"
    }
   },
   "outputs": [],
   "source": [
    "experiment_name = \"Covid-19 Cases\"\n",
    "seq_length = 14\n",
    "forecast_horizon = 7\n",
    "model_class = \"PINPOINT_1CONV\""
   ]
  },
  {
   "cell_type": "code",
   "execution_count": 4,
   "metadata": {
    "execution": {
     "iopub.execute_input": "2022-05-18T08:50:27.948680Z",
     "iopub.status.busy": "2022-05-18T08:50:27.947521Z",
     "iopub.status.idle": "2022-05-18T08:50:31.342260Z",
     "shell.execute_reply": "2022-05-18T08:50:31.343198Z"
    }
   },
   "outputs": [],
   "source": [
    "model = torch.load(f\"{working_directory}/Experiments/models/{experiment_name}_{forecast_horizon}_{model_class}.pt\")"
   ]
  },
  {
   "cell_type": "code",
   "execution_count": 5,
   "metadata": {
    "execution": {
     "iopub.execute_input": "2022-05-18T08:50:31.355380Z",
     "iopub.status.busy": "2022-05-18T08:50:31.354196Z",
     "iopub.status.idle": "2022-05-18T08:50:31.361791Z",
     "shell.execute_reply": "2022-05-18T08:50:31.362786Z"
    }
   },
   "outputs": [
    {
     "data": {
      "text/plain": [
       "PINPOINT_1CONV(\n",
       "  (main): Sequential(\n",
       "    (0): Conv1d(1, 32, kernel_size=(3,), stride=(1,))\n",
       "    (1): Square()\n",
       "    (2): Flatten(start_dim=1, end_dim=-1)\n",
       "    (3): Linear(in_features=384, out_features=192, bias=True)\n",
       "    (4): Linear(in_features=192, out_features=96, bias=True)\n",
       "    (5): Linear(in_features=96, out_features=7, bias=True)\n",
       "  )\n",
       ")"
      ]
     },
     "execution_count": 5,
     "metadata": {},
     "output_type": "execute_result"
    }
   ],
   "source": [
    "model"
   ]
  },
  {
   "cell_type": "markdown",
   "metadata": {},
   "source": [
    "# Dataset"
   ]
  },
  {
   "cell_type": "code",
   "execution_count": 6,
   "metadata": {
    "execution": {
     "iopub.execute_input": "2022-05-18T08:50:31.374220Z",
     "iopub.status.busy": "2022-05-18T08:50:31.372936Z",
     "iopub.status.idle": "2022-05-18T08:50:31.391042Z",
     "shell.execute_reply": "2022-05-18T08:50:31.389773Z"
    }
   },
   "outputs": [
    {
     "name": "stdout",
     "output_type": "stream",
     "text": [
      "Date\n",
      "2020-02-25       93\n",
      "2020-02-26       78\n",
      "2020-02-27      250\n",
      "2020-02-28      238\n",
      "2020-02-29      240\n",
      "              ...  \n",
      "2021-01-26    10593\n",
      "2021-01-27    15204\n",
      "2021-01-28    14372\n",
      "2021-01-29    13574\n",
      "2021-01-30    12715\n",
      "Freq: D, Name: Daily cases, Length: 341, dtype: int64\n",
      "Date\n",
      "2021-01-31    11252\n",
      "2021-02-01     7925\n",
      "2021-02-02     9660\n",
      "2021-02-03    13189\n",
      "2021-02-04    13659\n",
      "              ...  \n",
      "2021-11-27    12877\n",
      "2021-11-28    12932\n",
      "2021-11-29     7975\n",
      "2021-11-30    12764\n",
      "2021-12-01    15085\n",
      "Freq: D, Name: Daily cases, Length: 305, dtype: int64\n"
     ]
    }
   ],
   "source": [
    "# covid daily cases\n",
    "df = pd.read_csv(f\"{working_directory}/data/Covid19-italy.csv\", parse_dates=[\"Date\"], index_col=\"Date\")\n",
    "df = df.loc[:pd.Timestamp(\"2021-12-01\"), 'Daily cases']\n",
    "df.index.freq = 'D'\n",
    "entire_ts = df\n",
    "\n",
    "train = entire_ts.loc[:pd.Timestamp(\"2021-01-14\")]\n",
    "validation_length = int(0.05 * len(train))\n",
    "validation = entire_ts.loc[train.index[-1] + entire_ts.index.freq:train.index[-1] + validation_length * entire_ts.index.freq]\n",
    "test = entire_ts.loc[validation.index[-1] + entire_ts.index.freq:]\n",
    "\n",
    "plot_name = \"Covid19\"\n",
    "yaxis_name = \"Cases\"\n",
    "\n",
    "train = train.append(validation)\n",
    "\n",
    "print(train)\n",
    "print(test)"
   ]
  },
  {
   "cell_type": "markdown",
   "metadata": {},
   "source": [
    "# Expected outputs"
   ]
  },
  {
   "cell_type": "code",
   "execution_count": 7,
   "metadata": {
    "execution": {
     "iopub.execute_input": "2022-05-18T08:50:31.403121Z",
     "iopub.status.busy": "2022-05-18T08:50:31.401923Z",
     "iopub.status.idle": "2022-05-18T08:50:31.622447Z",
     "shell.execute_reply": "2022-05-18T08:50:31.621380Z"
    }
   },
   "outputs": [],
   "source": [
    "expected_output = []\n",
    "\n",
    "scaler = MinMaxScaler(feature_range=(-1, 1))\n",
    "_ = scaler.fit_transform(train.values.reshape(-1, 1))\n",
    "\n",
    "_train = train.copy()\n",
    "_test = test.copy()\n",
    "\n",
    "forecast = np.array([])\n",
    "\n",
    "for i in range(0, int(len(_test) / forecast_horizon) + 1):\n",
    "    model.eval()\n",
    "\n",
    "    inputs = _train.values.reshape(len(_train), 1)\n",
    "\n",
    "    inputs_normalized = scaler.transform(inputs)\n",
    "    inputs_normalized = torch.FloatTensor(inputs_normalized[-seq_length:]).to(device)\n",
    "\n",
    "    predict = model(inputs_normalized.reshape(1, 1, seq_length))\n",
    "    predict = scaler.inverse_transform(predict.cpu().detach().numpy())\n",
    "    forecast = np.append(forecast, predict)\n",
    "\n",
    "    for j in range(0, forecast_horizon):\n",
    "        if len(_test) > 0:\n",
    "            _train[_train.index[-1] + train.index.freq] = _test.iloc[0]\n",
    "            _test = _test.iloc[1:]\n",
    "\n",
    "expected_output = pd.Series(data=forecast[:len(test)], index=test.index)"
   ]
  },
  {
   "cell_type": "code",
   "execution_count": 8,
   "metadata": {
    "execution": {
     "iopub.execute_input": "2022-05-18T08:50:31.631427Z",
     "iopub.status.busy": "2022-05-18T08:50:31.630252Z",
     "iopub.status.idle": "2022-05-18T08:50:31.639333Z",
     "shell.execute_reply": "2022-05-18T08:50:31.638130Z"
    }
   },
   "outputs": [
    {
     "data": {
      "text/plain": [
       "Date\n",
       "2021-01-31    10217.327148\n",
       "2021-02-01     8715.881836\n",
       "2021-02-02    11085.750977\n",
       "2021-02-03    14822.344727\n",
       "2021-02-04    15607.525391\n",
       "                  ...     \n",
       "2021-11-27    14281.905273\n",
       "2021-11-28    11084.186523\n",
       "2021-11-29     9543.678711\n",
       "2021-11-30    12759.702148\n",
       "2021-12-01    15842.121094\n",
       "Freq: D, Length: 305, dtype: float64"
      ]
     },
     "execution_count": 8,
     "metadata": {},
     "output_type": "execute_result"
    }
   ],
   "source": [
    "expected_output"
   ]
  },
  {
   "cell_type": "code",
   "execution_count": 9,
   "metadata": {
    "execution": {
     "iopub.execute_input": "2022-05-18T08:50:31.647653Z",
     "iopub.status.busy": "2022-05-18T08:50:31.646480Z",
     "iopub.status.idle": "2022-05-18T08:50:31.651484Z",
     "shell.execute_reply": "2022-05-18T08:50:31.650444Z"
    },
    "tags": []
   },
   "outputs": [
    {
     "name": "stdout",
     "output_type": "stream",
     "text": [
      "Covid-19 Cases\n",
      "MAE of model PINPOINT_1CONV, forecast horizon: 7: 1063.07\n"
     ]
    }
   ],
   "source": [
    "print(experiment_name)\n",
    "print(f\"MAE of model {model}, forecast horizon: {forecast_horizon}: {round(mean_absolute_error(test, expected_output), 2)}\")"
   ]
  },
  {
   "cell_type": "markdown",
   "metadata": {
    "tags": []
   },
   "source": [
    "## Encode the models"
   ]
  },
  {
   "cell_type": "code",
   "execution_count": 10,
   "metadata": {
    "execution": {
     "iopub.execute_input": "2022-05-18T08:50:32.077282Z",
     "iopub.status.busy": "2022-05-18T08:50:32.075470Z",
     "iopub.status.idle": "2022-05-18T08:50:49.292868Z",
     "shell.execute_reply": "2022-05-18T08:50:49.291856Z"
    },
    "tags": []
   },
   "outputs": [],
   "source": [
    "HE = Pyfhel()    \n",
    "HE.contextGen(p=95337867, m=4096, intDigits=16, fracDigits=128) \n",
    "HE.keyGen()\n",
    "HE.relinKeyGen(30, 3)\n",
    "\n",
    "encoded_model = build_from_pytorch(HE, model.cpu().main)"
   ]
  },
  {
   "cell_type": "markdown",
   "metadata": {
    "tags": []
   },
   "source": [
    "# Encrypted processing"
   ]
  },
  {
   "cell_type": "code",
   "execution_count": 11,
   "metadata": {
    "execution": {
     "iopub.execute_input": "2022-05-18T08:50:49.667231Z",
     "iopub.status.busy": "2022-05-18T08:50:49.660440Z",
     "iopub.status.idle": "2022-05-18T09:38:14.370189Z",
     "shell.execute_reply": "2022-05-18T09:38:14.368896Z"
    },
    "tags": []
   },
   "outputs": [],
   "source": [
    "decrypted_output = None\n",
    "\n",
    "scaler = MinMaxScaler(feature_range=(-1, 1))\n",
    "_ = scaler.fit_transform(train.values.reshape(-1, 1))\n",
    "\n",
    "_train = train.copy()\n",
    "_test = test.copy()\n",
    "\n",
    "forecast = np.array([])\n",
    "\n",
    "for i in range(0, int(len(_test) / forecast_horizon) + 1):\n",
    "    inputs = _train.values.reshape(len(_train), 1)\n",
    "\n",
    "    inputs_normalized = scaler.transform(inputs)\n",
    "    inputs_normalized = inputs_normalized[-seq_length:].reshape(1, 1, seq_length)\n",
    "\n",
    "    encrypted_input = encrypt_matrix(HE, inputs_normalized)\n",
    "\n",
    "    for layer in encoded_model:\n",
    "        encrypted_input = layer(encrypted_input)\n",
    "    \n",
    "    _min = HE.encodeFrac(scaler.min_[0])\n",
    "    _scale = HE.encodeFrac(1.0 / scaler.scale_[0])\n",
    "    \n",
    "    encrypted_input = [list(map(lambda x: (x - _min)*_scale, encrypted_input[0]))]\n",
    "    predict = decrypt_matrix(HE, encrypted_input)\n",
    "\n",
    "    forecast = np.append(forecast, predict)\n",
    "\n",
    "    for j in range(0, forecast_horizon):\n",
    "        if len(_test) > 0:\n",
    "            _train[_train.index[-1] + train.index.freq] = _test.iloc[0]\n",
    "            _test = _test.iloc[1:]\n",
    "\n",
    "decrypted_output = pd.Series(data=forecast[:len(test)], index=test.index)"
   ]
  },
  {
   "cell_type": "code",
   "execution_count": 12,
   "metadata": {
    "execution": {
     "iopub.execute_input": "2022-05-18T09:38:14.380613Z",
     "iopub.status.busy": "2022-05-18T09:38:14.379434Z",
     "iopub.status.idle": "2022-05-18T09:38:14.384774Z",
     "shell.execute_reply": "2022-05-18T09:38:14.383657Z"
    }
   },
   "outputs": [
    {
     "data": {
      "text/plain": [
       "Date\n",
       "2021-01-31    10217.327148\n",
       "2021-02-01     8715.881836\n",
       "2021-02-02    11085.750977\n",
       "2021-02-03    14822.344727\n",
       "2021-02-04    15607.525391\n",
       "                  ...     \n",
       "2021-11-27    14281.905273\n",
       "2021-11-28    11084.186523\n",
       "2021-11-29     9543.678711\n",
       "2021-11-30    12759.702148\n",
       "2021-12-01    15842.121094\n",
       "Freq: D, Length: 305, dtype: float64"
      ]
     },
     "execution_count": 12,
     "metadata": {},
     "output_type": "execute_result"
    }
   ],
   "source": [
    "expected_output"
   ]
  },
  {
   "cell_type": "code",
   "execution_count": 13,
   "metadata": {
    "execution": {
     "iopub.execute_input": "2022-05-18T09:38:14.393410Z",
     "iopub.status.busy": "2022-05-18T09:38:14.392381Z",
     "iopub.status.idle": "2022-05-18T09:38:14.398604Z",
     "shell.execute_reply": "2022-05-18T09:38:14.399544Z"
    }
   },
   "outputs": [
    {
     "data": {
      "text/plain": [
       "Date\n",
       "2021-01-31    10417.379499\n",
       "2021-02-01     8914.261679\n",
       "2021-02-02    11285.248837\n",
       "2021-02-03    14919.873183\n",
       "2021-02-04    15660.975941\n",
       "                  ...     \n",
       "2021-11-27    14376.144759\n",
       "2021-11-28    11283.234496\n",
       "2021-11-29     9640.710943\n",
       "2021-11-30    12860.674095\n",
       "2021-12-01    15949.368750\n",
       "Freq: D, Length: 305, dtype: float64"
      ]
     },
     "execution_count": 13,
     "metadata": {},
     "output_type": "execute_result"
    }
   ],
   "source": [
    "decrypted_output"
   ]
  },
  {
   "cell_type": "code",
   "execution_count": 14,
   "metadata": {
    "execution": {
     "iopub.execute_input": "2022-05-18T09:38:14.409654Z",
     "iopub.status.busy": "2022-05-18T09:38:14.408490Z",
     "iopub.status.idle": "2022-05-18T09:38:14.415009Z",
     "shell.execute_reply": "2022-05-18T09:38:14.413809Z"
    }
   },
   "outputs": [
    {
     "name": "stdout",
     "output_type": "stream",
     "text": [
      "MAE of model PINPOINT_1CONV, forecast horizon: 7: 1063.07\n",
      "MAE of model PINPOINT_1CONV used on encrypted inputs, forecast horizon: 7: 1057.59\n"
     ]
    }
   ],
   "source": [
    "print(f\"MAE of model {model}, forecast horizon: {forecast_horizon}: {round(mean_absolute_error(test, expected_output), 2)}\")\n",
    "print(f\"MAE of model {model} used on encrypted inputs, forecast horizon: {forecast_horizon}: {round(mean_absolute_error(test, decrypted_output), 2)}\")"
   ]
  },
  {
   "cell_type": "markdown",
   "metadata": {},
   "source": [
    "Difference between expected and obtained on encrypted data:"
   ]
  },
  {
   "cell_type": "code",
   "execution_count": 15,
   "metadata": {
    "execution": {
     "iopub.execute_input": "2022-05-18T09:38:14.427427Z",
     "iopub.status.busy": "2022-05-18T09:38:14.426387Z",
     "iopub.status.idle": "2022-05-18T09:38:14.432709Z",
     "shell.execute_reply": "2022-05-18T09:38:14.431518Z"
    }
   },
   "outputs": [
    {
     "name": "stdout",
     "output_type": "stream",
     "text": [
      "Date\n",
      "2021-01-31   -200.052350\n",
      "2021-02-01   -198.379843\n",
      "2021-02-02   -199.497860\n",
      "2021-02-03    -97.528457\n",
      "2021-02-04    -53.450551\n",
      "                 ...    \n",
      "2021-11-27    -94.239486\n",
      "2021-11-28   -199.047973\n",
      "2021-11-29    -97.032232\n",
      "2021-11-30   -100.971947\n",
      "2021-12-01   -107.247656\n",
      "Freq: D, Length: 305, dtype: float64\n"
     ]
    }
   ],
   "source": [
    "print(expected_output - decrypted_output)"
   ]
  },
  {
   "cell_type": "code",
   "execution_count": null,
   "metadata": {},
   "outputs": [],
   "source": []
  }
 ],
 "metadata": {
  "accelerator": "GPU",
  "colab": {
   "collapsed_sections": [],
   "name": "Copia di TS_Exercises2_Planned.ipynb",
   "provenance": [
    {
     "file_id": "1W1_DAqrdw9AQrIWwZLPsGMRA8xDBAjKM",
     "timestamp": 1636703056169
    }
   ],
   "toc_visible": true
  },
  "kernelspec": {
   "display_name": "PINPOINT",
   "language": "python",
   "name": "pinpoint"
  },
  "language_info": {
   "codemirror_mode": {
    "name": "ipython",
    "version": 3
   },
   "file_extension": ".py",
   "mimetype": "text/x-python",
   "name": "python",
   "nbconvert_exporter": "python",
   "pygments_lexer": "ipython3",
   "version": "3.8.10"
  }
 },
 "nbformat": 4,
 "nbformat_minor": 4
}
