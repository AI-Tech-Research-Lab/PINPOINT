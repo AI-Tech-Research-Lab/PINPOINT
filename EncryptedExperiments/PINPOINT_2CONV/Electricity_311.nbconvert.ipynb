{
 "cells": [
  {
   "cell_type": "code",
   "execution_count": 1,
   "metadata": {
    "colab": {
     "base_uri": "https://localhost:8080/"
    },
    "execution": {
     "iopub.execute_input": "2022-05-19T08:09:32.073945Z",
     "iopub.status.busy": "2022-05-19T08:09:32.072585Z",
     "iopub.status.idle": "2022-05-19T08:09:34.505804Z",
     "shell.execute_reply": "2022-05-19T08:09:34.504313Z"
    },
    "executionInfo": {
     "elapsed": 90153,
     "status": "ok",
     "timestamp": 1636668876961,
     "user": {
      "displayName": "Alessandro Falcetta",
      "photoUrl": "https://lh3.googleusercontent.com/a/default-user=s64",
      "userId": "13950768925623106818"
     },
     "user_tz": -60
    },
    "id": "W4D-K5EL2UGR",
    "outputId": "2a02af39-a3da-4740-f88d-5b34647c4351"
   },
   "outputs": [],
   "source": [
    "import pandas as pd\n",
    "import numpy as np\n",
    "\n",
    "from memory_profiler import profile\n",
    "\n",
    "from Pyfhel import Pyfhel, PyPtxt, PyCtxt\n",
    "\n",
    "import torch\n",
    "import torch.nn as nn\n",
    "\n",
    "import time\n",
    "import os\n",
    "import sys\n",
    "\n",
    "working_directory = \"/home/falcetta/PINPOINT_Secret\"\n",
    "\n",
    "device = \"cpu\"\n",
    "module_path = os.path.abspath(working_directory)\n",
    "sys.path.append(module_path) \n",
    "\n",
    "from pycrcnn.net_builder.encoded_net_builder_ts import build_from_pytorch\n",
    "from pycrcnn.crypto.crypto import encrypt_matrix, decrypt_matrix\n",
    "from train_utils import *\n",
    "\n",
    "from sklearn.preprocessing import MinMaxScaler\n",
    "\n",
    "from sklearn.metrics import mean_squared_error, mean_absolute_error"
   ]
  },
  {
   "cell_type": "markdown",
   "metadata": {},
   "source": [
    "# Models"
   ]
  },
  {
   "cell_type": "code",
   "execution_count": 2,
   "metadata": {
    "execution": {
     "iopub.execute_input": "2022-05-19T08:09:34.522201Z",
     "iopub.status.busy": "2022-05-19T08:09:34.516301Z",
     "iopub.status.idle": "2022-05-19T08:09:34.529290Z",
     "shell.execute_reply": "2022-05-19T08:09:34.528081Z"
    },
    "tags": []
   },
   "outputs": [],
   "source": [
    "class Square(torch.nn.Module):\n",
    "    def __init__(self):\n",
    "        super().__init__()\n",
    " \n",
    "    def forward(self, t):\n",
    "        return torch.pow(t, 2)\n",
    "\n",
    "class Cube(torch.nn.Module):\n",
    "    def __init__(self):\n",
    "        super().__init__()\n",
    " \n",
    "    def forward(self, t):\n",
    "        return torch.pow(t, 3)\n",
    "    \n",
    "class Printer(torch.nn.Module):\n",
    "    def __init__(self):\n",
    "        super().__init__()\n",
    "    \n",
    "    def forward(self, t):\n",
    "        # print(t)\n",
    "        print(t.shape)\n",
    "        return t\n",
    "\n",
    "\n",
    "class PINPOINT_1CONV(nn.Module):\n",
    "    def __init__(self, input_size, output_horizon):\n",
    "        super(PINPOINT_1CONV, self).__init__()\n",
    "\n",
    "        n_kernels_1 = 32\n",
    "        kernel_size_1 = 3\n",
    "        out_conv_1 = n_kernels_1 * (input_size - kernel_size_1 + 1)\n",
    "\n",
    "        self.main = nn.Sequential(           \n",
    "            nn.Conv1d(in_channels=1, out_channels=n_kernels_1, kernel_size=kernel_size_1),\n",
    "            Square(),\n",
    "            nn.Flatten(),      \n",
    "            \n",
    "            nn.Linear(out_conv_1, int(out_conv_1/2)), #use without avgpool\n",
    "            # nn.Linear(int(out_conv_1/2), output_horizon)   \n",
    "            nn.Linear(int(out_conv_1/2), int(out_conv_1/4)),\n",
    "            nn.Linear(int(out_conv_1/4), output_horizon)   \n",
    "        )\n",
    "\n",
    "    def forward(self, x):\n",
    "        out = self.main(x)\n",
    "        return out\n",
    "    \n",
    "    def __str__(self):\n",
    "        return \"PINPOINT_1CONV\"\n",
    "\n",
    "    \n",
    "class PINPOINT_2CONV(nn.Module):\n",
    "    def __init__(self, input_size, output_horizon):\n",
    "        super(PINPOINT_2CONV, self).__init__()\n",
    "        \n",
    "        n_kernels_1 = 16\n",
    "        n_kernels_2 = 32\n",
    "        kernel_size_1 = 5\n",
    "        kernel_size_2 = 3\n",
    "        \n",
    "        out_conv_1 = input_size - kernel_size_1 + 1\n",
    "        out_conv_2 = n_kernels_2 * (out_conv_1 - kernel_size_2 + 1)\n",
    "\n",
    "        self.main = nn.Sequential(           \n",
    "            nn.Conv1d(in_channels=1, out_channels=n_kernels_1, kernel_size=kernel_size_1),\n",
    "            Square(),\n",
    "            nn.Conv1d(in_channels=n_kernels_1, out_channels=n_kernels_2, kernel_size=kernel_size_2),\n",
    "            Square(),\n",
    "            nn.Flatten(),      \n",
    "            \n",
    "            nn.Linear(out_conv_2, int(out_conv_2/2)), #use without avgpool\n",
    "            # nn.Linear(int(out_conv_2/4), output_horizon)   \n",
    "            nn.Linear(int(out_conv_2/2), int(out_conv_2/4)),\n",
    "            nn.Linear(int(out_conv_2/4), output_horizon)   \n",
    "        )\n",
    "\n",
    "    def forward(self, x):\n",
    "        out = self.main(x)\n",
    "        return out\n",
    "    \n",
    "    def __str__(self):\n",
    "        return \"PINPOINT_2CONV\""
   ]
  },
  {
   "cell_type": "code",
   "execution_count": 3,
   "metadata": {
    "execution": {
     "iopub.execute_input": "2022-05-19T08:09:34.535813Z",
     "iopub.status.busy": "2022-05-19T08:09:34.534636Z",
     "iopub.status.idle": "2022-05-19T08:09:34.558206Z",
     "shell.execute_reply": "2022-05-19T08:09:34.559195Z"
    }
   },
   "outputs": [],
   "source": [
    "experiment_name = \"Electricity_311\"\n",
    "seq_length = 14\n",
    "forecast_horizon = 7\n",
    "model_class = \"PINPOINT_2CONV\""
   ]
  },
  {
   "cell_type": "code",
   "execution_count": 4,
   "metadata": {
    "execution": {
     "iopub.execute_input": "2022-05-19T08:09:34.663094Z",
     "iopub.status.busy": "2022-05-19T08:09:34.661910Z",
     "iopub.status.idle": "2022-05-19T08:09:38.648669Z",
     "shell.execute_reply": "2022-05-19T08:09:38.647568Z"
    }
   },
   "outputs": [],
   "source": [
    "model = torch.load(f\"{working_directory}/Experiments/models/{experiment_name}_{forecast_horizon}_{model_class}.pt\")"
   ]
  },
  {
   "cell_type": "code",
   "execution_count": 5,
   "metadata": {
    "execution": {
     "iopub.execute_input": "2022-05-19T08:09:38.659397Z",
     "iopub.status.busy": "2022-05-19T08:09:38.658221Z",
     "iopub.status.idle": "2022-05-19T08:09:38.665773Z",
     "shell.execute_reply": "2022-05-19T08:09:38.666752Z"
    }
   },
   "outputs": [
    {
     "data": {
      "text/plain": [
       "PINPOINT_2CONV(\n",
       "  (main): Sequential(\n",
       "    (0): Conv1d(1, 16, kernel_size=(5,), stride=(1,))\n",
       "    (1): Square()\n",
       "    (2): Conv1d(16, 32, kernel_size=(3,), stride=(1,))\n",
       "    (3): Square()\n",
       "    (4): Flatten(start_dim=1, end_dim=-1)\n",
       "    (5): Linear(in_features=256, out_features=128, bias=True)\n",
       "    (6): Linear(in_features=128, out_features=64, bias=True)\n",
       "    (7): Linear(in_features=64, out_features=7, bias=True)\n",
       "  )\n",
       ")"
      ]
     },
     "execution_count": 5,
     "metadata": {},
     "output_type": "execute_result"
    }
   ],
   "source": [
    "model"
   ]
  },
  {
   "cell_type": "markdown",
   "metadata": {},
   "source": [
    "# Dataset"
   ]
  },
  {
   "cell_type": "code",
   "execution_count": 6,
   "metadata": {
    "execution": {
     "iopub.execute_input": "2022-05-19T08:09:38.677799Z",
     "iopub.status.busy": "2022-05-19T08:09:38.676823Z",
     "iopub.status.idle": "2022-05-19T08:09:38.694734Z",
     "shell.execute_reply": "2022-05-19T08:09:38.693595Z"
    }
   },
   "outputs": [
    {
     "name": "stdout",
     "output_type": "stream",
     "text": [
      "Date\n",
      "2011-01-01    125.260119\n",
      "2011-01-02    150.060655\n",
      "2011-01-03    141.936157\n",
      "2011-01-04    147.133161\n",
      "2011-01-05    148.731453\n",
      "                 ...    \n",
      "2014-02-20    114.129973\n",
      "2014-02-21    116.113450\n",
      "2014-02-22    120.734681\n",
      "2014-02-23    116.681705\n",
      "2014-02-24    112.345805\n",
      "Freq: D, Name: MT_311, Length: 1151, dtype: float64\n",
      "Date\n",
      "2014-02-25    114.863651\n",
      "2014-02-26    113.341554\n",
      "2014-02-27    115.142264\n",
      "2014-02-28    117.635547\n",
      "2014-03-01    122.114112\n",
      "                 ...    \n",
      "2014-12-28    117.631336\n",
      "2014-12-29    112.174166\n",
      "2014-12-30    111.783967\n",
      "2014-12-31    105.826616\n",
      "2015-01-01     48.238691\n",
      "Freq: D, Name: MT_311, Length: 311, dtype: float64\n"
     ]
    }
   ],
   "source": [
    "df = pd.read_csv(f\"{working_directory}/data/Sensor_MT_311.csv\", parse_dates=['Date'], index_col='Date')\n",
    "df = df.iloc[:, 0]\n",
    "df.index.freq = 'D'\n",
    "entire_ts = df\n",
    "\n",
    "train = entire_ts.loc[:pd.Timestamp(\"2014-01-01\")]\n",
    "validation_length = int(0.05 * len(train))\n",
    "validation = entire_ts.loc[train.index[-1] + entire_ts.index.freq:train.index[-1] + validation_length * entire_ts.index.freq]\n",
    "test = entire_ts.loc[validation.index[-1] + entire_ts.index.freq:]\n",
    "\n",
    "plot_name = \"Consumption\"\n",
    "yaxis_name = \"Daily mean (kW)\"\n",
    "\n",
    "train = train.append(validation)\n",
    "\n",
    "print(train)\n",
    "print(test)"
   ]
  },
  {
   "cell_type": "markdown",
   "metadata": {},
   "source": [
    "# Expected outputs"
   ]
  },
  {
   "cell_type": "code",
   "execution_count": 7,
   "metadata": {
    "execution": {
     "iopub.execute_input": "2022-05-19T08:09:38.706322Z",
     "iopub.status.busy": "2022-05-19T08:09:38.705091Z",
     "iopub.status.idle": "2022-05-19T08:09:38.903572Z",
     "shell.execute_reply": "2022-05-19T08:09:38.902401Z"
    }
   },
   "outputs": [],
   "source": [
    "expected_output = []\n",
    "\n",
    "scaler = MinMaxScaler(feature_range=(-1, 1))\n",
    "_ = scaler.fit_transform(train.values.reshape(-1, 1))\n",
    "\n",
    "_train = train.copy()\n",
    "_test = test.copy()\n",
    "\n",
    "forecast = np.array([])\n",
    "\n",
    "for i in range(0, int(len(_test) / forecast_horizon) + 1):\n",
    "    model.eval()\n",
    "\n",
    "    inputs = _train.values.reshape(len(_train), 1)\n",
    "\n",
    "    inputs_normalized = scaler.transform(inputs)\n",
    "    inputs_normalized = torch.FloatTensor(inputs_normalized[-seq_length:]).to(device)\n",
    "\n",
    "    predict = model(inputs_normalized.reshape(1, 1, seq_length))\n",
    "    predict = scaler.inverse_transform(predict.cpu().detach().numpy())\n",
    "    forecast = np.append(forecast, predict)\n",
    "\n",
    "    for j in range(0, forecast_horizon):\n",
    "        if len(_test) > 0:\n",
    "            _train[_train.index[-1] + train.index.freq] = _test.iloc[0]\n",
    "            _test = _test.iloc[1:]\n",
    "\n",
    "expected_output = pd.Series(data=forecast[:len(test)], index=test.index)"
   ]
  },
  {
   "cell_type": "code",
   "execution_count": 8,
   "metadata": {
    "execution": {
     "iopub.execute_input": "2022-05-19T08:09:38.911186Z",
     "iopub.status.busy": "2022-05-19T08:09:38.910010Z",
     "iopub.status.idle": "2022-05-19T08:09:38.917013Z",
     "shell.execute_reply": "2022-05-19T08:09:38.917983Z"
    }
   },
   "outputs": [
    {
     "data": {
      "text/plain": [
       "Date\n",
       "2014-02-25    116.585999\n",
       "2014-02-26    115.911476\n",
       "2014-02-27    116.587555\n",
       "2014-02-28    117.372482\n",
       "2014-03-01    117.978088\n",
       "                 ...    \n",
       "2014-12-28    117.307281\n",
       "2014-12-29    116.424812\n",
       "2014-12-30    117.386444\n",
       "2014-12-31    115.458549\n",
       "2015-01-01    113.785225\n",
       "Freq: D, Length: 311, dtype: float64"
      ]
     },
     "execution_count": 8,
     "metadata": {},
     "output_type": "execute_result"
    }
   ],
   "source": [
    "expected_output"
   ]
  },
  {
   "cell_type": "code",
   "execution_count": 9,
   "metadata": {
    "execution": {
     "iopub.execute_input": "2022-05-19T08:09:38.925128Z",
     "iopub.status.busy": "2022-05-19T08:09:38.923933Z",
     "iopub.status.idle": "2022-05-19T08:09:38.932022Z",
     "shell.execute_reply": "2022-05-19T08:09:38.930916Z"
    },
    "tags": []
   },
   "outputs": [
    {
     "name": "stdout",
     "output_type": "stream",
     "text": [
      "Electricity_311\n",
      "MAE of model PINPOINT_2CONV, forecast horizon: 7: 5.76\n"
     ]
    }
   ],
   "source": [
    "print(experiment_name)\n",
    "print(f\"MAE of model {model}, forecast horizon: {forecast_horizon}: {round(mean_absolute_error(test, expected_output), 2)}\")"
   ]
  },
  {
   "cell_type": "markdown",
   "metadata": {
    "tags": []
   },
   "source": [
    "## Encode the models"
   ]
  },
  {
   "cell_type": "code",
   "execution_count": 10,
   "metadata": {
    "execution": {
     "iopub.execute_input": "2022-05-19T08:09:41.266155Z",
     "iopub.status.busy": "2022-05-19T08:09:41.264866Z",
     "iopub.status.idle": "2022-05-19T08:09:49.653512Z",
     "shell.execute_reply": "2022-05-19T08:09:49.652253Z"
    },
    "tags": []
   },
   "outputs": [],
   "source": [
    "HE = Pyfhel()    \n",
    "HE.contextGen(p=9615535171512, m=8192, intDigits=16, fracDigits=64) \n",
    "HE.keyGen()\n",
    "HE.relinKeyGen(30, 3)\n",
    "\n",
    "encoded_model = build_from_pytorch(HE, model.cpu().main)"
   ]
  },
  {
   "cell_type": "markdown",
   "metadata": {
    "tags": []
   },
   "source": [
    "# Encrypted processing"
   ]
  },
  {
   "cell_type": "code",
   "execution_count": 11,
   "metadata": {
    "execution": {
     "iopub.execute_input": "2022-05-19T08:09:50.446130Z",
     "iopub.status.busy": "2022-05-19T08:09:50.431861Z",
     "iopub.status.idle": "2022-05-19T10:13:00.646022Z",
     "shell.execute_reply": "2022-05-19T10:13:00.644452Z"
    },
    "tags": []
   },
   "outputs": [],
   "source": [
    "decrypted_output = None\n",
    "\n",
    "scaler = MinMaxScaler(feature_range=(-1, 1))\n",
    "_ = scaler.fit_transform(train.values.reshape(-1, 1))\n",
    "\n",
    "_train = train.copy()\n",
    "_test = test.copy()\n",
    "\n",
    "forecast = np.array([])\n",
    "\n",
    "for i in range(0, int(len(_test) / forecast_horizon) + 1):\n",
    "    inputs = _train.values.reshape(len(_train), 1)\n",
    "\n",
    "    inputs_normalized = scaler.transform(inputs)\n",
    "    inputs_normalized = inputs_normalized[-seq_length:].reshape(1, 1, seq_length)\n",
    "\n",
    "    encrypted_input = encrypt_matrix(HE, inputs_normalized)\n",
    "\n",
    "    for layer in encoded_model:\n",
    "        encrypted_input = layer(encrypted_input)\n",
    "    \n",
    "    _min = HE.encodeFrac(scaler.min_[0])\n",
    "    _scale = HE.encodeFrac(1.0 / scaler.scale_[0])\n",
    "    \n",
    "    encrypted_input = [list(map(lambda x: (x - _min)*_scale, encrypted_input[0]))]\n",
    "    predict = decrypt_matrix(HE, encrypted_input)\n",
    "\n",
    "    forecast = np.append(forecast, predict)\n",
    "\n",
    "    for j in range(0, forecast_horizon):\n",
    "        if len(_test) > 0:\n",
    "            _train[_train.index[-1] + train.index.freq] = _test.iloc[0]\n",
    "            _test = _test.iloc[1:]\n",
    "\n",
    "decrypted_output = pd.Series(data=forecast[:len(test)], index=test.index)"
   ]
  },
  {
   "cell_type": "code",
   "execution_count": 12,
   "metadata": {
    "execution": {
     "iopub.execute_input": "2022-05-19T10:13:00.656910Z",
     "iopub.status.busy": "2022-05-19T10:13:00.655707Z",
     "iopub.status.idle": "2022-05-19T10:13:00.662815Z",
     "shell.execute_reply": "2022-05-19T10:13:00.661560Z"
    }
   },
   "outputs": [
    {
     "data": {
      "text/plain": [
       "Date\n",
       "2014-02-25    116.585999\n",
       "2014-02-26    115.911476\n",
       "2014-02-27    116.587555\n",
       "2014-02-28    117.372482\n",
       "2014-03-01    117.978088\n",
       "                 ...    \n",
       "2014-12-28    117.307281\n",
       "2014-12-29    116.424812\n",
       "2014-12-30    117.386444\n",
       "2014-12-31    115.458549\n",
       "2015-01-01    113.785225\n",
       "Freq: D, Length: 311, dtype: float64"
      ]
     },
     "execution_count": 12,
     "metadata": {},
     "output_type": "execute_result"
    }
   ],
   "source": [
    "expected_output"
   ]
  },
  {
   "cell_type": "code",
   "execution_count": 13,
   "metadata": {
    "execution": {
     "iopub.execute_input": "2022-05-19T10:13:00.672370Z",
     "iopub.status.busy": "2022-05-19T10:13:00.671183Z",
     "iopub.status.idle": "2022-05-19T10:13:00.676588Z",
     "shell.execute_reply": "2022-05-19T10:13:00.675440Z"
    }
   },
   "outputs": [
    {
     "data": {
      "text/plain": [
       "Date\n",
       "2014-02-25    116.558833\n",
       "2014-02-26    115.891106\n",
       "2014-02-27    116.562804\n",
       "2014-02-28    117.330512\n",
       "2014-03-01    117.934110\n",
       "                 ...    \n",
       "2014-12-28    117.265692\n",
       "2014-12-29    116.382962\n",
       "2014-12-30    117.336423\n",
       "2014-12-31    115.436340\n",
       "2015-01-01    113.774654\n",
       "Freq: D, Length: 311, dtype: float64"
      ]
     },
     "execution_count": 13,
     "metadata": {},
     "output_type": "execute_result"
    }
   ],
   "source": [
    "decrypted_output"
   ]
  },
  {
   "cell_type": "code",
   "execution_count": 14,
   "metadata": {
    "execution": {
     "iopub.execute_input": "2022-05-19T10:13:00.684936Z",
     "iopub.status.busy": "2022-05-19T10:13:00.683866Z",
     "iopub.status.idle": "2022-05-19T10:13:00.691381Z",
     "shell.execute_reply": "2022-05-19T10:13:00.690157Z"
    }
   },
   "outputs": [
    {
     "name": "stdout",
     "output_type": "stream",
     "text": [
      "MAE of model PINPOINT_2CONV, forecast horizon: 7: 5.76\n",
      "MAE of model PINPOINT_2CONV used on encrypted inputs, forecast horizon: 7: 5.75\n"
     ]
    }
   ],
   "source": [
    "print(f\"MAE of model {model}, forecast horizon: {forecast_horizon}: {round(mean_absolute_error(test, expected_output), 2)}\")\n",
    "print(f\"MAE of model {model} used on encrypted inputs, forecast horizon: {forecast_horizon}: {round(mean_absolute_error(test, decrypted_output), 2)}\")"
   ]
  },
  {
   "cell_type": "markdown",
   "metadata": {},
   "source": [
    "Difference between expected and obtained on encrypted data:"
   ]
  },
  {
   "cell_type": "code",
   "execution_count": 15,
   "metadata": {
    "execution": {
     "iopub.execute_input": "2022-05-19T10:13:00.721200Z",
     "iopub.status.busy": "2022-05-19T10:13:00.720022Z",
     "iopub.status.idle": "2022-05-19T10:13:00.726564Z",
     "shell.execute_reply": "2022-05-19T10:13:00.725509Z"
    }
   },
   "outputs": [
    {
     "name": "stdout",
     "output_type": "stream",
     "text": [
      "Date\n",
      "2014-02-25    0.027165\n",
      "2014-02-26    0.020370\n",
      "2014-02-27    0.024751\n",
      "2014-02-28    0.041970\n",
      "2014-03-01    0.043978\n",
      "                ...   \n",
      "2014-12-28    0.041590\n",
      "2014-12-29    0.041851\n",
      "2014-12-30    0.050021\n",
      "2014-12-31    0.022210\n",
      "2015-01-01    0.010571\n",
      "Freq: D, Length: 311, dtype: float64\n"
     ]
    }
   ],
   "source": [
    "print(expected_output - decrypted_output)"
   ]
  },
  {
   "cell_type": "code",
   "execution_count": null,
   "metadata": {},
   "outputs": [],
   "source": []
  }
 ],
 "metadata": {
  "accelerator": "GPU",
  "colab": {
   "collapsed_sections": [],
   "name": "Copia di TS_Exercises2_Planned.ipynb",
   "provenance": [
    {
     "file_id": "1W1_DAqrdw9AQrIWwZLPsGMRA8xDBAjKM",
     "timestamp": 1636703056169
    }
   ],
   "toc_visible": true
  },
  "kernelspec": {
   "display_name": "PINPOINT",
   "language": "python",
   "name": "pinpoint"
  },
  "language_info": {
   "codemirror_mode": {
    "name": "ipython",
    "version": 3
   },
   "file_extension": ".py",
   "mimetype": "text/x-python",
   "name": "python",
   "nbconvert_exporter": "python",
   "pygments_lexer": "ipython3",
   "version": "3.8.10"
  }
 },
 "nbformat": 4,
 "nbformat_minor": 4
}
