{
 "cells": [
  {
   "cell_type": "code",
   "execution_count": 1,
   "metadata": {
    "colab": {
     "base_uri": "https://localhost:8080/"
    },
    "executionInfo": {
     "elapsed": 90153,
     "status": "ok",
     "timestamp": 1636668876961,
     "user": {
      "displayName": "Alessandro Falcetta",
      "photoUrl": "https://lh3.googleusercontent.com/a/default-user=s64",
      "userId": "13950768925623106818"
     },
     "user_tz": -60
    },
    "id": "W4D-K5EL2UGR",
    "outputId": "2a02af39-a3da-4740-f88d-5b34647c4351"
   },
   "outputs": [],
   "source": [
    "import pandas as pd\n",
    "import numpy as np\n",
    "\n",
    "from memory_profiler import profile\n",
    "\n",
    "from Pyfhel import Pyfhel, PyPtxt, PyCtxt\n",
    "\n",
    "import torch\n",
    "import torch.nn as nn\n",
    "\n",
    "import time\n",
    "import os\n",
    "import sys\n",
    "\n",
    "working_directory = \"/home/falcetta/PINPOINT_Secret\"\n",
    "\n",
    "device = \"cpu\"\n",
    "module_path = os.path.abspath(working_directory)\n",
    "sys.path.append(module_path) \n",
    "\n",
    "from pycrcnn.net_builder.encoded_net_builder_ts import build_from_pytorch\n",
    "from pycrcnn.crypto.crypto import encrypt_matrix, decrypt_matrix\n",
    "from train_utils import *\n",
    "\n",
    "from sklearn.preprocessing import MinMaxScaler\n",
    "\n",
    "from sklearn.metrics import mean_squared_error, mean_absolute_error"
   ]
  },
  {
   "cell_type": "markdown",
   "metadata": {},
   "source": [
    "# Models"
   ]
  },
  {
   "cell_type": "code",
   "execution_count": 2,
   "metadata": {
    "tags": []
   },
   "outputs": [],
   "source": [
    "class Square(torch.nn.Module):\n",
    "    def __init__(self):\n",
    "        super().__init__()\n",
    " \n",
    "    def forward(self, t):\n",
    "        return torch.pow(t, 2)\n",
    "\n",
    "class Cube(torch.nn.Module):\n",
    "    def __init__(self):\n",
    "        super().__init__()\n",
    " \n",
    "    def forward(self, t):\n",
    "        return torch.pow(t, 3)\n",
    "    \n",
    "class Printer(torch.nn.Module):\n",
    "    def __init__(self):\n",
    "        super().__init__()\n",
    "    \n",
    "    def forward(self, t):\n",
    "        # print(t)\n",
    "        print(t.shape)\n",
    "        return t\n",
    "\n",
    "\n",
    "class PINPOINT_1CONV(nn.Module):\n",
    "    def __init__(self, input_size, output_horizon):\n",
    "        super(PINPOINT_1CONV, self).__init__()\n",
    "\n",
    "        n_kernels_1 = 32\n",
    "        kernel_size_1 = 3\n",
    "        out_conv_1 = n_kernels_1 * (input_size - kernel_size_1 + 1)\n",
    "\n",
    "        self.main = nn.Sequential(           \n",
    "            nn.Conv1d(in_channels=1, out_channels=n_kernels_1, kernel_size=kernel_size_1),\n",
    "            Square(),\n",
    "            nn.Flatten(),      \n",
    "            \n",
    "            nn.Linear(out_conv_1, int(out_conv_1/2)), #use without avgpool\n",
    "            # nn.Linear(int(out_conv_1/2), output_horizon)   \n",
    "            nn.Linear(int(out_conv_1/2), int(out_conv_1/4)),\n",
    "            nn.Linear(int(out_conv_1/4), output_horizon)   \n",
    "        )\n",
    "\n",
    "    def forward(self, x):\n",
    "        out = self.main(x)\n",
    "        return out\n",
    "    \n",
    "    def __str__(self):\n",
    "        return \"PINPOINT_1CONV\"\n",
    "\n",
    "    \n",
    "class PINPOINT_2CONV(nn.Module):\n",
    "    def __init__(self, input_size, output_horizon):\n",
    "        super(PINPOINT_2CONV, self).__init__()\n",
    "        \n",
    "        n_kernels_1 = 16\n",
    "        n_kernels_2 = 32\n",
    "        kernel_size_1 = 5\n",
    "        kernel_size_2 = 3\n",
    "        \n",
    "        out_conv_1 = input_size - kernel_size_1 + 1\n",
    "        out_conv_2 = n_kernels_2 * (out_conv_1 - kernel_size_2 + 1)\n",
    "\n",
    "        self.main = nn.Sequential(           \n",
    "            nn.Conv1d(in_channels=1, out_channels=n_kernels_1, kernel_size=kernel_size_1),\n",
    "            Square(),\n",
    "            nn.Conv1d(in_channels=n_kernels_1, out_channels=n_kernels_2, kernel_size=kernel_size_2),\n",
    "            Square(),\n",
    "            nn.Flatten(),      \n",
    "            \n",
    "            nn.Linear(out_conv_2, int(out_conv_2/2)), #use without avgpool\n",
    "            # nn.Linear(int(out_conv_2/4), output_horizon)   \n",
    "            nn.Linear(int(out_conv_2/2), int(out_conv_2/4)),\n",
    "            nn.Linear(int(out_conv_2/4), output_horizon)   \n",
    "        )\n",
    "\n",
    "    def forward(self, x):\n",
    "        out = self.main(x)\n",
    "        return out\n",
    "    \n",
    "    def __str__(self):\n",
    "        return \"PINPOINT_2CONV\""
   ]
  },
  {
   "cell_type": "code",
   "execution_count": 3,
   "metadata": {},
   "outputs": [],
   "source": [
    "experiment_name = \"Milk\"\n",
    "seq_length = 12\n",
    "forecast_horizon = 6\n",
    "model_class = \"PINPOINT_2CONV\""
   ]
  },
  {
   "cell_type": "code",
   "execution_count": 4,
   "metadata": {},
   "outputs": [],
   "source": [
    "model = torch.load(f\"{working_directory}/Experiments/models/{experiment_name}_{forecast_horizon}_{model_class}.pt\")"
   ]
  },
  {
   "cell_type": "code",
   "execution_count": 5,
   "metadata": {},
   "outputs": [
    {
     "data": {
      "text/plain": [
       "PINPOINT_2CONV(\n",
       "  (main): Sequential(\n",
       "    (0): Conv1d(1, 16, kernel_size=(5,), stride=(1,))\n",
       "    (1): Square()\n",
       "    (2): Conv1d(16, 32, kernel_size=(3,), stride=(1,))\n",
       "    (3): Square()\n",
       "    (4): Flatten(start_dim=1, end_dim=-1)\n",
       "    (5): Linear(in_features=192, out_features=96, bias=True)\n",
       "    (6): Linear(in_features=96, out_features=48, bias=True)\n",
       "    (7): Linear(in_features=48, out_features=6, bias=True)\n",
       "  )\n",
       ")"
      ]
     },
     "execution_count": 5,
     "metadata": {},
     "output_type": "execute_result"
    }
   ],
   "source": [
    "model"
   ]
  },
  {
   "cell_type": "markdown",
   "metadata": {},
   "source": [
    "# Dataset"
   ]
  },
  {
   "cell_type": "code",
   "execution_count": 6,
   "metadata": {},
   "outputs": [
    {
     "name": "stdout",
     "output_type": "stream",
     "text": [
      "Month\n",
      "1962-01-01    589\n",
      "1962-02-01    561\n",
      "1962-03-01    640\n",
      "1962-04-01    656\n",
      "1962-05-01    727\n",
      "             ... \n",
      "1974-04-01    902\n",
      "1974-05-01    969\n",
      "1974-06-01    947\n",
      "1974-07-01    908\n",
      "1974-08-01    867\n",
      "Freq: MS, Name: Production, Length: 152, dtype: int64\n",
      "Month\n",
      "1974-09-01    815\n",
      "1974-10-01    812\n",
      "1974-11-01    773\n",
      "1974-12-01    813\n",
      "1975-01-01    834\n",
      "1975-02-01    782\n",
      "1975-03-01    892\n",
      "1975-04-01    903\n",
      "1975-05-01    966\n",
      "1975-06-01    937\n",
      "1975-07-01    896\n",
      "1975-08-01    858\n",
      "1975-09-01    817\n",
      "1975-10-01    827\n",
      "1975-11-01    797\n",
      "1975-12-01    843\n",
      "Freq: MS, Name: Production, dtype: int64\n"
     ]
    }
   ],
   "source": [
    "milk_production = milk_production = pd.read_csv(f\"{working_directory}/data/monthly-milk-production.csv\", parse_dates=[\"Month\"], index_col=\"Month\")\n",
    "milk_production = milk_production.loc[:, 'Production']\n",
    "milk_production.index.freq = 'MS'\n",
    "entire_ts = milk_production\n",
    "train = milk_production.loc[:pd.Timestamp(\"1974-01-01\")]\n",
    "validation_length = int(0.05 * len(train))\n",
    "validation = entire_ts.loc[train.index[-1] + entire_ts.index.freq:train.index[-1] + validation_length * entire_ts.index.freq]\n",
    "test = entire_ts.loc[validation.index[-1] + entire_ts.index.freq:]\n",
    "plot_name = \"Monthly milk production\"\n",
    "yaxis_name = \"Production\"\n",
    "\n",
    "train = train.append(validation)\n",
    "\n",
    "print(train)\n",
    "print(test)"
   ]
  },
  {
   "cell_type": "markdown",
   "metadata": {},
   "source": [
    "# Expected outputs"
   ]
  },
  {
   "cell_type": "code",
   "execution_count": 7,
   "metadata": {},
   "outputs": [],
   "source": [
    "expected_output = []\n",
    "\n",
    "scaler = MinMaxScaler(feature_range=(-1, 1))\n",
    "_ = scaler.fit_transform(train.values.reshape(-1, 1))\n",
    "\n",
    "_train = train.copy()\n",
    "_test = test.copy()\n",
    "\n",
    "forecast = np.array([])\n",
    "\n",
    "for i in range(0, int(len(_test) / forecast_horizon) + 1):\n",
    "    model.eval()\n",
    "\n",
    "    inputs = _train.values.reshape(len(_train), 1)\n",
    "\n",
    "    inputs_normalized = scaler.transform(inputs)\n",
    "    inputs_normalized = torch.FloatTensor(inputs_normalized[-seq_length:]).to(device)\n",
    "\n",
    "    predict = model(inputs_normalized.reshape(1, 1, seq_length))\n",
    "    predict = scaler.inverse_transform(predict.cpu().detach().numpy())\n",
    "    forecast = np.append(forecast, predict)\n",
    "\n",
    "    for j in range(0, forecast_horizon):\n",
    "        if len(_test) > 0:\n",
    "            _train[_train.index[-1] + train.index.freq] = _test.iloc[0]\n",
    "            _test = _test.iloc[1:]\n",
    "\n",
    "expected_output = pd.Series(data=forecast[:len(test)], index=test.index)"
   ]
  },
  {
   "cell_type": "code",
   "execution_count": 8,
   "metadata": {},
   "outputs": [
    {
     "data": {
      "text/plain": [
       "Month\n",
       "1974-09-01    812.044067\n",
       "1974-10-01    823.361755\n",
       "1974-11-01    764.408569\n",
       "1974-12-01    813.593750\n",
       "1975-01-01    839.368958\n",
       "1975-02-01    790.813354\n",
       "1975-03-01    882.921692\n",
       "1975-04-01    899.379700\n",
       "1975-05-01    968.319763\n",
       "1975-06-01    939.873291\n",
       "1975-07-01    895.119324\n",
       "1975-08-01    852.359619\n",
       "1975-09-01    811.907104\n",
       "1975-10-01    820.040039\n",
       "1975-11-01    766.692261\n",
       "1975-12-01    808.899536\n",
       "Freq: MS, dtype: float64"
      ]
     },
     "execution_count": 8,
     "metadata": {},
     "output_type": "execute_result"
    }
   ],
   "source": [
    "expected_output"
   ]
  },
  {
   "cell_type": "code",
   "execution_count": 9,
   "metadata": {
    "tags": []
   },
   "outputs": [
    {
     "name": "stdout",
     "output_type": "stream",
     "text": [
      "Milk\n",
      "MAE of model PINPOINT_2CONV, forecast horizon: 6: 8.66\n"
     ]
    }
   ],
   "source": [
    "print(experiment_name)\n",
    "print(f\"MAE of model {model}, forecast horizon: {forecast_horizon}: {round(mean_absolute_error(test, expected_output), 2)}\")"
   ]
  },
  {
   "cell_type": "markdown",
   "metadata": {
    "tags": []
   },
   "source": [
    "## Encode the models"
   ]
  },
  {
   "cell_type": "code",
   "execution_count": 10,
   "metadata": {
    "tags": []
   },
   "outputs": [],
   "source": [
    "HE = Pyfhel()    \n",
    "HE.contextGen(p=96155351715128, m=8192, intDigits=16, fracDigits=64) \n",
    "HE.keyGen()\n",
    "HE.relinKeyGen(30, 3)\n",
    "\n",
    "encoded_model = build_from_pytorch(HE, model.cpu().main)"
   ]
  },
  {
   "cell_type": "markdown",
   "metadata": {
    "tags": []
   },
   "source": [
    "# Encrypted processing"
   ]
  },
  {
   "cell_type": "code",
   "execution_count": 11,
   "metadata": {
    "tags": []
   },
   "outputs": [],
   "source": [
    "decrypted_output = None\n",
    "\n",
    "scaler = MinMaxScaler(feature_range=(-1, 1))\n",
    "_ = scaler.fit_transform(train.values.reshape(-1, 1))\n",
    "\n",
    "_train = train.copy()\n",
    "_test = test.copy()\n",
    "\n",
    "forecast = np.array([])\n",
    "\n",
    "for i in range(0, int(len(_test) / forecast_horizon) + 1):\n",
    "    inputs = _train.values.reshape(len(_train), 1)\n",
    "\n",
    "    inputs_normalized = scaler.transform(inputs)\n",
    "    inputs_normalized = inputs_normalized[-seq_length:].reshape(1, 1, seq_length)\n",
    "\n",
    "    encrypted_input = encrypt_matrix(HE, inputs_normalized)\n",
    "\n",
    "    for layer in encoded_model:\n",
    "        encrypted_input = layer(encrypted_input)\n",
    "\n",
    "    predict = decrypt_matrix(HE, encrypted_input)\n",
    "\n",
    "    predict = scaler.inverse_transform(predict)\n",
    "    forecast = np.append(forecast, predict)\n",
    "\n",
    "    for j in range(0, forecast_horizon):\n",
    "        if len(_test) > 0:\n",
    "            _train[_train.index[-1] + train.index.freq] = _test.iloc[0]\n",
    "            _test = _test.iloc[1:]\n",
    "\n",
    "decrypted_output = pd.Series(data=forecast[:len(test)], index=test.index)"
   ]
  },
  {
   "cell_type": "code",
   "execution_count": 12,
   "metadata": {},
   "outputs": [
    {
     "data": {
      "text/plain": [
       "Month\n",
       "1974-09-01    812.044067\n",
       "1974-10-01    823.361755\n",
       "1974-11-01    764.408569\n",
       "1974-12-01    813.593750\n",
       "1975-01-01    839.368958\n",
       "1975-02-01    790.813354\n",
       "1975-03-01    882.921692\n",
       "1975-04-01    899.379700\n",
       "1975-05-01    968.319763\n",
       "1975-06-01    939.873291\n",
       "1975-07-01    895.119324\n",
       "1975-08-01    852.359619\n",
       "1975-09-01    811.907104\n",
       "1975-10-01    820.040039\n",
       "1975-11-01    766.692261\n",
       "1975-12-01    808.899536\n",
       "Freq: MS, dtype: float64"
      ]
     },
     "execution_count": 12,
     "metadata": {},
     "output_type": "execute_result"
    }
   ],
   "source": [
    "expected_output"
   ]
  },
  {
   "cell_type": "code",
   "execution_count": 13,
   "metadata": {},
   "outputs": [
    {
     "data": {
      "text/plain": [
       "Month\n",
       "1974-09-01    812.070318\n",
       "1974-10-01    823.409444\n",
       "1974-11-01    764.445482\n",
       "1974-12-01    813.697553\n",
       "1975-01-01    839.457130\n",
       "1975-02-01    790.983269\n",
       "1975-03-01    882.942400\n",
       "1975-04-01    899.404986\n",
       "1975-05-01    968.421616\n",
       "1975-06-01    939.935210\n",
       "1975-07-01    895.238056\n",
       "1975-08-01    852.496485\n",
       "1975-09-01    811.963993\n",
       "1975-10-01    820.129639\n",
       "1975-11-01    766.801918\n",
       "1975-12-01    809.057570\n",
       "Freq: MS, dtype: float64"
      ]
     },
     "execution_count": 13,
     "metadata": {},
     "output_type": "execute_result"
    }
   ],
   "source": [
    "decrypted_output"
   ]
  },
  {
   "cell_type": "code",
   "execution_count": 14,
   "metadata": {},
   "outputs": [
    {
     "name": "stdout",
     "output_type": "stream",
     "text": [
      "MAE of model PINPOINT_2CONV, forecast horizon: 6: 8.66\n",
      "MAE of model PINPOINT_2CONV used on encrypted inputs, forecast horizon: 6: 8.65\n"
     ]
    }
   ],
   "source": [
    "print(f\"MAE of model {model}, forecast horizon: {forecast_horizon}: {round(mean_absolute_error(test, expected_output), 2)}\")\n",
    "print(f\"MAE of model {model} used on encrypted inputs, forecast horizon: {forecast_horizon}: {round(mean_absolute_error(test, decrypted_output), 2)}\")"
   ]
  },
  {
   "cell_type": "markdown",
   "metadata": {},
   "source": [
    "Difference between expected and obtained on encrypted data:"
   ]
  },
  {
   "cell_type": "code",
   "execution_count": 15,
   "metadata": {},
   "outputs": [
    {
     "name": "stdout",
     "output_type": "stream",
     "text": [
      "Month\n",
      "1974-09-01   -0.026250\n",
      "1974-10-01   -0.047689\n",
      "1974-11-01   -0.036912\n",
      "1974-12-01   -0.103803\n",
      "1975-01-01   -0.088173\n",
      "1975-02-01   -0.169914\n",
      "1975-03-01   -0.020708\n",
      "1975-04-01   -0.025287\n",
      "1975-05-01   -0.101852\n",
      "1975-06-01   -0.061919\n",
      "1975-07-01   -0.118732\n",
      "1975-08-01   -0.136866\n",
      "1975-09-01   -0.056888\n",
      "1975-10-01   -0.089600\n",
      "1975-11-01   -0.109657\n",
      "1975-12-01   -0.158033\n",
      "Freq: MS, dtype: float64\n"
     ]
    }
   ],
   "source": [
    "print(expected_output - decrypted_output)"
   ]
  },
  {
   "cell_type": "code",
   "execution_count": null,
   "metadata": {},
   "outputs": [],
   "source": []
  }
 ],
 "metadata": {
  "accelerator": "GPU",
  "colab": {
   "collapsed_sections": [],
   "name": "Copia di TS_Exercises2_Planned.ipynb",
   "provenance": [
    {
     "file_id": "1W1_DAqrdw9AQrIWwZLPsGMRA8xDBAjKM",
     "timestamp": 1636703056169
    }
   ],
   "toc_visible": true
  },
  "kernelspec": {
   "display_name": "PINPOINT",
   "language": "python",
   "name": "pinpoint"
  },
  "language_info": {
   "codemirror_mode": {
    "name": "ipython",
    "version": 3
   },
   "file_extension": ".py",
   "mimetype": "text/x-python",
   "name": "python",
   "nbconvert_exporter": "python",
   "pygments_lexer": "ipython3",
   "version": "3.8.10"
  }
 },
 "nbformat": 4,
 "nbformat_minor": 4
}
