{
 "cells": [
  {
   "cell_type": "code",
   "execution_count": 1,
   "metadata": {
    "colab": {
     "base_uri": "https://localhost:8080/"
    },
    "execution": {
     "iopub.execute_input": "2022-05-19T08:09:20.479741Z",
     "iopub.status.busy": "2022-05-19T08:09:20.478334Z",
     "iopub.status.idle": "2022-05-19T08:09:23.093863Z",
     "shell.execute_reply": "2022-05-19T08:09:23.092395Z"
    },
    "executionInfo": {
     "elapsed": 90153,
     "status": "ok",
     "timestamp": 1636668876961,
     "user": {
      "displayName": "Alessandro Falcetta",
      "photoUrl": "https://lh3.googleusercontent.com/a/default-user=s64",
      "userId": "13950768925623106818"
     },
     "user_tz": -60
    },
    "id": "W4D-K5EL2UGR",
    "outputId": "2a02af39-a3da-4740-f88d-5b34647c4351"
   },
   "outputs": [],
   "source": [
    "import pandas as pd\n",
    "import numpy as np\n",
    "\n",
    "from memory_profiler import profile\n",
    "\n",
    "from Pyfhel import Pyfhel, PyPtxt, PyCtxt\n",
    "\n",
    "import torch\n",
    "import torch.nn as nn\n",
    "\n",
    "import time\n",
    "import os\n",
    "import sys\n",
    "\n",
    "working_directory = \"/home/falcetta/PINPOINT_Secret\"\n",
    "\n",
    "device = \"cpu\"\n",
    "module_path = os.path.abspath(working_directory)\n",
    "sys.path.append(module_path) \n",
    "\n",
    "from pycrcnn.net_builder.encoded_net_builder_ts import build_from_pytorch\n",
    "from pycrcnn.crypto.crypto import encrypt_matrix, decrypt_matrix\n",
    "from train_utils import *\n",
    "\n",
    "from sklearn.preprocessing import MinMaxScaler\n",
    "\n",
    "from sklearn.metrics import mean_squared_error, mean_absolute_error"
   ]
  },
  {
   "cell_type": "markdown",
   "metadata": {},
   "source": [
    "# Models"
   ]
  },
  {
   "cell_type": "code",
   "execution_count": 2,
   "metadata": {
    "execution": {
     "iopub.execute_input": "2022-05-19T08:09:23.108498Z",
     "iopub.status.busy": "2022-05-19T08:09:23.107249Z",
     "iopub.status.idle": "2022-05-19T08:09:23.112861Z",
     "shell.execute_reply": "2022-05-19T08:09:23.111636Z"
    },
    "tags": []
   },
   "outputs": [],
   "source": [
    "class Square(torch.nn.Module):\n",
    "    def __init__(self):\n",
    "        super().__init__()\n",
    " \n",
    "    def forward(self, t):\n",
    "        return torch.pow(t, 2)\n",
    "\n",
    "class Cube(torch.nn.Module):\n",
    "    def __init__(self):\n",
    "        super().__init__()\n",
    " \n",
    "    def forward(self, t):\n",
    "        return torch.pow(t, 3)\n",
    "    \n",
    "class Printer(torch.nn.Module):\n",
    "    def __init__(self):\n",
    "        super().__init__()\n",
    "    \n",
    "    def forward(self, t):\n",
    "        # print(t)\n",
    "        print(t.shape)\n",
    "        return t\n",
    "\n",
    "\n",
    "class PINPOINT_1CONV(nn.Module):\n",
    "    def __init__(self, input_size, output_horizon):\n",
    "        super(PINPOINT_1CONV, self).__init__()\n",
    "\n",
    "        n_kernels_1 = 32\n",
    "        kernel_size_1 = 3\n",
    "        out_conv_1 = n_kernels_1 * (input_size - kernel_size_1 + 1)\n",
    "\n",
    "        self.main = nn.Sequential(           \n",
    "            nn.Conv1d(in_channels=1, out_channels=n_kernels_1, kernel_size=kernel_size_1),\n",
    "            Square(),\n",
    "            nn.Flatten(),      \n",
    "            \n",
    "            nn.Linear(out_conv_1, int(out_conv_1/2)), #use without avgpool\n",
    "            # nn.Linear(int(out_conv_1/2), output_horizon)   \n",
    "            nn.Linear(int(out_conv_1/2), int(out_conv_1/4)),\n",
    "            nn.Linear(int(out_conv_1/4), output_horizon)   \n",
    "        )\n",
    "\n",
    "    def forward(self, x):\n",
    "        out = self.main(x)\n",
    "        return out\n",
    "    \n",
    "    def __str__(self):\n",
    "        return \"PINPOINT_1CONV\"\n",
    "\n",
    "    \n",
    "class PINPOINT_2CONV(nn.Module):\n",
    "    def __init__(self, input_size, output_horizon):\n",
    "        super(PINPOINT_2CONV, self).__init__()\n",
    "        \n",
    "        n_kernels_1 = 16\n",
    "        n_kernels_2 = 32\n",
    "        kernel_size_1 = 5\n",
    "        kernel_size_2 = 3\n",
    "        \n",
    "        out_conv_1 = input_size - kernel_size_1 + 1\n",
    "        out_conv_2 = n_kernels_2 * (out_conv_1 - kernel_size_2 + 1)\n",
    "\n",
    "        self.main = nn.Sequential(           \n",
    "            nn.Conv1d(in_channels=1, out_channels=n_kernels_1, kernel_size=kernel_size_1),\n",
    "            Square(),\n",
    "            nn.Conv1d(in_channels=n_kernels_1, out_channels=n_kernels_2, kernel_size=kernel_size_2),\n",
    "            Square(),\n",
    "            nn.Flatten(),      \n",
    "            \n",
    "            nn.Linear(out_conv_2, int(out_conv_2/2)), #use without avgpool\n",
    "            # nn.Linear(int(out_conv_2/4), output_horizon)   \n",
    "            nn.Linear(int(out_conv_2/2), int(out_conv_2/4)),\n",
    "            nn.Linear(int(out_conv_2/4), output_horizon)   \n",
    "        )\n",
    "\n",
    "    def forward(self, x):\n",
    "        out = self.main(x)\n",
    "        return out\n",
    "    \n",
    "    def __str__(self):\n",
    "        return \"PINPOINT_2CONV\""
   ]
  },
  {
   "cell_type": "code",
   "execution_count": 3,
   "metadata": {
    "execution": {
     "iopub.execute_input": "2022-05-19T08:09:23.119429Z",
     "iopub.status.busy": "2022-05-19T08:09:23.118241Z",
     "iopub.status.idle": "2022-05-19T08:09:23.142701Z",
     "shell.execute_reply": "2022-05-19T08:09:23.143644Z"
    }
   },
   "outputs": [],
   "source": [
    "experiment_name = \"Covid-19 Cases\"\n",
    "seq_length = 14\n",
    "forecast_horizon = 7\n",
    "model_class = \"PINPOINT_2CONV\""
   ]
  },
  {
   "cell_type": "code",
   "execution_count": 4,
   "metadata": {
    "execution": {
     "iopub.execute_input": "2022-05-19T08:09:23.152070Z",
     "iopub.status.busy": "2022-05-19T08:09:23.150894Z",
     "iopub.status.idle": "2022-05-19T08:09:26.485155Z",
     "shell.execute_reply": "2022-05-19T08:09:26.486154Z"
    }
   },
   "outputs": [],
   "source": [
    "model = torch.load(f\"{working_directory}/Experiments/models/{experiment_name}_{forecast_horizon}_{model_class}.pt\")"
   ]
  },
  {
   "cell_type": "code",
   "execution_count": 5,
   "metadata": {
    "execution": {
     "iopub.execute_input": "2022-05-19T08:09:26.497410Z",
     "iopub.status.busy": "2022-05-19T08:09:26.496215Z",
     "iopub.status.idle": "2022-05-19T08:09:26.503855Z",
     "shell.execute_reply": "2022-05-19T08:09:26.504837Z"
    }
   },
   "outputs": [
    {
     "data": {
      "text/plain": [
       "PINPOINT_2CONV(\n",
       "  (main): Sequential(\n",
       "    (0): Conv1d(1, 16, kernel_size=(5,), stride=(1,))\n",
       "    (1): Square()\n",
       "    (2): Conv1d(16, 32, kernel_size=(3,), stride=(1,))\n",
       "    (3): Square()\n",
       "    (4): Flatten(start_dim=1, end_dim=-1)\n",
       "    (5): Linear(in_features=256, out_features=128, bias=True)\n",
       "    (6): Linear(in_features=128, out_features=64, bias=True)\n",
       "    (7): Linear(in_features=64, out_features=7, bias=True)\n",
       "  )\n",
       ")"
      ]
     },
     "execution_count": 5,
     "metadata": {},
     "output_type": "execute_result"
    }
   ],
   "source": [
    "model"
   ]
  },
  {
   "cell_type": "markdown",
   "metadata": {},
   "source": [
    "# Dataset"
   ]
  },
  {
   "cell_type": "code",
   "execution_count": 6,
   "metadata": {
    "execution": {
     "iopub.execute_input": "2022-05-19T08:09:26.516176Z",
     "iopub.status.busy": "2022-05-19T08:09:26.514966Z",
     "iopub.status.idle": "2022-05-19T08:09:26.533104Z",
     "shell.execute_reply": "2022-05-19T08:09:26.534067Z"
    }
   },
   "outputs": [
    {
     "name": "stdout",
     "output_type": "stream",
     "text": [
      "Date\n",
      "2020-02-25       93\n",
      "2020-02-26       78\n",
      "2020-02-27      250\n",
      "2020-02-28      238\n",
      "2020-02-29      240\n",
      "              ...  \n",
      "2021-01-26    10593\n",
      "2021-01-27    15204\n",
      "2021-01-28    14372\n",
      "2021-01-29    13574\n",
      "2021-01-30    12715\n",
      "Freq: D, Name: Daily cases, Length: 341, dtype: int64\n",
      "Date\n",
      "2021-01-31    11252\n",
      "2021-02-01     7925\n",
      "2021-02-02     9660\n",
      "2021-02-03    13189\n",
      "2021-02-04    13659\n",
      "              ...  \n",
      "2021-11-27    12877\n",
      "2021-11-28    12932\n",
      "2021-11-29     7975\n",
      "2021-11-30    12764\n",
      "2021-12-01    15085\n",
      "Freq: D, Name: Daily cases, Length: 305, dtype: int64\n"
     ]
    }
   ],
   "source": [
    "# covid daily cases\n",
    "df = pd.read_csv(f\"{working_directory}/data/Covid19-italy.csv\", parse_dates=[\"Date\"], index_col=\"Date\")\n",
    "df = df.loc[:pd.Timestamp(\"2021-12-01\"), 'Daily cases']\n",
    "df.index.freq = 'D'\n",
    "entire_ts = df\n",
    "\n",
    "train = entire_ts.loc[:pd.Timestamp(\"2021-01-14\")]\n",
    "validation_length = int(0.05 * len(train))\n",
    "validation = entire_ts.loc[train.index[-1] + entire_ts.index.freq:train.index[-1] + validation_length * entire_ts.index.freq]\n",
    "test = entire_ts.loc[validation.index[-1] + entire_ts.index.freq:]\n",
    "\n",
    "plot_name = \"Covid19\"\n",
    "yaxis_name = \"Cases\"\n",
    "\n",
    "train = train.append(validation)\n",
    "\n",
    "print(train)\n",
    "print(test)"
   ]
  },
  {
   "cell_type": "markdown",
   "metadata": {},
   "source": [
    "# Expected outputs"
   ]
  },
  {
   "cell_type": "code",
   "execution_count": 7,
   "metadata": {
    "execution": {
     "iopub.execute_input": "2022-05-19T08:09:26.545841Z",
     "iopub.status.busy": "2022-05-19T08:09:26.544621Z",
     "iopub.status.idle": "2022-05-19T08:09:26.733922Z",
     "shell.execute_reply": "2022-05-19T08:09:26.732512Z"
    }
   },
   "outputs": [],
   "source": [
    "expected_output = []\n",
    "\n",
    "scaler = MinMaxScaler(feature_range=(-1, 1))\n",
    "_ = scaler.fit_transform(train.values.reshape(-1, 1))\n",
    "\n",
    "_train = train.copy()\n",
    "_test = test.copy()\n",
    "\n",
    "forecast = np.array([])\n",
    "\n",
    "for i in range(0, int(len(_test) / forecast_horizon) + 1):\n",
    "    model.eval()\n",
    "\n",
    "    inputs = _train.values.reshape(len(_train), 1)\n",
    "\n",
    "    inputs_normalized = scaler.transform(inputs)\n",
    "    inputs_normalized = torch.FloatTensor(inputs_normalized[-seq_length:]).to(device)\n",
    "\n",
    "    predict = model(inputs_normalized.reshape(1, 1, seq_length))\n",
    "    predict = scaler.inverse_transform(predict.cpu().detach().numpy())\n",
    "    forecast = np.append(forecast, predict)\n",
    "\n",
    "    for j in range(0, forecast_horizon):\n",
    "        if len(_test) > 0:\n",
    "            _train[_train.index[-1] + train.index.freq] = _test.iloc[0]\n",
    "            _test = _test.iloc[1:]\n",
    "\n",
    "expected_output = pd.Series(data=forecast[:len(test)], index=test.index)"
   ]
  },
  {
   "cell_type": "code",
   "execution_count": 8,
   "metadata": {
    "execution": {
     "iopub.execute_input": "2022-05-19T08:09:26.743063Z",
     "iopub.status.busy": "2022-05-19T08:09:26.741883Z",
     "iopub.status.idle": "2022-05-19T08:09:26.748797Z",
     "shell.execute_reply": "2022-05-19T08:09:26.747581Z"
    }
   },
   "outputs": [
    {
     "data": {
      "text/plain": [
       "Date\n",
       "2021-01-31    10938.509766\n",
       "2021-02-01     9845.774414\n",
       "2021-02-02    11315.616211\n",
       "2021-02-03    13557.890625\n",
       "2021-02-04    14789.843750\n",
       "                  ...     \n",
       "2021-11-27    13218.537109\n",
       "2021-11-28    11659.662109\n",
       "2021-11-29    10567.585938\n",
       "2021-11-30    12157.305664\n",
       "2021-12-01    14271.543945\n",
       "Freq: D, Length: 305, dtype: float64"
      ]
     },
     "execution_count": 8,
     "metadata": {},
     "output_type": "execute_result"
    }
   ],
   "source": [
    "expected_output"
   ]
  },
  {
   "cell_type": "code",
   "execution_count": 9,
   "metadata": {
    "execution": {
     "iopub.execute_input": "2022-05-19T08:09:26.756724Z",
     "iopub.status.busy": "2022-05-19T08:09:26.755520Z",
     "iopub.status.idle": "2022-05-19T08:09:26.762112Z",
     "shell.execute_reply": "2022-05-19T08:09:26.761062Z"
    },
    "tags": []
   },
   "outputs": [
    {
     "name": "stdout",
     "output_type": "stream",
     "text": [
      "Covid-19 Cases\n",
      "MAE of model PINPOINT_2CONV, forecast horizon: 7: 998.13\n"
     ]
    }
   ],
   "source": [
    "print(experiment_name)\n",
    "print(f\"MAE of model {model}, forecast horizon: {forecast_horizon}: {round(mean_absolute_error(test, expected_output), 2)}\")"
   ]
  },
  {
   "cell_type": "markdown",
   "metadata": {
    "tags": []
   },
   "source": [
    "## Encode the models"
   ]
  },
  {
   "cell_type": "code",
   "execution_count": 10,
   "metadata": {
    "execution": {
     "iopub.execute_input": "2022-05-19T08:09:26.941790Z",
     "iopub.status.busy": "2022-05-19T08:09:26.940579Z",
     "iopub.status.idle": "2022-05-19T08:09:37.617281Z",
     "shell.execute_reply": "2022-05-19T08:09:37.616222Z"
    },
    "tags": []
   },
   "outputs": [],
   "source": [
    "HE = Pyfhel()    \n",
    "HE.contextGen(p=9615535171512, m=8192, intDigits=16, fracDigits=64) \n",
    "HE.keyGen()\n",
    "HE.relinKeyGen(30, 3)\n",
    "\n",
    "encoded_model = build_from_pytorch(HE, model.cpu().main)"
   ]
  },
  {
   "cell_type": "markdown",
   "metadata": {
    "tags": []
   },
   "source": [
    "# Encrypted processing"
   ]
  },
  {
   "cell_type": "code",
   "execution_count": 11,
   "metadata": {
    "execution": {
     "iopub.execute_input": "2022-05-19T08:09:38.374584Z",
     "iopub.status.busy": "2022-05-19T08:09:38.372845Z",
     "iopub.status.idle": "2022-05-19T10:10:07.527400Z",
     "shell.execute_reply": "2022-05-19T10:10:07.525946Z"
    },
    "tags": []
   },
   "outputs": [],
   "source": [
    "decrypted_output = None\n",
    "\n",
    "scaler = MinMaxScaler(feature_range=(-1, 1))\n",
    "_ = scaler.fit_transform(train.values.reshape(-1, 1))\n",
    "\n",
    "_train = train.copy()\n",
    "_test = test.copy()\n",
    "\n",
    "forecast = np.array([])\n",
    "\n",
    "for i in range(0, int(len(_test) / forecast_horizon) + 1):\n",
    "    inputs = _train.values.reshape(len(_train), 1)\n",
    "\n",
    "    inputs_normalized = scaler.transform(inputs)\n",
    "    inputs_normalized = inputs_normalized[-seq_length:].reshape(1, 1, seq_length)\n",
    "\n",
    "    encrypted_input = encrypt_matrix(HE, inputs_normalized)\n",
    "\n",
    "    for layer in encoded_model:\n",
    "        encrypted_input = layer(encrypted_input)\n",
    "    \n",
    "    _min = HE.encodeFrac(scaler.min_[0])\n",
    "    _scale = HE.encodeFrac(1.0 / scaler.scale_[0])\n",
    "    \n",
    "    encrypted_input = [list(map(lambda x: (x - _min)*_scale, encrypted_input[0]))]\n",
    "    predict = decrypt_matrix(HE, encrypted_input)\n",
    "\n",
    "    forecast = np.append(forecast, predict)\n",
    "\n",
    "    for j in range(0, forecast_horizon):\n",
    "        if len(_test) > 0:\n",
    "            _train[_train.index[-1] + train.index.freq] = _test.iloc[0]\n",
    "            _test = _test.iloc[1:]\n",
    "\n",
    "decrypted_output = pd.Series(data=forecast[:len(test)], index=test.index)"
   ]
  },
  {
   "cell_type": "code",
   "execution_count": 12,
   "metadata": {
    "execution": {
     "iopub.execute_input": "2022-05-19T10:10:07.537619Z",
     "iopub.status.busy": "2022-05-19T10:10:07.533253Z",
     "iopub.status.idle": "2022-05-19T10:10:07.544100Z",
     "shell.execute_reply": "2022-05-19T10:10:07.542882Z"
    }
   },
   "outputs": [
    {
     "data": {
      "text/plain": [
       "Date\n",
       "2021-01-31    10938.509766\n",
       "2021-02-01     9845.774414\n",
       "2021-02-02    11315.616211\n",
       "2021-02-03    13557.890625\n",
       "2021-02-04    14789.843750\n",
       "                  ...     \n",
       "2021-11-27    13218.537109\n",
       "2021-11-28    11659.662109\n",
       "2021-11-29    10567.585938\n",
       "2021-11-30    12157.305664\n",
       "2021-12-01    14271.543945\n",
       "Freq: D, Length: 305, dtype: float64"
      ]
     },
     "execution_count": 12,
     "metadata": {},
     "output_type": "execute_result"
    }
   ],
   "source": [
    "expected_output"
   ]
  },
  {
   "cell_type": "code",
   "execution_count": 13,
   "metadata": {
    "execution": {
     "iopub.execute_input": "2022-05-19T10:10:07.553980Z",
     "iopub.status.busy": "2022-05-19T10:10:07.552704Z",
     "iopub.status.idle": "2022-05-19T10:10:07.560583Z",
     "shell.execute_reply": "2022-05-19T10:10:07.559452Z"
    }
   },
   "outputs": [
    {
     "data": {
      "text/plain": [
       "Date\n",
       "2021-01-31    10947.785074\n",
       "2021-02-01     9855.818912\n",
       "2021-02-02    11320.865809\n",
       "2021-02-03    13563.001699\n",
       "2021-02-04    14800.886880\n",
       "                  ...     \n",
       "2021-11-27    13222.380377\n",
       "2021-11-28    11660.694957\n",
       "2021-11-29    10568.769122\n",
       "2021-11-30    12157.534621\n",
       "2021-12-01    14272.438614\n",
       "Freq: D, Length: 305, dtype: float64"
      ]
     },
     "execution_count": 13,
     "metadata": {},
     "output_type": "execute_result"
    }
   ],
   "source": [
    "decrypted_output"
   ]
  },
  {
   "cell_type": "code",
   "execution_count": 14,
   "metadata": {
    "execution": {
     "iopub.execute_input": "2022-05-19T10:10:07.571305Z",
     "iopub.status.busy": "2022-05-19T10:10:07.570225Z",
     "iopub.status.idle": "2022-05-19T10:10:07.575099Z",
     "shell.execute_reply": "2022-05-19T10:10:07.576053Z"
    }
   },
   "outputs": [
    {
     "name": "stdout",
     "output_type": "stream",
     "text": [
      "MAE of model PINPOINT_2CONV, forecast horizon: 7: 998.13\n",
      "MAE of model PINPOINT_2CONV used on encrypted inputs, forecast horizon: 7: 1033.22\n"
     ]
    }
   ],
   "source": [
    "print(f\"MAE of model {model}, forecast horizon: {forecast_horizon}: {round(mean_absolute_error(test, expected_output), 2)}\")\n",
    "print(f\"MAE of model {model} used on encrypted inputs, forecast horizon: {forecast_horizon}: {round(mean_absolute_error(test, decrypted_output), 2)}\")"
   ]
  },
  {
   "cell_type": "markdown",
   "metadata": {},
   "source": [
    "Difference between expected and obtained on encrypted data:"
   ]
  },
  {
   "cell_type": "code",
   "execution_count": 15,
   "metadata": {
    "execution": {
     "iopub.execute_input": "2022-05-19T10:10:07.588698Z",
     "iopub.status.busy": "2022-05-19T10:10:07.587522Z",
     "iopub.status.idle": "2022-05-19T10:10:07.594235Z",
     "shell.execute_reply": "2022-05-19T10:10:07.592989Z"
    }
   },
   "outputs": [
    {
     "name": "stdout",
     "output_type": "stream",
     "text": [
      "Date\n",
      "2021-01-31    -9.275308\n",
      "2021-02-01   -10.044498\n",
      "2021-02-02    -5.249598\n",
      "2021-02-03    -5.111074\n",
      "2021-02-04   -11.043130\n",
      "                ...    \n",
      "2021-11-27    -3.843268\n",
      "2021-11-28    -1.032847\n",
      "2021-11-29    -1.183184\n",
      "2021-11-30    -0.228957\n",
      "2021-12-01    -0.894669\n",
      "Freq: D, Length: 305, dtype: float64\n"
     ]
    }
   ],
   "source": [
    "print(expected_output - decrypted_output)"
   ]
  },
  {
   "cell_type": "code",
   "execution_count": null,
   "metadata": {},
   "outputs": [],
   "source": []
  }
 ],
 "metadata": {
  "accelerator": "GPU",
  "colab": {
   "collapsed_sections": [],
   "name": "Copia di TS_Exercises2_Planned.ipynb",
   "provenance": [
    {
     "file_id": "1W1_DAqrdw9AQrIWwZLPsGMRA8xDBAjKM",
     "timestamp": 1636703056169
    }
   ],
   "toc_visible": true
  },
  "kernelspec": {
   "display_name": "PINPOINT",
   "language": "python",
   "name": "pinpoint"
  },
  "language_info": {
   "codemirror_mode": {
    "name": "ipython",
    "version": 3
   },
   "file_extension": ".py",
   "mimetype": "text/x-python",
   "name": "python",
   "nbconvert_exporter": "python",
   "pygments_lexer": "ipython3",
   "version": "3.8.10"
  }
 },
 "nbformat": 4,
 "nbformat_minor": 4
}
