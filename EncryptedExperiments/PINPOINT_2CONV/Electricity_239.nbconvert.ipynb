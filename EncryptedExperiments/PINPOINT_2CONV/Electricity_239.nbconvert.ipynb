{
 "cells": [
  {
   "cell_type": "code",
   "execution_count": 1,
   "metadata": {
    "colab": {
     "base_uri": "https://localhost:8080/"
    },
    "execution": {
     "iopub.execute_input": "2022-05-18T14:04:00.549631Z",
     "iopub.status.busy": "2022-05-18T14:04:00.548276Z",
     "iopub.status.idle": "2022-05-18T14:04:03.000196Z",
     "shell.execute_reply": "2022-05-18T14:04:02.998744Z"
    },
    "executionInfo": {
     "elapsed": 90153,
     "status": "ok",
     "timestamp": 1636668876961,
     "user": {
      "displayName": "Alessandro Falcetta",
      "photoUrl": "https://lh3.googleusercontent.com/a/default-user=s64",
      "userId": "13950768925623106818"
     },
     "user_tz": -60
    },
    "id": "W4D-K5EL2UGR",
    "outputId": "2a02af39-a3da-4740-f88d-5b34647c4351"
   },
   "outputs": [],
   "source": [
    "import pandas as pd\n",
    "import numpy as np\n",
    "\n",
    "from memory_profiler import profile\n",
    "\n",
    "from Pyfhel import Pyfhel, PyPtxt, PyCtxt\n",
    "\n",
    "import torch\n",
    "import torch.nn as nn\n",
    "\n",
    "import time\n",
    "import os\n",
    "import sys\n",
    "\n",
    "working_directory = \"/home/falcetta/PINPOINT_Secret\"\n",
    "\n",
    "device = \"cpu\"\n",
    "module_path = os.path.abspath(working_directory)\n",
    "sys.path.append(module_path) \n",
    "\n",
    "from pycrcnn.net_builder.encoded_net_builder_ts import build_from_pytorch\n",
    "from pycrcnn.crypto.crypto import encrypt_matrix, decrypt_matrix\n",
    "from train_utils import *\n",
    "\n",
    "from sklearn.preprocessing import MinMaxScaler\n",
    "\n",
    "from sklearn.metrics import mean_squared_error, mean_absolute_error"
   ]
  },
  {
   "cell_type": "markdown",
   "metadata": {},
   "source": [
    "# Models"
   ]
  },
  {
   "cell_type": "code",
   "execution_count": 2,
   "metadata": {
    "execution": {
     "iopub.execute_input": "2022-05-18T14:04:03.011452Z",
     "iopub.status.busy": "2022-05-18T14:04:03.010187Z",
     "iopub.status.idle": "2022-05-18T14:04:03.020525Z",
     "shell.execute_reply": "2022-05-18T14:04:03.019290Z"
    },
    "tags": []
   },
   "outputs": [],
   "source": [
    "class Square(torch.nn.Module):\n",
    "    def __init__(self):\n",
    "        super().__init__()\n",
    " \n",
    "    def forward(self, t):\n",
    "        return torch.pow(t, 2)\n",
    "\n",
    "class Cube(torch.nn.Module):\n",
    "    def __init__(self):\n",
    "        super().__init__()\n",
    " \n",
    "    def forward(self, t):\n",
    "        return torch.pow(t, 3)\n",
    "    \n",
    "class Printer(torch.nn.Module):\n",
    "    def __init__(self):\n",
    "        super().__init__()\n",
    "    \n",
    "    def forward(self, t):\n",
    "        # print(t)\n",
    "        print(t.shape)\n",
    "        return t\n",
    "\n",
    "\n",
    "class PINPOINT_1CONV(nn.Module):\n",
    "    def __init__(self, input_size, output_horizon):\n",
    "        super(PINPOINT_1CONV, self).__init__()\n",
    "\n",
    "        n_kernels_1 = 32\n",
    "        kernel_size_1 = 3\n",
    "        out_conv_1 = n_kernels_1 * (input_size - kernel_size_1 + 1)\n",
    "\n",
    "        self.main = nn.Sequential(           \n",
    "            nn.Conv1d(in_channels=1, out_channels=n_kernels_1, kernel_size=kernel_size_1),\n",
    "            Square(),\n",
    "            nn.Flatten(),      \n",
    "            \n",
    "            nn.Linear(out_conv_1, int(out_conv_1/2)), #use without avgpool\n",
    "            # nn.Linear(int(out_conv_1/2), output_horizon)   \n",
    "            nn.Linear(int(out_conv_1/2), int(out_conv_1/4)),\n",
    "            nn.Linear(int(out_conv_1/4), output_horizon)   \n",
    "        )\n",
    "\n",
    "    def forward(self, x):\n",
    "        out = self.main(x)\n",
    "        return out\n",
    "    \n",
    "    def __str__(self):\n",
    "        return \"PINPOINT_1CONV\"\n",
    "\n",
    "    \n",
    "class PINPOINT_2CONV(nn.Module):\n",
    "    def __init__(self, input_size, output_horizon):\n",
    "        super(PINPOINT_2CONV, self).__init__()\n",
    "        \n",
    "        n_kernels_1 = 16\n",
    "        n_kernels_2 = 32\n",
    "        kernel_size_1 = 5\n",
    "        kernel_size_2 = 3\n",
    "        \n",
    "        out_conv_1 = input_size - kernel_size_1 + 1\n",
    "        out_conv_2 = n_kernels_2 * (out_conv_1 - kernel_size_2 + 1)\n",
    "\n",
    "        self.main = nn.Sequential(           \n",
    "            nn.Conv1d(in_channels=1, out_channels=n_kernels_1, kernel_size=kernel_size_1),\n",
    "            Square(),\n",
    "            nn.Conv1d(in_channels=n_kernels_1, out_channels=n_kernels_2, kernel_size=kernel_size_2),\n",
    "            Square(),\n",
    "            nn.Flatten(),      \n",
    "            \n",
    "            nn.Linear(out_conv_2, int(out_conv_2/2)), #use without avgpool\n",
    "            # nn.Linear(int(out_conv_2/4), output_horizon)   \n",
    "            nn.Linear(int(out_conv_2/2), int(out_conv_2/4)),\n",
    "            nn.Linear(int(out_conv_2/4), output_horizon)   \n",
    "        )\n",
    "\n",
    "    def forward(self, x):\n",
    "        out = self.main(x)\n",
    "        return out\n",
    "    \n",
    "    def __str__(self):\n",
    "        return \"PINPOINT_2CONV\""
   ]
  },
  {
   "cell_type": "code",
   "execution_count": 3,
   "metadata": {
    "execution": {
     "iopub.execute_input": "2022-05-18T14:04:03.027019Z",
     "iopub.status.busy": "2022-05-18T14:04:03.025828Z",
     "iopub.status.idle": "2022-05-18T14:04:03.058931Z",
     "shell.execute_reply": "2022-05-18T14:04:03.057681Z"
    }
   },
   "outputs": [],
   "source": [
    "experiment_name = \"Electricity_239\"\n",
    "seq_length = 14\n",
    "forecast_horizon = 7\n",
    "model_class = \"PINPOINT_2CONV\""
   ]
  },
  {
   "cell_type": "code",
   "execution_count": 4,
   "metadata": {
    "execution": {
     "iopub.execute_input": "2022-05-18T14:04:07.278569Z",
     "iopub.status.busy": "2022-05-18T14:04:03.067151Z",
     "iopub.status.idle": "2022-05-18T14:04:07.288148Z",
     "shell.execute_reply": "2022-05-18T14:04:07.286940Z"
    }
   },
   "outputs": [],
   "source": [
    "model = torch.load(f\"{working_directory}/Experiments/models/{experiment_name}_{forecast_horizon}_{model_class}.pt\")"
   ]
  },
  {
   "cell_type": "code",
   "execution_count": 5,
   "metadata": {
    "execution": {
     "iopub.execute_input": "2022-05-18T14:04:07.297899Z",
     "iopub.status.busy": "2022-05-18T14:04:07.296706Z",
     "iopub.status.idle": "2022-05-18T14:04:07.304286Z",
     "shell.execute_reply": "2022-05-18T14:04:07.305284Z"
    }
   },
   "outputs": [
    {
     "data": {
      "text/plain": [
       "PINPOINT_2CONV(\n",
       "  (main): Sequential(\n",
       "    (0): Conv1d(1, 16, kernel_size=(5,), stride=(1,))\n",
       "    (1): Square()\n",
       "    (2): Conv1d(16, 32, kernel_size=(3,), stride=(1,))\n",
       "    (3): Square()\n",
       "    (4): Flatten(start_dim=1, end_dim=-1)\n",
       "    (5): Linear(in_features=256, out_features=128, bias=True)\n",
       "    (6): Linear(in_features=128, out_features=64, bias=True)\n",
       "    (7): Linear(in_features=64, out_features=7, bias=True)\n",
       "  )\n",
       ")"
      ]
     },
     "execution_count": 5,
     "metadata": {},
     "output_type": "execute_result"
    }
   ],
   "source": [
    "model"
   ]
  },
  {
   "cell_type": "markdown",
   "metadata": {},
   "source": [
    "# Dataset"
   ]
  },
  {
   "cell_type": "code",
   "execution_count": 6,
   "metadata": {
    "execution": {
     "iopub.execute_input": "2022-05-18T14:04:07.315031Z",
     "iopub.status.busy": "2022-05-18T14:04:07.314148Z",
     "iopub.status.idle": "2022-05-18T14:04:07.331535Z",
     "shell.execute_reply": "2022-05-18T14:04:07.330315Z"
    }
   },
   "outputs": [
    {
     "name": "stdout",
     "output_type": "stream",
     "text": [
      "Date\n",
      "2011-01-01     59.752835\n",
      "2011-01-02    110.731846\n",
      "2011-01-03    111.813538\n",
      "2011-01-04    114.742263\n",
      "2011-01-05    116.618770\n",
      "                 ...    \n",
      "2014-02-20    107.251306\n",
      "2014-02-21    105.136572\n",
      "2014-02-22    110.629857\n",
      "2014-02-23    109.096162\n",
      "2014-02-24    104.642032\n",
      "Freq: D, Name: MT_239, Length: 1151, dtype: float64\n",
      "Date\n",
      "2014-02-25    106.799638\n",
      "2014-02-26    102.126876\n",
      "2014-02-27    105.500151\n",
      "2014-02-28    106.671356\n",
      "2014-03-01    109.906803\n",
      "                 ...    \n",
      "2014-12-28    100.287714\n",
      "2014-12-29    100.261170\n",
      "2014-12-30    105.631950\n",
      "2014-12-31     98.486066\n",
      "2015-01-01     49.268489\n",
      "Freq: D, Name: MT_239, Length: 311, dtype: float64\n"
     ]
    }
   ],
   "source": [
    "df = pd.read_csv(f\"{working_directory}/data/Sensor_MT_239.csv\", parse_dates=['Date'], index_col='Date')\n",
    "df = df.iloc[:, 0]\n",
    "df.index.freq = 'D'\n",
    "entire_ts = df\n",
    "\n",
    "train = entire_ts.loc[:pd.Timestamp(\"2014-01-01\")]\n",
    "validation_length = int(0.05 * len(train))\n",
    "validation = entire_ts.loc[train.index[-1] + entire_ts.index.freq:train.index[-1] + validation_length * entire_ts.index.freq]\n",
    "test = entire_ts.loc[validation.index[-1] + entire_ts.index.freq:]\n",
    "\n",
    "plot_name = \"Consumption\"\n",
    "yaxis_name = \"Daily mean (kW)\"\n",
    "\n",
    "train = train.append(validation)\n",
    "\n",
    "print(train)\n",
    "print(test)"
   ]
  },
  {
   "cell_type": "markdown",
   "metadata": {},
   "source": [
    "# Expected outputs"
   ]
  },
  {
   "cell_type": "code",
   "execution_count": 7,
   "metadata": {
    "execution": {
     "iopub.execute_input": "2022-05-18T14:04:07.342855Z",
     "iopub.status.busy": "2022-05-18T14:04:07.341558Z",
     "iopub.status.idle": "2022-05-18T14:04:07.550049Z",
     "shell.execute_reply": "2022-05-18T14:04:07.548947Z"
    }
   },
   "outputs": [],
   "source": [
    "expected_output = []\n",
    "\n",
    "scaler = MinMaxScaler(feature_range=(-1, 1))\n",
    "_ = scaler.fit_transform(train.values.reshape(-1, 1))\n",
    "\n",
    "_train = train.copy()\n",
    "_test = test.copy()\n",
    "\n",
    "forecast = np.array([])\n",
    "\n",
    "for i in range(0, int(len(_test) / forecast_horizon) + 1):\n",
    "    model.eval()\n",
    "\n",
    "    inputs = _train.values.reshape(len(_train), 1)\n",
    "\n",
    "    inputs_normalized = scaler.transform(inputs)\n",
    "    inputs_normalized = torch.FloatTensor(inputs_normalized[-seq_length:]).to(device)\n",
    "\n",
    "    predict = model(inputs_normalized.reshape(1, 1, seq_length))\n",
    "    predict = scaler.inverse_transform(predict.cpu().detach().numpy())\n",
    "    forecast = np.append(forecast, predict)\n",
    "\n",
    "    for j in range(0, forecast_horizon):\n",
    "        if len(_test) > 0:\n",
    "            _train[_train.index[-1] + train.index.freq] = _test.iloc[0]\n",
    "            _test = _test.iloc[1:]\n",
    "\n",
    "expected_output = pd.Series(data=forecast[:len(test)], index=test.index)"
   ]
  },
  {
   "cell_type": "code",
   "execution_count": 8,
   "metadata": {
    "execution": {
     "iopub.execute_input": "2022-05-18T14:04:07.558567Z",
     "iopub.status.busy": "2022-05-18T14:04:07.557362Z",
     "iopub.status.idle": "2022-05-18T14:04:07.564107Z",
     "shell.execute_reply": "2022-05-18T14:04:07.562828Z"
    }
   },
   "outputs": [
    {
     "data": {
      "text/plain": [
       "Date\n",
       "2014-02-25    105.978012\n",
       "2014-02-26    106.031876\n",
       "2014-02-27    105.979004\n",
       "2014-02-28    105.979378\n",
       "2014-03-01    105.964302\n",
       "                 ...    \n",
       "2014-12-28     96.141487\n",
       "2014-12-29     95.814400\n",
       "2014-12-30     98.241371\n",
       "2014-12-31     96.727028\n",
       "2015-01-01     96.772957\n",
       "Freq: D, Length: 311, dtype: float64"
      ]
     },
     "execution_count": 8,
     "metadata": {},
     "output_type": "execute_result"
    }
   ],
   "source": [
    "expected_output"
   ]
  },
  {
   "cell_type": "code",
   "execution_count": 9,
   "metadata": {
    "execution": {
     "iopub.execute_input": "2022-05-18T14:04:07.570941Z",
     "iopub.status.busy": "2022-05-18T14:04:07.569500Z",
     "iopub.status.idle": "2022-05-18T14:04:07.576906Z",
     "shell.execute_reply": "2022-05-18T14:04:07.575821Z"
    },
    "tags": []
   },
   "outputs": [
    {
     "name": "stdout",
     "output_type": "stream",
     "text": [
      "Electricity_239\n",
      "MAE of model PINPOINT_2CONV, forecast horizon: 7: 5.54\n"
     ]
    }
   ],
   "source": [
    "print(experiment_name)\n",
    "print(f\"MAE of model {model}, forecast horizon: {forecast_horizon}: {round(mean_absolute_error(test, expected_output), 2)}\")"
   ]
  },
  {
   "cell_type": "markdown",
   "metadata": {
    "tags": []
   },
   "source": [
    "## Encode the models"
   ]
  },
  {
   "cell_type": "code",
   "execution_count": 10,
   "metadata": {
    "execution": {
     "iopub.execute_input": "2022-05-18T14:04:07.756392Z",
     "iopub.status.busy": "2022-05-18T14:04:07.755169Z",
     "iopub.status.idle": "2022-05-18T14:04:18.394218Z",
     "shell.execute_reply": "2022-05-18T14:04:18.392931Z"
    },
    "tags": []
   },
   "outputs": [],
   "source": [
    "HE = Pyfhel()    \n",
    "HE.contextGen(p=96155351715128, m=8192, intDigits=16, fracDigits=64) \n",
    "HE.keyGen()\n",
    "HE.relinKeyGen(30, 3)\n",
    "\n",
    "encoded_model = build_from_pytorch(HE, model.cpu().main)"
   ]
  },
  {
   "cell_type": "markdown",
   "metadata": {
    "tags": []
   },
   "source": [
    "# Encrypted processing"
   ]
  },
  {
   "cell_type": "code",
   "execution_count": 11,
   "metadata": {
    "execution": {
     "iopub.execute_input": "2022-05-18T14:04:19.204200Z",
     "iopub.status.busy": "2022-05-18T14:04:19.189971Z",
     "iopub.status.idle": "2022-05-18T16:07:28.160226Z",
     "shell.execute_reply": "2022-05-18T16:07:28.158736Z"
    },
    "tags": []
   },
   "outputs": [],
   "source": [
    "decrypted_output = None\n",
    "\n",
    "scaler = MinMaxScaler(feature_range=(-1, 1))\n",
    "_ = scaler.fit_transform(train.values.reshape(-1, 1))\n",
    "\n",
    "_train = train.copy()\n",
    "_test = test.copy()\n",
    "\n",
    "forecast = np.array([])\n",
    "\n",
    "for i in range(0, int(len(_test) / forecast_horizon) + 1):\n",
    "    inputs = _train.values.reshape(len(_train), 1)\n",
    "\n",
    "    inputs_normalized = scaler.transform(inputs)\n",
    "    inputs_normalized = inputs_normalized[-seq_length:].reshape(1, 1, seq_length)\n",
    "\n",
    "    encrypted_input = encrypt_matrix(HE, inputs_normalized)\n",
    "\n",
    "    for layer in encoded_model:\n",
    "        encrypted_input = layer(encrypted_input)\n",
    "    \n",
    "    _min = HE.encodeFrac(scaler.min_[0])\n",
    "    _scale = HE.encodeFrac(1.0 / scaler.scale_[0])\n",
    "    \n",
    "    encrypted_input = [list(map(lambda x: (x - _min)*_scale, encrypted_input[0]))]\n",
    "    predict = decrypt_matrix(HE, encrypted_input)\n",
    "\n",
    "    forecast = np.append(forecast, predict)\n",
    "\n",
    "    for j in range(0, forecast_horizon):\n",
    "        if len(_test) > 0:\n",
    "            _train[_train.index[-1] + train.index.freq] = _test.iloc[0]\n",
    "            _test = _test.iloc[1:]\n",
    "\n",
    "decrypted_output = pd.Series(data=forecast[:len(test)], index=test.index)"
   ]
  },
  {
   "cell_type": "code",
   "execution_count": 12,
   "metadata": {
    "execution": {
     "iopub.execute_input": "2022-05-18T16:07:28.170511Z",
     "iopub.status.busy": "2022-05-18T16:07:28.169274Z",
     "iopub.status.idle": "2022-05-18T16:07:28.174473Z",
     "shell.execute_reply": "2022-05-18T16:07:28.175419Z"
    }
   },
   "outputs": [
    {
     "data": {
      "text/plain": [
       "Date\n",
       "2014-02-25    105.978012\n",
       "2014-02-26    106.031876\n",
       "2014-02-27    105.979004\n",
       "2014-02-28    105.979378\n",
       "2014-03-01    105.964302\n",
       "                 ...    \n",
       "2014-12-28     96.141487\n",
       "2014-12-29     95.814400\n",
       "2014-12-30     98.241371\n",
       "2014-12-31     96.727028\n",
       "2015-01-01     96.772957\n",
       "Freq: D, Length: 311, dtype: float64"
      ]
     },
     "execution_count": 12,
     "metadata": {},
     "output_type": "execute_result"
    }
   ],
   "source": [
    "expected_output"
   ]
  },
  {
   "cell_type": "code",
   "execution_count": 13,
   "metadata": {
    "execution": {
     "iopub.execute_input": "2022-05-18T16:07:28.183831Z",
     "iopub.status.busy": "2022-05-18T16:07:28.182889Z",
     "iopub.status.idle": "2022-05-18T16:07:28.187856Z",
     "shell.execute_reply": "2022-05-18T16:07:28.186859Z"
    }
   },
   "outputs": [
    {
     "data": {
      "text/plain": [
       "Date\n",
       "2014-02-25    105.979590\n",
       "2014-02-26    106.033485\n",
       "2014-02-27    105.977669\n",
       "2014-02-28    105.979967\n",
       "2014-03-01    105.966258\n",
       "                 ...    \n",
       "2014-12-28     96.139905\n",
       "2014-12-29     95.812728\n",
       "2014-12-30     98.248429\n",
       "2014-12-31     96.733223\n",
       "2015-01-01     96.785505\n",
       "Freq: D, Length: 311, dtype: float64"
      ]
     },
     "execution_count": 13,
     "metadata": {},
     "output_type": "execute_result"
    }
   ],
   "source": [
    "decrypted_output"
   ]
  },
  {
   "cell_type": "code",
   "execution_count": 14,
   "metadata": {
    "execution": {
     "iopub.execute_input": "2022-05-18T16:07:28.196194Z",
     "iopub.status.busy": "2022-05-18T16:07:28.195134Z",
     "iopub.status.idle": "2022-05-18T16:07:28.201321Z",
     "shell.execute_reply": "2022-05-18T16:07:28.200107Z"
    }
   },
   "outputs": [
    {
     "name": "stdout",
     "output_type": "stream",
     "text": [
      "MAE of model PINPOINT_2CONV, forecast horizon: 7: 5.54\n",
      "MAE of model PINPOINT_2CONV used on encrypted inputs, forecast horizon: 7: 5.54\n"
     ]
    }
   ],
   "source": [
    "print(f\"MAE of model {model}, forecast horizon: {forecast_horizon}: {round(mean_absolute_error(test, expected_output), 2)}\")\n",
    "print(f\"MAE of model {model} used on encrypted inputs, forecast horizon: {forecast_horizon}: {round(mean_absolute_error(test, decrypted_output), 2)}\")"
   ]
  },
  {
   "cell_type": "markdown",
   "metadata": {},
   "source": [
    "Difference between expected and obtained on encrypted data:"
   ]
  },
  {
   "cell_type": "code",
   "execution_count": 15,
   "metadata": {
    "execution": {
     "iopub.execute_input": "2022-05-18T16:07:28.213439Z",
     "iopub.status.busy": "2022-05-18T16:07:28.212261Z",
     "iopub.status.idle": "2022-05-18T16:07:28.217351Z",
     "shell.execute_reply": "2022-05-18T16:07:28.216233Z"
    }
   },
   "outputs": [
    {
     "name": "stdout",
     "output_type": "stream",
     "text": [
      "Date\n",
      "2014-02-25   -0.001578\n",
      "2014-02-26   -0.001610\n",
      "2014-02-27    0.001335\n",
      "2014-02-28   -0.000589\n",
      "2014-03-01   -0.001956\n",
      "                ...   \n",
      "2014-12-28    0.001582\n",
      "2014-12-29    0.001672\n",
      "2014-12-30   -0.007057\n",
      "2014-12-31   -0.006196\n",
      "2015-01-01   -0.012548\n",
      "Freq: D, Length: 311, dtype: float64\n"
     ]
    }
   ],
   "source": [
    "print(expected_output - decrypted_output)"
   ]
  },
  {
   "cell_type": "code",
   "execution_count": null,
   "metadata": {},
   "outputs": [],
   "source": []
  }
 ],
 "metadata": {
  "accelerator": "GPU",
  "colab": {
   "collapsed_sections": [],
   "name": "Copia di TS_Exercises2_Planned.ipynb",
   "provenance": [
    {
     "file_id": "1W1_DAqrdw9AQrIWwZLPsGMRA8xDBAjKM",
     "timestamp": 1636703056169
    }
   ],
   "toc_visible": true
  },
  "kernelspec": {
   "display_name": "PINPOINT",
   "language": "python",
   "name": "pinpoint"
  },
  "language_info": {
   "codemirror_mode": {
    "name": "ipython",
    "version": 3
   },
   "file_extension": ".py",
   "mimetype": "text/x-python",
   "name": "python",
   "nbconvert_exporter": "python",
   "pygments_lexer": "ipython3",
   "version": "3.8.10"
  }
 },
 "nbformat": 4,
 "nbformat_minor": 4
}
