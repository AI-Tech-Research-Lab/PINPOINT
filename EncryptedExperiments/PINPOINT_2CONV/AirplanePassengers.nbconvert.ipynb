{
 "cells": [
  {
   "cell_type": "code",
   "execution_count": 1,
   "metadata": {
    "colab": {
     "base_uri": "https://localhost:8080/"
    },
    "execution": {
     "iopub.execute_input": "2022-05-18T14:03:24.121151Z",
     "iopub.status.busy": "2022-05-18T14:03:24.115778Z",
     "iopub.status.idle": "2022-05-18T14:03:26.478287Z",
     "shell.execute_reply": "2022-05-18T14:03:26.476777Z"
    },
    "executionInfo": {
     "elapsed": 90153,
     "status": "ok",
     "timestamp": 1636668876961,
     "user": {
      "displayName": "Alessandro Falcetta",
      "photoUrl": "https://lh3.googleusercontent.com/a/default-user=s64",
      "userId": "13950768925623106818"
     },
     "user_tz": -60
    },
    "id": "W4D-K5EL2UGR",
    "outputId": "2a02af39-a3da-4740-f88d-5b34647c4351"
   },
   "outputs": [],
   "source": [
    "import pandas as pd\n",
    "import numpy as np\n",
    "\n",
    "from memory_profiler import profile\n",
    "\n",
    "from Pyfhel import Pyfhel, PyPtxt, PyCtxt\n",
    "\n",
    "import torch\n",
    "import torch.nn as nn\n",
    "\n",
    "import time\n",
    "import os\n",
    "import sys\n",
    "\n",
    "working_directory = \"/home/falcetta/PINPOINT_Secret\"\n",
    "\n",
    "device = \"cpu\"\n",
    "module_path = os.path.abspath(working_directory)\n",
    "sys.path.append(module_path) \n",
    "\n",
    "from pycrcnn.net_builder.encoded_net_builder_ts import build_from_pytorch\n",
    "from pycrcnn.crypto.crypto import encrypt_matrix, decrypt_matrix\n",
    "from train_utils import *\n",
    "\n",
    "from sklearn.preprocessing import MinMaxScaler\n",
    "\n",
    "from sklearn.metrics import mean_squared_error, mean_absolute_error"
   ]
  },
  {
   "cell_type": "markdown",
   "metadata": {},
   "source": [
    "# Models"
   ]
  },
  {
   "cell_type": "code",
   "execution_count": 2,
   "metadata": {
    "execution": {
     "iopub.execute_input": "2022-05-18T14:03:26.493916Z",
     "iopub.status.busy": "2022-05-18T14:03:26.487992Z",
     "iopub.status.idle": "2022-05-18T14:03:26.498470Z",
     "shell.execute_reply": "2022-05-18T14:03:26.497233Z"
    },
    "tags": []
   },
   "outputs": [],
   "source": [
    "class Square(torch.nn.Module):\n",
    "    def __init__(self):\n",
    "        super().__init__()\n",
    " \n",
    "    def forward(self, t):\n",
    "        return torch.pow(t, 2)\n",
    "\n",
    "class Cube(torch.nn.Module):\n",
    "    def __init__(self):\n",
    "        super().__init__()\n",
    " \n",
    "    def forward(self, t):\n",
    "        return torch.pow(t, 3)\n",
    "    \n",
    "class Printer(torch.nn.Module):\n",
    "    def __init__(self):\n",
    "        super().__init__()\n",
    "    \n",
    "    def forward(self, t):\n",
    "        # print(t)\n",
    "        print(t.shape)\n",
    "        return t\n",
    "\n",
    "\n",
    "class PINPOINT_1CONV(nn.Module):\n",
    "    def __init__(self, input_size, output_horizon):\n",
    "        super(PINPOINT_1CONV, self).__init__()\n",
    "\n",
    "        n_kernels_1 = 32\n",
    "        kernel_size_1 = 3\n",
    "        out_conv_1 = n_kernels_1 * (input_size - kernel_size_1 + 1)\n",
    "\n",
    "        self.main = nn.Sequential(           \n",
    "            nn.Conv1d(in_channels=1, out_channels=n_kernels_1, kernel_size=kernel_size_1),\n",
    "            Square(),\n",
    "            nn.Flatten(),      \n",
    "            \n",
    "            nn.Linear(out_conv_1, int(out_conv_1/2)), #use without avgpool\n",
    "            # nn.Linear(int(out_conv_1/2), output_horizon)   \n",
    "            nn.Linear(int(out_conv_1/2), int(out_conv_1/4)),\n",
    "            nn.Linear(int(out_conv_1/4), output_horizon)   \n",
    "        )\n",
    "\n",
    "    def forward(self, x):\n",
    "        out = self.main(x)\n",
    "        return out\n",
    "    \n",
    "    def __str__(self):\n",
    "        return \"PINPOINT_1CONV\"\n",
    "\n",
    "    \n",
    "class PINPOINT_2CONV(nn.Module):\n",
    "    def __init__(self, input_size, output_horizon):\n",
    "        super(PINPOINT_2CONV, self).__init__()\n",
    "        \n",
    "        n_kernels_1 = 16\n",
    "        n_kernels_2 = 32\n",
    "        kernel_size_1 = 5\n",
    "        kernel_size_2 = 3\n",
    "        \n",
    "        out_conv_1 = input_size - kernel_size_1 + 1\n",
    "        out_conv_2 = n_kernels_2 * (out_conv_1 - kernel_size_2 + 1)\n",
    "\n",
    "        self.main = nn.Sequential(           \n",
    "            nn.Conv1d(in_channels=1, out_channels=n_kernels_1, kernel_size=kernel_size_1),\n",
    "            Square(),\n",
    "            nn.Conv1d(in_channels=n_kernels_1, out_channels=n_kernels_2, kernel_size=kernel_size_2),\n",
    "            Square(),\n",
    "            nn.Flatten(),      \n",
    "            \n",
    "            nn.Linear(out_conv_2, int(out_conv_2/2)), #use without avgpool\n",
    "            # nn.Linear(int(out_conv_2/4), output_horizon)   \n",
    "            nn.Linear(int(out_conv_2/2), int(out_conv_2/4)),\n",
    "            nn.Linear(int(out_conv_2/4), output_horizon)   \n",
    "        )\n",
    "\n",
    "    def forward(self, x):\n",
    "        out = self.main(x)\n",
    "        return out\n",
    "    \n",
    "    def __str__(self):\n",
    "        return \"PINPOINT_2CONV\""
   ]
  },
  {
   "cell_type": "code",
   "execution_count": 3,
   "metadata": {
    "execution": {
     "iopub.execute_input": "2022-05-18T14:03:26.504350Z",
     "iopub.status.busy": "2022-05-18T14:03:26.503163Z",
     "iopub.status.idle": "2022-05-18T14:03:26.521544Z",
     "shell.execute_reply": "2022-05-18T14:03:26.522512Z"
    }
   },
   "outputs": [],
   "source": [
    "experiment_name = \"AirlinePassengers\"\n",
    "seq_length = 12\n",
    "forecast_horizon = 6\n",
    "model_class = \"PINPOINT_2CONV\""
   ]
  },
  {
   "cell_type": "code",
   "execution_count": 4,
   "metadata": {
    "execution": {
     "iopub.execute_input": "2022-05-18T14:03:30.837882Z",
     "iopub.status.busy": "2022-05-18T14:03:30.836582Z",
     "iopub.status.idle": "2022-05-18T14:03:30.847968Z",
     "shell.execute_reply": "2022-05-18T14:03:30.846723Z"
    }
   },
   "outputs": [],
   "source": [
    "model = torch.load(f\"{working_directory}/Experiments/models/{experiment_name}_{forecast_horizon}_{model_class}.pt\")"
   ]
  },
  {
   "cell_type": "code",
   "execution_count": null,
   "metadata": {},
   "outputs": [],
   "source": []
  },
  {
   "cell_type": "code",
   "execution_count": 5,
   "metadata": {
    "execution": {
     "iopub.execute_input": "2022-05-18T14:03:30.858800Z",
     "iopub.status.busy": "2022-05-18T14:03:30.857613Z",
     "iopub.status.idle": "2022-05-18T14:03:30.865396Z",
     "shell.execute_reply": "2022-05-18T14:03:30.866400Z"
    }
   },
   "outputs": [
    {
     "data": {
      "text/plain": [
       "PINPOINT_2CONV(\n",
       "  (main): Sequential(\n",
       "    (0): Conv1d(1, 16, kernel_size=(5,), stride=(1,))\n",
       "    (1): Square()\n",
       "    (2): Conv1d(16, 32, kernel_size=(3,), stride=(1,))\n",
       "    (3): Square()\n",
       "    (4): Flatten(start_dim=1, end_dim=-1)\n",
       "    (5): Linear(in_features=192, out_features=96, bias=True)\n",
       "    (6): Linear(in_features=96, out_features=48, bias=True)\n",
       "    (7): Linear(in_features=48, out_features=6, bias=True)\n",
       "  )\n",
       ")"
      ]
     },
     "execution_count": 5,
     "metadata": {},
     "output_type": "execute_result"
    }
   ],
   "source": [
    "model"
   ]
  },
  {
   "cell_type": "markdown",
   "metadata": {},
   "source": [
    "# Dataset"
   ]
  },
  {
   "cell_type": "code",
   "execution_count": 6,
   "metadata": {
    "execution": {
     "iopub.execute_input": "2022-05-18T14:03:30.890467Z",
     "iopub.status.busy": "2022-05-18T14:03:30.889184Z",
     "iopub.status.idle": "2022-05-18T14:03:30.896385Z",
     "shell.execute_reply": "2022-05-18T14:03:30.895115Z"
    }
   },
   "outputs": [
    {
     "name": "stdout",
     "output_type": "stream",
     "text": [
      "Month\n",
      "1949-01-01    112\n",
      "1949-02-01    118\n",
      "1949-03-01    132\n",
      "1949-04-01    129\n",
      "1949-05-01    121\n",
      "             ... \n",
      "1958-02-01    318\n",
      "1958-03-01    362\n",
      "1958-04-01    348\n",
      "1958-05-01    363\n",
      "1958-06-01    435\n",
      "Freq: MS, Name: Passengers, Length: 114, dtype: int64\n",
      "Month\n",
      "1958-07-01    491\n",
      "1958-08-01    505\n",
      "1958-09-01    404\n",
      "1958-10-01    359\n",
      "1958-11-01    310\n",
      "1958-12-01    337\n",
      "1959-01-01    360\n",
      "1959-02-01    342\n",
      "1959-03-01    406\n",
      "1959-04-01    396\n",
      "1959-05-01    420\n",
      "1959-06-01    472\n",
      "1959-07-01    548\n",
      "1959-08-01    559\n",
      "1959-09-01    463\n",
      "1959-10-01    407\n",
      "1959-11-01    362\n",
      "1959-12-01    405\n",
      "1960-01-01    417\n",
      "1960-02-01    391\n",
      "1960-03-01    419\n",
      "1960-04-01    461\n",
      "1960-05-01    472\n",
      "1960-06-01    535\n",
      "1960-07-01    622\n",
      "1960-08-01    606\n",
      "1960-09-01    508\n",
      "1960-10-01    461\n",
      "1960-11-01    390\n",
      "1960-12-01    432\n",
      "Freq: MS, Name: Passengers, dtype: int64\n"
     ]
    }
   ],
   "source": [
    "monthly_passengers = pd.read_csv(f\"{working_directory}/data/airline-passengers.csv\", parse_dates=['Month'], index_col='Month')\n",
    "monthly_passengers = monthly_passengers.loc[:, 'Passengers']\n",
    "monthly_passengers.index.freq = 'MS'\n",
    "entire_ts = monthly_passengers\n",
    "train = entire_ts.loc[:pd.Timestamp(\"1958-01-01\")]\n",
    "\n",
    "validation_length = int(0.05 * len(train))\n",
    "validation = entire_ts.loc[train.index[-1] + entire_ts.index.freq:train.index[-1] + validation_length * entire_ts.index.freq]\n",
    "test = entire_ts.loc[validation.index[-1] + entire_ts.index.freq:]\n",
    "\n",
    "plot_name = \"Monthly passengers airline\"\n",
    "yaxis_name = \"Passengers\"\n",
    "\n",
    "train = train.append(validation)\n",
    "\n",
    "print(train)\n",
    "print(test)"
   ]
  },
  {
   "cell_type": "markdown",
   "metadata": {},
   "source": [
    "# Expected outputs"
   ]
  },
  {
   "cell_type": "code",
   "execution_count": 7,
   "metadata": {
    "execution": {
     "iopub.execute_input": "2022-05-18T14:03:30.911105Z",
     "iopub.status.busy": "2022-05-18T14:03:30.909882Z",
     "iopub.status.idle": "2022-05-18T14:03:30.953545Z",
     "shell.execute_reply": "2022-05-18T14:03:30.952342Z"
    }
   },
   "outputs": [],
   "source": [
    "expected_output = []\n",
    "\n",
    "scaler = MinMaxScaler(feature_range=(-1, 1))\n",
    "_ = scaler.fit_transform(train.values.reshape(-1, 1))\n",
    "\n",
    "_train = train.copy()\n",
    "_test = test.copy()\n",
    "\n",
    "forecast = np.array([])\n",
    "\n",
    "for i in range(0, int(len(_test) / forecast_horizon) + 1):\n",
    "    model.eval()\n",
    "\n",
    "    inputs = _train.values.reshape(len(_train), 1)\n",
    "\n",
    "    inputs_normalized = scaler.transform(inputs)\n",
    "    inputs_normalized = torch.FloatTensor(inputs_normalized[-seq_length:]).to(device)\n",
    "\n",
    "    predict = model(inputs_normalized.reshape(1, 1, seq_length))\n",
    "    predict = scaler.inverse_transform(predict.cpu().detach().numpy())\n",
    "    forecast = np.append(forecast, predict)\n",
    "\n",
    "    for j in range(0, forecast_horizon):\n",
    "        if len(_test) > 0:\n",
    "            _train[_train.index[-1] + train.index.freq] = _test.iloc[0]\n",
    "            _test = _test.iloc[1:]\n",
    "\n",
    "expected_output = pd.Series(data=forecast[:len(test)], index=test.index)"
   ]
  },
  {
   "cell_type": "code",
   "execution_count": 8,
   "metadata": {
    "execution": {
     "iopub.execute_input": "2022-05-18T14:03:30.962170Z",
     "iopub.status.busy": "2022-05-18T14:03:30.960974Z",
     "iopub.status.idle": "2022-05-18T14:03:30.966893Z",
     "shell.execute_reply": "2022-05-18T14:03:30.965770Z"
    }
   },
   "outputs": [
    {
     "data": {
      "text/plain": [
       "Month\n",
       "1958-07-01    520.900879\n",
       "1958-08-01    527.536743\n",
       "1958-09-01    454.099304\n",
       "1958-10-01    375.765045\n",
       "1958-11-01    325.655273\n",
       "1958-12-01    362.828339\n",
       "1959-01-01    244.982925\n",
       "1959-02-01    316.782227\n",
       "1959-03-01    354.687958\n",
       "1959-04-01    313.899536\n",
       "1959-05-01    280.673553\n",
       "1959-06-01    373.962891\n",
       "1959-07-01    562.605774\n",
       "1959-08-01    556.341431\n",
       "1959-09-01    449.869019\n",
       "1959-10-01    368.655334\n",
       "1959-11-01    308.667419\n",
       "1959-12-01    356.108887\n",
       "1960-01-01     55.480961\n",
       "1960-02-01    200.349808\n",
       "1960-03-01    259.226257\n",
       "1960-04-01    169.851547\n",
       "1960-05-01     70.018166\n",
       "1960-06-01    179.222717\n",
       "1960-07-01    476.959808\n",
       "1960-08-01    497.164520\n",
       "1960-09-01    418.113251\n",
       "1960-10-01    345.942352\n",
       "1960-11-01    265.923157\n",
       "1960-12-01    358.050293\n",
       "Freq: MS, dtype: float64"
      ]
     },
     "execution_count": 8,
     "metadata": {},
     "output_type": "execute_result"
    }
   ],
   "source": [
    "expected_output"
   ]
  },
  {
   "cell_type": "code",
   "execution_count": 9,
   "metadata": {
    "execution": {
     "iopub.execute_input": "2022-05-18T14:03:30.974530Z",
     "iopub.status.busy": "2022-05-18T14:03:30.973323Z",
     "iopub.status.idle": "2022-05-18T14:03:30.978426Z",
     "shell.execute_reply": "2022-05-18T14:03:30.977288Z"
    },
    "tags": []
   },
   "outputs": [
    {
     "name": "stdout",
     "output_type": "stream",
     "text": [
      "AirlinePassengers\n",
      "MAE of model PINPOINT_2CONV, forecast horizon: 6: 108.68\n"
     ]
    }
   ],
   "source": [
    "print(experiment_name)\n",
    "print(f\"MAE of model {model}, forecast horizon: {forecast_horizon}: {round(mean_absolute_error(test, expected_output), 2)}\")"
   ]
  },
  {
   "cell_type": "markdown",
   "metadata": {
    "tags": []
   },
   "source": [
    "## Encode the models"
   ]
  },
  {
   "cell_type": "code",
   "execution_count": 10,
   "metadata": {
    "execution": {
     "iopub.execute_input": "2022-05-18T14:03:33.440273Z",
     "iopub.status.busy": "2022-05-18T14:03:33.439038Z",
     "iopub.status.idle": "2022-05-18T14:03:38.360226Z",
     "shell.execute_reply": "2022-05-18T14:03:38.358931Z"
    },
    "tags": []
   },
   "outputs": [],
   "source": [
    "HE = Pyfhel()    \n",
    "HE.contextGen(p=96155351715128, m=8192, intDigits=16, fracDigits=64) \n",
    "HE.keyGen()\n",
    "HE.relinKeyGen(30, 3)\n",
    "\n",
    "encoded_model = build_from_pytorch(HE, model.cpu().main)"
   ]
  },
  {
   "cell_type": "markdown",
   "metadata": {
    "tags": []
   },
   "source": [
    "# Encrypted processing"
   ]
  },
  {
   "cell_type": "code",
   "execution_count": 11,
   "metadata": {
    "execution": {
     "iopub.execute_input": "2022-05-18T14:03:39.045263Z",
     "iopub.status.busy": "2022-05-18T14:03:39.031105Z",
     "iopub.status.idle": "2022-05-18T14:13:52.242239Z",
     "shell.execute_reply": "2022-05-18T14:13:52.241034Z"
    },
    "tags": []
   },
   "outputs": [],
   "source": [
    "decrypted_output = None\n",
    "\n",
    "scaler = MinMaxScaler(feature_range=(-1, 1))\n",
    "_ = scaler.fit_transform(train.values.reshape(-1, 1))\n",
    "\n",
    "_train = train.copy()\n",
    "_test = test.copy()\n",
    "\n",
    "forecast = np.array([])\n",
    "\n",
    "for i in range(0, int(len(_test) / forecast_horizon) + 1):\n",
    "    inputs = _train.values.reshape(len(_train), 1)\n",
    "\n",
    "    inputs_normalized = scaler.transform(inputs)\n",
    "    inputs_normalized = inputs_normalized[-seq_length:].reshape(1, 1, seq_length)\n",
    "\n",
    "    encrypted_input = encrypt_matrix(HE, inputs_normalized)\n",
    "\n",
    "    for layer in encoded_model:\n",
    "        encrypted_input = layer(encrypted_input)\n",
    "    \n",
    "    _min = HE.encodeFrac(scaler.min_[0])\n",
    "    _scale = HE.encodeFrac(1.0 / scaler.scale_[0])\n",
    "    \n",
    "    encrypted_input = [list(map(lambda x: (x - _min)*_scale, encrypted_input[0]))]\n",
    "    predict = decrypt_matrix(HE, encrypted_input)\n",
    "\n",
    "    forecast = np.append(forecast, predict)\n",
    "\n",
    "    for j in range(0, forecast_horizon):\n",
    "        if len(_test) > 0:\n",
    "            _train[_train.index[-1] + train.index.freq] = _test.iloc[0]\n",
    "            _test = _test.iloc[1:]\n",
    "\n",
    "decrypted_output = pd.Series(data=forecast[:len(test)], index=test.index)"
   ]
  },
  {
   "cell_type": "code",
   "execution_count": 12,
   "metadata": {
    "execution": {
     "iopub.execute_input": "2022-05-18T14:13:52.251085Z",
     "iopub.status.busy": "2022-05-18T14:13:52.249902Z",
     "iopub.status.idle": "2022-05-18T14:13:52.257920Z",
     "shell.execute_reply": "2022-05-18T14:13:52.256692Z"
    }
   },
   "outputs": [
    {
     "data": {
      "text/plain": [
       "Month\n",
       "1958-07-01    520.900879\n",
       "1958-08-01    527.536743\n",
       "1958-09-01    454.099304\n",
       "1958-10-01    375.765045\n",
       "1958-11-01    325.655273\n",
       "1958-12-01    362.828339\n",
       "1959-01-01    244.982925\n",
       "1959-02-01    316.782227\n",
       "1959-03-01    354.687958\n",
       "1959-04-01    313.899536\n",
       "1959-05-01    280.673553\n",
       "1959-06-01    373.962891\n",
       "1959-07-01    562.605774\n",
       "1959-08-01    556.341431\n",
       "1959-09-01    449.869019\n",
       "1959-10-01    368.655334\n",
       "1959-11-01    308.667419\n",
       "1959-12-01    356.108887\n",
       "1960-01-01     55.480961\n",
       "1960-02-01    200.349808\n",
       "1960-03-01    259.226257\n",
       "1960-04-01    169.851547\n",
       "1960-05-01     70.018166\n",
       "1960-06-01    179.222717\n",
       "1960-07-01    476.959808\n",
       "1960-08-01    497.164520\n",
       "1960-09-01    418.113251\n",
       "1960-10-01    345.942352\n",
       "1960-11-01    265.923157\n",
       "1960-12-01    358.050293\n",
       "Freq: MS, dtype: float64"
      ]
     },
     "execution_count": 12,
     "metadata": {},
     "output_type": "execute_result"
    }
   ],
   "source": [
    "expected_output"
   ]
  },
  {
   "cell_type": "code",
   "execution_count": 13,
   "metadata": {
    "execution": {
     "iopub.execute_input": "2022-05-18T14:13:52.265923Z",
     "iopub.status.busy": "2022-05-18T14:13:52.264877Z",
     "iopub.status.idle": "2022-05-18T14:13:52.270890Z",
     "shell.execute_reply": "2022-05-18T14:13:52.269690Z"
    }
   },
   "outputs": [
    {
     "data": {
      "text/plain": [
       "Month\n",
       "1958-07-01    521.027980\n",
       "1958-08-01    527.565404\n",
       "1958-09-01    454.053700\n",
       "1958-10-01    375.776905\n",
       "1958-11-01    325.713254\n",
       "1958-12-01    362.837078\n",
       "1959-01-01    245.168526\n",
       "1959-02-01    316.849046\n",
       "1959-03-01    354.743142\n",
       "1959-04-01    314.094637\n",
       "1959-05-01    281.088428\n",
       "1959-06-01    374.355345\n",
       "1959-07-01    562.802133\n",
       "1959-08-01    556.443424\n",
       "1959-09-01    449.866680\n",
       "1959-10-01    368.710134\n",
       "1959-11-01    308.754827\n",
       "1959-12-01    356.150144\n",
       "1960-01-01     55.902891\n",
       "1960-02-01    200.731491\n",
       "1960-03-01    259.617279\n",
       "1960-04-01    170.707728\n",
       "1960-05-01     71.623759\n",
       "1960-06-01    180.796982\n",
       "1960-07-01    477.936130\n",
       "1960-08-01    498.060579\n",
       "1960-09-01    418.491198\n",
       "1960-10-01    346.357609\n",
       "1960-11-01    266.377915\n",
       "1960-12-01    358.474546\n",
       "Freq: MS, dtype: float64"
      ]
     },
     "execution_count": 13,
     "metadata": {},
     "output_type": "execute_result"
    }
   ],
   "source": [
    "decrypted_output"
   ]
  },
  {
   "cell_type": "code",
   "execution_count": 14,
   "metadata": {
    "execution": {
     "iopub.execute_input": "2022-05-18T14:13:52.280418Z",
     "iopub.status.busy": "2022-05-18T14:13:52.279245Z",
     "iopub.status.idle": "2022-05-18T14:13:52.286435Z",
     "shell.execute_reply": "2022-05-18T14:13:52.285219Z"
    }
   },
   "outputs": [
    {
     "name": "stdout",
     "output_type": "stream",
     "text": [
      "MAE of model PINPOINT_2CONV, forecast horizon: 6: 108.68\n",
      "MAE of model PINPOINT_2CONV used on encrypted inputs, forecast horizon: 6: 108.35\n"
     ]
    }
   ],
   "source": [
    "print(f\"MAE of model {model}, forecast horizon: {forecast_horizon}: {round(mean_absolute_error(test, expected_output), 2)}\")\n",
    "print(f\"MAE of model {model} used on encrypted inputs, forecast horizon: {forecast_horizon}: {round(mean_absolute_error(test, decrypted_output), 2)}\")"
   ]
  },
  {
   "cell_type": "markdown",
   "metadata": {},
   "source": [
    "Difference between expected and obtained on encrypted data:"
   ]
  },
  {
   "cell_type": "code",
   "execution_count": 15,
   "metadata": {
    "execution": {
     "iopub.execute_input": "2022-05-18T14:13:52.297812Z",
     "iopub.status.busy": "2022-05-18T14:13:52.296618Z",
     "iopub.status.idle": "2022-05-18T14:13:52.302284Z",
     "shell.execute_reply": "2022-05-18T14:13:52.301244Z"
    }
   },
   "outputs": [
    {
     "name": "stdout",
     "output_type": "stream",
     "text": [
      "Month\n",
      "1958-07-01   -0.127101\n",
      "1958-08-01   -0.028661\n",
      "1958-09-01    0.045604\n",
      "1958-10-01   -0.011860\n",
      "1958-11-01   -0.057981\n",
      "1958-12-01   -0.008740\n",
      "1959-01-01   -0.185600\n",
      "1959-02-01   -0.066819\n",
      "1959-03-01   -0.055184\n",
      "1959-04-01   -0.195101\n",
      "1959-05-01   -0.414875\n",
      "1959-06-01   -0.392455\n",
      "1959-07-01   -0.196359\n",
      "1959-08-01   -0.101994\n",
      "1959-09-01    0.002339\n",
      "1959-10-01   -0.054799\n",
      "1959-11-01   -0.087408\n",
      "1959-12-01   -0.041257\n",
      "1960-01-01   -0.421930\n",
      "1960-02-01   -0.381683\n",
      "1960-03-01   -0.391022\n",
      "1960-04-01   -0.856181\n",
      "1960-05-01   -1.605593\n",
      "1960-06-01   -1.574264\n",
      "1960-07-01   -0.976322\n",
      "1960-08-01   -0.896058\n",
      "1960-09-01   -0.377947\n",
      "1960-10-01   -0.415257\n",
      "1960-11-01   -0.454758\n",
      "1960-12-01   -0.424253\n",
      "Freq: MS, dtype: float64\n"
     ]
    }
   ],
   "source": [
    "print(expected_output - decrypted_output)"
   ]
  },
  {
   "cell_type": "code",
   "execution_count": null,
   "metadata": {},
   "outputs": [],
   "source": []
  }
 ],
 "metadata": {
  "accelerator": "GPU",
  "colab": {
   "collapsed_sections": [],
   "name": "Copia di TS_Exercises2_Planned.ipynb",
   "provenance": [
    {
     "file_id": "1W1_DAqrdw9AQrIWwZLPsGMRA8xDBAjKM",
     "timestamp": 1636703056169
    }
   ],
   "toc_visible": true
  },
  "kernelspec": {
   "display_name": "PINPOINT",
   "language": "python",
   "name": "pinpoint"
  },
  "language_info": {
   "codemirror_mode": {
    "name": "ipython",
    "version": 3
   },
   "file_extension": ".py",
   "mimetype": "text/x-python",
   "name": "python",
   "nbconvert_exporter": "python",
   "pygments_lexer": "ipython3",
   "version": "3.8.10"
  }
 },
 "nbformat": 4,
 "nbformat_minor": 4
}
